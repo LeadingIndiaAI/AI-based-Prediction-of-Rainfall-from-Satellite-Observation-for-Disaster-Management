{
  "nbformat": 4,
  "nbformat_minor": 0,
  "metadata": {
    "colab": {
      "name": "RainfallDifferentModels.ipynb",
      "provenance": [],
      "collapsed_sections": [],
      "toc_visible": true
    },
    "kernelspec": {
      "name": "python3",
      "display_name": "Python 3"
    },
    "accelerator": "GPU"
  },
  "cells": [
    {
      "cell_type": "code",
      "metadata": {
        "id": "x7aVnCM0jWeW",
        "colab_type": "code",
        "colab": {}
      },
      "source": [
        "import pandas as pd\n",
        "import numpy as np\n",
        "import matplotlib.pyplot as plt\n",
        "%matplotlib inline\n"
      ],
      "execution_count": 0,
      "outputs": []
    },
    {
      "cell_type": "code",
      "metadata": {
        "id": "MQko-x0qpaJK",
        "colab_type": "code",
        "colab": {}
      },
      "source": [
        "import warnings\n",
        "from keras import optimizers\n",
        "from keras.utils import plot_model\n",
        "from keras.models import Sequential, Model\n",
        "from keras.layers.convolutional import Conv1D, MaxPooling1D\n",
        "from keras.layers import Dense, LSTM, RepeatVector, TimeDistributed, Flatten,Dropout\n",
        "from keras.optimizers import SGD\n",
        "from sklearn.metrics import mean_squared_error\n",
        "from sklearn.model_selection import train_test_split\n",
        "from sklearn.preprocessing import StandardScaler,MinMaxScaler\n",
        "\n",
        "%matplotlib inline\n",
        "warnings.filterwarnings(\"ignore\")\n",
        "\n",
        "# Set seeds to make the experiment more reproducible.\n",
        "from tensorflow.compat.v1.random import set_random_seed\n",
        "from numpy.random import seed\n",
        "set_random_seed(1)\n",
        "seed(1)"
      ],
      "execution_count": 0,
      "outputs": []
    },
    {
      "cell_type": "code",
      "metadata": {
        "id": "YY4LtifPBYU0",
        "colab_type": "code",
        "colab": {}
      },
      "source": [
        "# multi headed multi-step cnn for the power usage dataset\n",
        "import tensorflow as tf\n",
        "from math import sqrt\n",
        "from numpy import split\n",
        "from numpy import mean\n",
        "from numpy import array\n",
        "from pandas import read_csv\n",
        "from sklearn.metrics import mean_squared_error\n",
        "from matplotlib import pyplot\n",
        "from keras.utils.vis_utils import plot_model\n",
        "from keras.layers import Dense\n",
        "from keras.layers import Flatten\n",
        "from keras.layers.convolutional import Conv1D\n",
        "from keras.layers.convolutional import MaxPooling1D\n",
        "from keras.models import Model\n",
        "from keras.layers import Input\n",
        "from keras.layers.merge import concatenate"
      ],
      "execution_count": 0,
      "outputs": []
    },
    {
      "cell_type": "code",
      "metadata": {
        "id": "aSOwveFPpjVm",
        "colab_type": "code",
        "outputId": "7e0fa9f7-2296-45bf-a3a0-616732b26199",
        "colab": {
          "base_uri": "https://localhost:8080/",
          "height": 84
        }
      },
      "source": [
        "df = pd.read_csv('/content/sample_data/climate_data2.csv',sep = ';')\n",
        "df.head()\n",
        "df.columns"
      ],
      "execution_count": 0,
      "outputs": [
        {
          "output_type": "execute_result",
          "data": {
            "text/plain": [
              "Index(['# Date', 'UT time', 'Temperature', 'Relative Humidity', 'Pressure',\n",
              "       'Wind speed', 'Wind direction', 'Rainfall', 'Snowfall', 'Snow depth',\n",
              "       'Short-wave irradiation'],\n",
              "      dtype='object')"
            ]
          },
          "metadata": {
            "tags": []
          },
          "execution_count": 24
        }
      ]
    },
    {
      "cell_type": "code",
      "metadata": {
        "id": "SeY2fjavqfjh",
        "colab_type": "code",
        "outputId": "cd986319-bc9e-463c-855d-4f2b9c12547b",
        "colab": {
          "base_uri": "https://localhost:8080/",
          "height": 34
        }
      },
      "source": [
        "dataset = pd.read_csv('/content/sample_data/climate_data2.csv',sep = ';',infer_datetime_format=True,header = 0, parse_dates=['# Date'], index_col=['# Date'])\n",
        "#dataset.head()\n",
        "type(dataset.index)"
      ],
      "execution_count": 0,
      "outputs": [
        {
          "output_type": "execute_result",
          "data": {
            "text/plain": [
              "pandas.core.indexes.datetimes.DatetimeIndex"
            ]
          },
          "metadata": {
            "tags": []
          },
          "execution_count": 4
        }
      ]
    },
    {
      "cell_type": "code",
      "metadata": {
        "id": "KD8OVypP3spA",
        "colab_type": "code",
        "outputId": "8850c514-c809-4d13-b284-95cf74ae9cac",
        "colab": {
          "base_uri": "https://localhost:8080/",
          "height": 326
        }
      },
      "source": [
        "dataset = pd.read_csv('/content/sample_data/climate_data2.csv',sep = ';',infer_datetime_format=True,header = 0, parse_dates=['# Date'])\n",
        "#dataset.head()\n",
        "dataset['# Date'] = pd.to_datetime(dataset['# Date'])\n",
        "dataset = dataset.set_index(\"# Date\")\n",
        "type(dataset.index)\n",
        "dataset.head()"
      ],
      "execution_count": 0,
      "outputs": [
        {
          "output_type": "execute_result",
          "data": {
            "text/html": [
              "<div>\n",
              "<style scoped>\n",
              "    .dataframe tbody tr th:only-of-type {\n",
              "        vertical-align: middle;\n",
              "    }\n",
              "\n",
              "    .dataframe tbody tr th {\n",
              "        vertical-align: top;\n",
              "    }\n",
              "\n",
              "    .dataframe thead th {\n",
              "        text-align: right;\n",
              "    }\n",
              "</style>\n",
              "<table border=\"1\" class=\"dataframe\">\n",
              "  <thead>\n",
              "    <tr style=\"text-align: right;\">\n",
              "      <th></th>\n",
              "      <th>UT time</th>\n",
              "      <th>Temperature</th>\n",
              "      <th>Relative Humidity</th>\n",
              "      <th>Pressure</th>\n",
              "      <th>Wind speed</th>\n",
              "      <th>Wind direction</th>\n",
              "      <th>Rainfall</th>\n",
              "      <th>Snowfall</th>\n",
              "      <th>Snow depth</th>\n",
              "      <th>Short-wave irradiation</th>\n",
              "    </tr>\n",
              "    <tr>\n",
              "      <th># Date</th>\n",
              "      <th></th>\n",
              "      <th></th>\n",
              "      <th></th>\n",
              "      <th></th>\n",
              "      <th></th>\n",
              "      <th></th>\n",
              "      <th></th>\n",
              "      <th></th>\n",
              "      <th></th>\n",
              "      <th></th>\n",
              "    </tr>\n",
              "  </thead>\n",
              "  <tbody>\n",
              "    <tr>\n",
              "      <th>1980-01-01</th>\n",
              "      <td>24:00</td>\n",
              "      <td>284.55</td>\n",
              "      <td>76.59</td>\n",
              "      <td>968.48</td>\n",
              "      <td>3.61</td>\n",
              "      <td>113.37</td>\n",
              "      <td>5.203010</td>\n",
              "      <td>0.4192</td>\n",
              "      <td>0.000396</td>\n",
              "      <td>2157.781</td>\n",
              "    </tr>\n",
              "    <tr>\n",
              "      <th>1980-01-02</th>\n",
              "      <td>24:00</td>\n",
              "      <td>284.81</td>\n",
              "      <td>56.53</td>\n",
              "      <td>971.38</td>\n",
              "      <td>1.07</td>\n",
              "      <td>62.33</td>\n",
              "      <td>0.140569</td>\n",
              "      <td>0.0000</td>\n",
              "      <td>0.000535</td>\n",
              "      <td>3758.814</td>\n",
              "    </tr>\n",
              "    <tr>\n",
              "      <th>1980-01-03</th>\n",
              "      <td>24:00</td>\n",
              "      <td>284.46</td>\n",
              "      <td>44.87</td>\n",
              "      <td>973.32</td>\n",
              "      <td>0.93</td>\n",
              "      <td>344.69</td>\n",
              "      <td>0.000000</td>\n",
              "      <td>0.0000</td>\n",
              "      <td>0.000280</td>\n",
              "      <td>4024.862</td>\n",
              "    </tr>\n",
              "    <tr>\n",
              "      <th>1980-01-04</th>\n",
              "      <td>24:00</td>\n",
              "      <td>285.08</td>\n",
              "      <td>37.16</td>\n",
              "      <td>974.53</td>\n",
              "      <td>0.26</td>\n",
              "      <td>317.64</td>\n",
              "      <td>0.000000</td>\n",
              "      <td>0.0000</td>\n",
              "      <td>0.000155</td>\n",
              "      <td>4109.105</td>\n",
              "    </tr>\n",
              "    <tr>\n",
              "      <th>1980-01-05</th>\n",
              "      <td>24:00</td>\n",
              "      <td>283.85</td>\n",
              "      <td>38.61</td>\n",
              "      <td>974.07</td>\n",
              "      <td>1.70</td>\n",
              "      <td>295.94</td>\n",
              "      <td>0.000000</td>\n",
              "      <td>0.0000</td>\n",
              "      <td>0.000071</td>\n",
              "      <td>4146.958</td>\n",
              "    </tr>\n",
              "  </tbody>\n",
              "</table>\n",
              "</div>"
            ],
            "text/plain": [
              "           UT time  Temperature  ...  Snow depth  Short-wave irradiation\n",
              "# Date                           ...                                    \n",
              "1980-01-01   24:00       284.55  ...    0.000396                2157.781\n",
              "1980-01-02   24:00       284.81  ...    0.000535                3758.814\n",
              "1980-01-03   24:00       284.46  ...    0.000280                4024.862\n",
              "1980-01-04   24:00       285.08  ...    0.000155                4109.105\n",
              "1980-01-05   24:00       283.85  ...    0.000071                4146.958\n",
              "\n",
              "[5 rows x 10 columns]"
            ]
          },
          "metadata": {
            "tags": []
          },
          "execution_count": 39
        }
      ]
    },
    {
      "cell_type": "code",
      "metadata": {
        "id": "4JHFK1aGwipe",
        "colab_type": "code",
        "outputId": "785f7929-d996-44a4-ffd7-5746028f3dfc",
        "colab": {
          "base_uri": "https://localhost:8080/",
          "height": 202
        }
      },
      "source": [
        "dataset.dtypes"
      ],
      "execution_count": 0,
      "outputs": [
        {
          "output_type": "execute_result",
          "data": {
            "text/plain": [
              "UT time                    object\n",
              "Temperature               float64\n",
              "Relative Humidity         float64\n",
              "Pressure                  float64\n",
              "Wind speed                float64\n",
              "Wind direction            float64\n",
              "Rainfall                  float64\n",
              "Snowfall                  float64\n",
              "Snow depth                float64\n",
              "Short-wave irradiation    float64\n",
              "dtype: object"
            ]
          },
          "metadata": {
            "tags": []
          },
          "execution_count": 5
        }
      ]
    },
    {
      "cell_type": "code",
      "metadata": {
        "id": "ZYlab4pWr5o-",
        "colab_type": "code",
        "outputId": "6fdfc17d-1956-4203-9cb2-11a2f45f3c3c",
        "colab": {
          "base_uri": "https://localhost:8080/",
          "height": 225
        }
      },
      "source": [
        "dataset = dataset[['Rainfall','Temperature','Relative Humidity','Pressure','Wind speed','Wind direction','Short-wave irradiation']]\n",
        "dataset.head()"
      ],
      "execution_count": 0,
      "outputs": [
        {
          "output_type": "execute_result",
          "data": {
            "text/html": [
              "<div>\n",
              "<style scoped>\n",
              "    .dataframe tbody tr th:only-of-type {\n",
              "        vertical-align: middle;\n",
              "    }\n",
              "\n",
              "    .dataframe tbody tr th {\n",
              "        vertical-align: top;\n",
              "    }\n",
              "\n",
              "    .dataframe thead th {\n",
              "        text-align: right;\n",
              "    }\n",
              "</style>\n",
              "<table border=\"1\" class=\"dataframe\">\n",
              "  <thead>\n",
              "    <tr style=\"text-align: right;\">\n",
              "      <th></th>\n",
              "      <th>Rainfall</th>\n",
              "      <th>Temperature</th>\n",
              "      <th>Relative Humidity</th>\n",
              "      <th>Pressure</th>\n",
              "      <th>Wind speed</th>\n",
              "      <th>Wind direction</th>\n",
              "      <th>Short-wave irradiation</th>\n",
              "    </tr>\n",
              "    <tr>\n",
              "      <th># Date</th>\n",
              "      <th></th>\n",
              "      <th></th>\n",
              "      <th></th>\n",
              "      <th></th>\n",
              "      <th></th>\n",
              "      <th></th>\n",
              "      <th></th>\n",
              "    </tr>\n",
              "  </thead>\n",
              "  <tbody>\n",
              "    <tr>\n",
              "      <th>1980-01-01</th>\n",
              "      <td>5.203010</td>\n",
              "      <td>284.55</td>\n",
              "      <td>76.59</td>\n",
              "      <td>968.48</td>\n",
              "      <td>3.61</td>\n",
              "      <td>113.37</td>\n",
              "      <td>2157.781</td>\n",
              "    </tr>\n",
              "    <tr>\n",
              "      <th>1980-01-02</th>\n",
              "      <td>0.140569</td>\n",
              "      <td>284.81</td>\n",
              "      <td>56.53</td>\n",
              "      <td>971.38</td>\n",
              "      <td>1.07</td>\n",
              "      <td>62.33</td>\n",
              "      <td>3758.814</td>\n",
              "    </tr>\n",
              "    <tr>\n",
              "      <th>1980-01-03</th>\n",
              "      <td>0.000000</td>\n",
              "      <td>284.46</td>\n",
              "      <td>44.87</td>\n",
              "      <td>973.32</td>\n",
              "      <td>0.93</td>\n",
              "      <td>344.69</td>\n",
              "      <td>4024.862</td>\n",
              "    </tr>\n",
              "    <tr>\n",
              "      <th>1980-01-04</th>\n",
              "      <td>0.000000</td>\n",
              "      <td>285.08</td>\n",
              "      <td>37.16</td>\n",
              "      <td>974.53</td>\n",
              "      <td>0.26</td>\n",
              "      <td>317.64</td>\n",
              "      <td>4109.105</td>\n",
              "    </tr>\n",
              "    <tr>\n",
              "      <th>1980-01-05</th>\n",
              "      <td>0.000000</td>\n",
              "      <td>283.85</td>\n",
              "      <td>38.61</td>\n",
              "      <td>974.07</td>\n",
              "      <td>1.70</td>\n",
              "      <td>295.94</td>\n",
              "      <td>4146.958</td>\n",
              "    </tr>\n",
              "  </tbody>\n",
              "</table>\n",
              "</div>"
            ],
            "text/plain": [
              "            Rainfall  Temperature  ...  Wind direction  Short-wave irradiation\n",
              "# Date                             ...                                        \n",
              "1980-01-01  5.203010       284.55  ...          113.37                2157.781\n",
              "1980-01-02  0.140569       284.81  ...           62.33                3758.814\n",
              "1980-01-03  0.000000       284.46  ...          344.69                4024.862\n",
              "1980-01-04  0.000000       285.08  ...          317.64                4109.105\n",
              "1980-01-05  0.000000       283.85  ...          295.94                4146.958\n",
              "\n",
              "[5 rows x 7 columns]"
            ]
          },
          "metadata": {
            "tags": []
          },
          "execution_count": 40
        }
      ]
    },
    {
      "cell_type": "code",
      "metadata": {
        "id": "H-ahhjcjsXC6",
        "colab_type": "code",
        "outputId": "e934c0bf-6ee3-474a-b60b-b06066531afd",
        "colab": {
          "base_uri": "https://localhost:8080/",
          "height": 34
        }
      },
      "source": [
        "dataset.shape"
      ],
      "execution_count": 0,
      "outputs": [
        {
          "output_type": "execute_result",
          "data": {
            "text/plain": [
              "(14701, 7)"
            ]
          },
          "metadata": {
            "tags": []
          },
          "execution_count": 6
        }
      ]
    },
    {
      "cell_type": "code",
      "metadata": {
        "id": "YAaT0VjdhLSx",
        "colab_type": "code",
        "outputId": "78e4b54b-37ab-4296-fac7-d9e54d058d2e",
        "colab": {
          "base_uri": "https://localhost:8080/",
          "height": 265
        }
      },
      "source": [
        "plt.plot(dataset['Rainfall'])\n",
        "plt.show()"
      ],
      "execution_count": 0,
      "outputs": [
        {
          "output_type": "display_data",
          "data": {
            "image/png": "[encoded data removed]",
            "text/plain": [
              "<Figure size 432x288 with 1 Axes>"
            ]
          },
          "metadata": {
            "tags": [],
            "needs_background": "light"
          }
        }
      ]
    },
    {
      "cell_type": "code",
      "metadata": {
        "id": "gnSNrKXVpnUl",
        "colab_type": "code",
        "colab": {}
      },
      "source": [
        "# split a univariate dataset into train/test sets\n",
        "def split_dataset(data):\n",
        "  # split into standard weeks\n",
        "  train, test = data[:-1480], data[-1480:]\n",
        "# restructure into windows of weekly data\n",
        "#train = array(split(train, len(train)/7))\n",
        "#test = array(split(test, len(test)/7))\n",
        "  return train, test\n",
        "\n",
        "\n",
        "\n"
      ],
      "execution_count": 0,
      "outputs": []
    },
    {
      "cell_type": "code",
      "metadata": {
        "id": "FsEegjwoyJm5",
        "colab_type": "code",
        "outputId": "3e12d81f-8a77-4164-b5e1-2f21afceb60c",
        "colab": {
          "base_uri": "https://localhost:8080/",
          "height": 34
        }
      },
      "source": [
        "train.shape"
      ],
      "execution_count": 0,
      "outputs": [
        {
          "output_type": "execute_result",
          "data": {
            "text/plain": [
              "(5916, 7)"
            ]
          },
          "metadata": {
            "tags": []
          },
          "execution_count": 28
        }
      ]
    },
    {
      "cell_type": "code",
      "metadata": {
        "id": "rOSglsMAv36M",
        "colab_type": "code",
        "colab": {}
      },
      "source": [
        "# evaluate one or more weekly forecasts against expected values\n",
        "def evaluate_forecasts(actual, predicted):\n",
        "  scores = list()\n",
        "  # calculate an RMSE score for each day\n",
        "  # calculate mse\n",
        "  mse = mean_squared_error(actual, predicted)\n",
        "  # calculate rmse\n",
        "  rmse = sqrt(mse)\n",
        "  # store\n",
        "  scores.append(rmse)\n",
        "  # calculate overall RMSE\n",
        "  #s = 0\n",
        "  #for row in range(actual.shape[0]):\n",
        "  #for col in range(actual.shape[1]):\n",
        "  #s += (actual[row, col] - predicted[row, col])**2\n",
        "  #score = sqrt(s / (actual.shape[0] * actual.shape[1]))\n",
        "  return scores\n",
        "\n",
        "# summarize scores\n",
        "def summarize_scores(name, score, scores):\n",
        "  s_scores = ', '.join(['%.1f' % s for s in scores])\n",
        "  print('%s: [%.3f] %s' % (name, score, s_scores))\n",
        "# convert history into inputs and outputs\n",
        "def to_supervised(train, n_input, n_out=1):\n",
        "  # flatten data\n",
        "  data = train.copy()\n",
        "  X, y = list(), list()\n",
        "  in_start = 0\n",
        "  # step over the entire history one time step at a time\n",
        "  for _ in range(len(data)):\n",
        "    # define the end of the input sequence\n",
        "    in_end = in_start + n_input\n",
        "    out_end = in_end + n_out\n",
        "    # ensure we have enough data for this instance\n",
        "    if out_end <= len(data):\n",
        "      X.append(data[in_start:in_end, :])\n",
        "      y.append(data[in_end:out_end, 0])\n",
        "    # move along one time step\n",
        "    in_start += 1\n",
        "  return array(X), array(y)\n",
        "# train the model\n",
        "def build_model(train, n_input):\n",
        "  # prepare data\n",
        "  train_x, train_y = to_supervised(train, n_input)\n",
        "  # define parameters\n",
        "  verbose, epochs, batch_size = 0, 100, 8\n",
        "  n_timesteps, n_features, n_outputs = train_x.shape[1], train_x.shape[2], train_y.shape[1]\n",
        "  # define model\n",
        "  model = Sequential()\n",
        "  model.add(Conv1D(32, 3, activation='relu', input_shape=(n_timesteps,n_features)))\n",
        "  model.add(Conv1D(32, 3, activation='relu'))\n",
        "  model.add(MaxPooling1D())\n",
        "  model.add(Conv1D(16, 3, activation='relu'))\n",
        "  model.add(MaxPooling1D())\n",
        "  model.add(Flatten())\n",
        "  model.add(Dense(100, activation='relu'))\n",
        "  model.add(Dense(n_outputs))\n",
        "  model.compile(loss='mse', optimizer='adam',metrics = ['accuracy'])\n",
        "  # fit network\n",
        "  model_history = model.fit(train_x, train_y, epochs=epochs, batch_size=batch_size, verbose=verbose)\n",
        "  return model,model_history\n",
        "# make a forecast\n",
        "def forecast(model, history, n_input):\n",
        "  # flatten data\n",
        "  data = array(history)\n",
        "  #data = data.reshape((data.shape[0]*data.shape[1], data.shape[2]))\n",
        "  # retrieve last observations for input data\n",
        "  input_x = data[-n_input:, :]\n",
        "  # reshape into [1, n_input, n]\n",
        "  input_x = input_x.reshape((1, input_x.shape[0], input_x.shape[1]))\n",
        "  # forecast the next week\n",
        "  yhat = model.predict(input_x, verbose=0)\n",
        "  # we only want the vector forecast\n",
        "  yhat = yhat[0]\n",
        "  return yhat\n",
        "# evaluate a single model\n",
        "def evaluate_model(train, test, n_input):\n",
        "  # fit model\n",
        "  model,model_history = build_model(train, n_input)\n",
        "  # history is a list of weekly data\n",
        "  history = [x for x in train]\n",
        "  # walk-forward validation over each week\n",
        "  predictions = list()\n",
        "  for i in range(len(test)):\n",
        "    # predict the week\n",
        "    yhat_sequence = forecast(model, history, n_input)\n",
        "    # store the predictions\n",
        "    predictions.append(yhat_sequence)\n",
        "    # get real observation and add to history for predicting the next week\n",
        "    history.append(test[i, :])\n",
        "  # evaluate predictions days for each week\n",
        "  predictions = array(predictions)\n",
        "  scores = evaluate_forecasts(test[:,0], predictions)\n",
        "  return scores,model_history"
      ],
      "execution_count": 0,
      "outputs": []
    },
    {
      "cell_type": "code",
      "metadata": {
        "id": "xmLU6Z0W_x4M",
        "colab_type": "code",
        "outputId": "d96d0531-760a-4151-f1f6-b683e6c5c47c",
        "colab": {
          "base_uri": "https://localhost:8080/",
          "height": 370
        }
      },
      "source": [
        "# load the new file\n",
        "#dataset = read_csv('household_power_consumption_days.csv', header=0,\n",
        "#infer_datetime_format=True, parse_dates=['datetime'], index_col=['datetime'])\n",
        "# split into train and test\n",
        "train, test = split_dataset(dataset.values)\n",
        "# evaluate model and get scores\n",
        "n_input = 7\n",
        "scores,model_history = evaluate_model(train, test, n_input)\n",
        "# summarize scores\n",
        "#summarize_scores('cnn', score, scores)\n",
        "# plot scores\n",
        "#days = ['sun', 'mon', 'tue', 'wed', 'thr', 'fri', 'sat']\n",
        "#pyplot.plot(days, scores, marker='o', label='cnn')\n",
        "#pyplot.show()"
      ],
      "execution_count": 0,
      "outputs": [
        {
          "output_type": "error",
          "ename": "KeyboardInterrupt",
          "evalue": "ignored",
          "traceback": [
            "\u001b[0;31m---------------------------------------------------------------------------\u001b[0m",
            "\u001b[0;31mKeyboardInterrupt\u001b[0m                         Traceback (most recent call last)",
            "\u001b[0;32m<ipython-input-25-b9dda87f28e8>\u001b[0m in \u001b[0;36m<module>\u001b[0;34m()\u001b[0m\n\u001b[1;32m      6\u001b[0m \u001b[0;31m# evaluate model and get scores\u001b[0m\u001b[0;34m\u001b[0m\u001b[0;34m\u001b[0m\u001b[0;34m\u001b[0m\u001b[0m\n\u001b[1;32m      7\u001b[0m \u001b[0mn_input\u001b[0m \u001b[0;34m=\u001b[0m \u001b[0;36m7\u001b[0m\u001b[0;34m\u001b[0m\u001b[0;34m\u001b[0m\u001b[0m\n\u001b[0;32m----> 8\u001b[0;31m \u001b[0mscores\u001b[0m\u001b[0;34m,\u001b[0m\u001b[0mmodel_history\u001b[0m \u001b[0;34m=\u001b[0m \u001b[0mevaluate_model\u001b[0m\u001b[0;34m(\u001b[0m\u001b[0mtrain\u001b[0m\u001b[0;34m,\u001b[0m \u001b[0mtest\u001b[0m\u001b[0;34m,\u001b[0m \u001b[0mn_input\u001b[0m\u001b[0;34m)\u001b[0m\u001b[0;34m\u001b[0m\u001b[0;34m\u001b[0m\u001b[0m\n\u001b[0m\u001b[1;32m      9\u001b[0m \u001b[0;31m# summarize scores\u001b[0m\u001b[0;34m\u001b[0m\u001b[0;34m\u001b[0m\u001b[0;34m\u001b[0m\u001b[0m\n\u001b[1;32m     10\u001b[0m \u001b[0;31m#summarize_scores('cnn', score, scores)\u001b[0m\u001b[0;34m\u001b[0m\u001b[0;34m\u001b[0m\u001b[0;34m\u001b[0m\u001b[0m\n",
            "\u001b[0;32m<ipython-input-22-161de845b6b7>\u001b[0m in \u001b[0;36mevaluate_model\u001b[0;34m(train, test, n_input)\u001b[0m\n\u001b[1;32m    123\u001b[0m   \u001b[0;32mfor\u001b[0m \u001b[0mi\u001b[0m \u001b[0;32min\u001b[0m \u001b[0mrange\u001b[0m\u001b[0;34m(\u001b[0m\u001b[0mlen\u001b[0m\u001b[0;34m(\u001b[0m\u001b[0mtest\u001b[0m\u001b[0;34m)\u001b[0m\u001b[0;34m)\u001b[0m\u001b[0;34m:\u001b[0m\u001b[0;34m\u001b[0m\u001b[0;34m\u001b[0m\u001b[0m\n\u001b[1;32m    124\u001b[0m     \u001b[0;31m# predict the week\u001b[0m\u001b[0;34m\u001b[0m\u001b[0;34m\u001b[0m\u001b[0;34m\u001b[0m\u001b[0m\n\u001b[0;32m--> 125\u001b[0;31m     \u001b[0myhat_sequence\u001b[0m \u001b[0;34m=\u001b[0m \u001b[0mforecast\u001b[0m\u001b[0;34m(\u001b[0m\u001b[0mmodel\u001b[0m\u001b[0;34m,\u001b[0m \u001b[0mhistory\u001b[0m\u001b[0;34m,\u001b[0m \u001b[0mn_input\u001b[0m\u001b[0;34m)\u001b[0m\u001b[0;34m\u001b[0m\u001b[0;34m\u001b[0m\u001b[0m\n\u001b[0m\u001b[1;32m    126\u001b[0m     \u001b[0;31m# store the predictions\u001b[0m\u001b[0;34m\u001b[0m\u001b[0;34m\u001b[0m\u001b[0;34m\u001b[0m\u001b[0m\n\u001b[1;32m    127\u001b[0m     \u001b[0mpredictions\u001b[0m\u001b[0;34m.\u001b[0m\u001b[0mappend\u001b[0m\u001b[0;34m(\u001b[0m\u001b[0myhat_sequence\u001b[0m\u001b[0;34m)\u001b[0m\u001b[0;34m\u001b[0m\u001b[0;34m\u001b[0m\u001b[0m\n",
            "\u001b[0;32m<ipython-input-22-161de845b6b7>\u001b[0m in \u001b[0;36mforecast\u001b[0;34m(model, history, n_input)\u001b[0m\n\u001b[1;32m    108\u001b[0m   \u001b[0minput_x\u001b[0m \u001b[0;34m=\u001b[0m \u001b[0;34m[\u001b[0m\u001b[0minput_x\u001b[0m\u001b[0;34m[\u001b[0m\u001b[0;34m:\u001b[0m\u001b[0;34m,\u001b[0m\u001b[0mi\u001b[0m\u001b[0;34m]\u001b[0m\u001b[0;34m.\u001b[0m\u001b[0mreshape\u001b[0m\u001b[0;34m(\u001b[0m\u001b[0;34m(\u001b[0m\u001b[0;36m1\u001b[0m\u001b[0;34m,\u001b[0m\u001b[0minput_x\u001b[0m\u001b[0;34m.\u001b[0m\u001b[0mshape\u001b[0m\u001b[0;34m[\u001b[0m\u001b[0;36m0\u001b[0m\u001b[0;34m]\u001b[0m\u001b[0;34m,\u001b[0m\u001b[0;36m1\u001b[0m\u001b[0;34m)\u001b[0m\u001b[0;34m)\u001b[0m \u001b[0;32mfor\u001b[0m \u001b[0mi\u001b[0m \u001b[0;32min\u001b[0m \u001b[0mrange\u001b[0m\u001b[0;34m(\u001b[0m\u001b[0minput_x\u001b[0m\u001b[0;34m.\u001b[0m\u001b[0mshape\u001b[0m\u001b[0;34m[\u001b[0m\u001b[0;36m1\u001b[0m\u001b[0;34m]\u001b[0m\u001b[0;34m)\u001b[0m\u001b[0;34m]\u001b[0m\u001b[0;34m\u001b[0m\u001b[0;34m\u001b[0m\u001b[0m\n\u001b[1;32m    109\u001b[0m   \u001b[0;31m# forecast the next week\u001b[0m\u001b[0;34m\u001b[0m\u001b[0;34m\u001b[0m\u001b[0;34m\u001b[0m\u001b[0m\n\u001b[0;32m--> 110\u001b[0;31m   \u001b[0myhat\u001b[0m \u001b[0;34m=\u001b[0m \u001b[0mmodel\u001b[0m\u001b[0;34m.\u001b[0m\u001b[0mpredict\u001b[0m\u001b[0;34m(\u001b[0m\u001b[0minput_x\u001b[0m\u001b[0;34m,\u001b[0m \u001b[0mverbose\u001b[0m\u001b[0;34m=\u001b[0m\u001b[0;36m0\u001b[0m\u001b[0;34m)\u001b[0m\u001b[0;34m\u001b[0m\u001b[0;34m\u001b[0m\u001b[0m\n\u001b[0m\u001b[1;32m    111\u001b[0m   \u001b[0;31m# we only want the vector forecast\u001b[0m\u001b[0;34m\u001b[0m\u001b[0;34m\u001b[0m\u001b[0;34m\u001b[0m\u001b[0m\n\u001b[1;32m    112\u001b[0m   \u001b[0myhat\u001b[0m \u001b[0;34m=\u001b[0m \u001b[0myhat\u001b[0m\u001b[0;34m[\u001b[0m\u001b[0;36m0\u001b[0m\u001b[0;34m]\u001b[0m\u001b[0;34m\u001b[0m\u001b[0;34m\u001b[0m\u001b[0m\n",
            "\u001b[0;32m/usr/local/lib/python3.6/dist-packages/keras/engine/training.py\u001b[0m in \u001b[0;36mpredict\u001b[0;34m(self, x, batch_size, verbose, steps, callbacks, max_queue_size, workers, use_multiprocessing)\u001b[0m\n\u001b[1;32m   1450\u001b[0m \u001b[0;34m\u001b[0m\u001b[0m\n\u001b[1;32m   1451\u001b[0m         \u001b[0;31m# Prepare inputs, delegate logic to `predict_loop`.\u001b[0m\u001b[0;34m\u001b[0m\u001b[0;34m\u001b[0m\u001b[0;34m\u001b[0m\u001b[0m\n\u001b[0;32m-> 1452\u001b[0;31m         \u001b[0;32mif\u001b[0m \u001b[0mself\u001b[0m\u001b[0;34m.\u001b[0m\u001b[0m_uses_dynamic_learning_phase\u001b[0m\u001b[0;34m(\u001b[0m\u001b[0;34m)\u001b[0m\u001b[0;34m:\u001b[0m\u001b[0;34m\u001b[0m\u001b[0;34m\u001b[0m\u001b[0m\n\u001b[0m\u001b[1;32m   1453\u001b[0m             \u001b[0mins\u001b[0m \u001b[0;34m=\u001b[0m \u001b[0mx\u001b[0m \u001b[0;34m+\u001b[0m \u001b[0;34m[\u001b[0m\u001b[0;36m0\u001b[0m\u001b[0;34m]\u001b[0m\u001b[0;34m\u001b[0m\u001b[0;34m\u001b[0m\u001b[0m\n\u001b[1;32m   1454\u001b[0m         \u001b[0;32melse\u001b[0m\u001b[0;34m:\u001b[0m\u001b[0;34m\u001b[0m\u001b[0;34m\u001b[0m\u001b[0m\n",
            "\u001b[0;32m/usr/local/lib/python3.6/dist-packages/keras/engine/training.py\u001b[0m in \u001b[0;36m_uses_dynamic_learning_phase\u001b[0;34m(self)\u001b[0m\n\u001b[1;32m    379\u001b[0m \u001b[0;34m\u001b[0m\u001b[0m\n\u001b[1;32m    380\u001b[0m     \u001b[0;32mdef\u001b[0m \u001b[0m_uses_dynamic_learning_phase\u001b[0m\u001b[0;34m(\u001b[0m\u001b[0mself\u001b[0m\u001b[0;34m)\u001b[0m\u001b[0;34m:\u001b[0m\u001b[0;34m\u001b[0m\u001b[0;34m\u001b[0m\u001b[0m\n\u001b[0;32m--> 381\u001b[0;31m         return (self.uses_learning_phase and\n\u001b[0m\u001b[1;32m    382\u001b[0m                 not isinstance(K.learning_phase(), int))\n\u001b[1;32m    383\u001b[0m \u001b[0;34m\u001b[0m\u001b[0m\n",
            "\u001b[0;32m/usr/local/lib/python3.6/dist-packages/keras/engine/network.py\u001b[0m in \u001b[0;36muses_learning_phase\u001b[0;34m(self)\u001b[0m\n\u001b[1;32m    441\u001b[0m     \u001b[0;34m@\u001b[0m\u001b[0mproperty\u001b[0m\u001b[0;34m\u001b[0m\u001b[0;34m\u001b[0m\u001b[0m\n\u001b[1;32m    442\u001b[0m     \u001b[0;32mdef\u001b[0m \u001b[0muses_learning_phase\u001b[0m\u001b[0;34m(\u001b[0m\u001b[0mself\u001b[0m\u001b[0;34m)\u001b[0m\u001b[0;34m:\u001b[0m\u001b[0;34m\u001b[0m\u001b[0;34m\u001b[0m\u001b[0m\n\u001b[0;32m--> 443\u001b[0;31m         \u001b[0;32mif\u001b[0m \u001b[0;32mnot\u001b[0m \u001b[0mself\u001b[0m\u001b[0;34m.\u001b[0m\u001b[0moutputs\u001b[0m\u001b[0;34m:\u001b[0m\u001b[0;34m\u001b[0m\u001b[0;34m\u001b[0m\u001b[0m\n\u001b[0m\u001b[1;32m    444\u001b[0m             \u001b[0;32mreturn\u001b[0m \u001b[0;32mFalse\u001b[0m\u001b[0;34m\u001b[0m\u001b[0;34m\u001b[0m\u001b[0m\n\u001b[1;32m    445\u001b[0m         \u001b[0;32mreturn\u001b[0m \u001b[0many\u001b[0m\u001b[0;34m(\u001b[0m\u001b[0;34m[\u001b[0m\u001b[0mx\u001b[0m\u001b[0;34m.\u001b[0m\u001b[0m_uses_learning_phase\u001b[0m \u001b[0;32mfor\u001b[0m \u001b[0mx\u001b[0m \u001b[0;32min\u001b[0m \u001b[0mself\u001b[0m\u001b[0;34m.\u001b[0m\u001b[0moutputs\u001b[0m\u001b[0;34m]\u001b[0m\u001b[0;34m)\u001b[0m\u001b[0;34m\u001b[0m\u001b[0;34m\u001b[0m\u001b[0m\n",
            "\u001b[0;31mKeyboardInterrupt\u001b[0m: "
          ]
        }
      ]
    },
    {
      "cell_type": "code",
      "metadata": {
        "id": "-lxln9r5A19V",
        "colab_type": "code",
        "outputId": "59a17608-5f56-4af4-c5ff-17484b5b81f0",
        "colab": {
          "base_uri": "https://localhost:8080/",
          "height": 34
        }
      },
      "source": [
        "print(scores)"
      ],
      "execution_count": 0,
      "outputs": [
        {
          "output_type": "stream",
          "text": [
            "[8.07657252918383]\n"
          ],
          "name": "stdout"
        }
      ]
    },
    {
      "cell_type": "code",
      "metadata": {
        "id": "CUB7qvmTCjmq",
        "colab_type": "code",
        "outputId": "e613ce0b-f706-4cea-80da-c21934b65245",
        "colab": {
          "base_uri": "https://localhost:8080/",
          "height": 1000
        }
      },
      "source": [
        "model_history.history"
      ],
      "execution_count": 0,
      "outputs": [
        {
          "output_type": "execute_result",
          "data": {
            "text/plain": [
              "{'accuracy': [0.021820027,\n",
              "  0.058525033,\n",
              "  0.072733425,\n",
              "  0.0,\n",
              "  0.0,\n",
              "  0.0,\n",
              "  0.0,\n",
              "  0.0,\n",
              "  0.0,\n",
              "  0.0,\n",
              "  0.0,\n",
              "  0.0,\n",
              "  0.0,\n",
              "  0.0,\n",
              "  0.0,\n",
              "  0.0,\n",
              "  0.0,\n",
              "  0.0,\n",
              "  0.0,\n",
              "  0.0,\n",
              "  0.0,\n",
              "  0.0,\n",
              "  0.0,\n",
              "  0.0,\n",
              "  0.0,\n",
              "  0.0,\n",
              "  0.0,\n",
              "  0.0,\n",
              "  0.0,\n",
              "  0.0,\n",
              "  0.0,\n",
              "  0.0,\n",
              "  0.0,\n",
              "  0.0,\n",
              "  0.0,\n",
              "  0.0,\n",
              "  0.0,\n",
              "  0.0,\n",
              "  0.0,\n",
              "  0.0,\n",
              "  0.0,\n",
              "  0.0,\n",
              "  0.0,\n",
              "  0.0,\n",
              "  0.0,\n",
              "  0.0,\n",
              "  0.0,\n",
              "  0.0,\n",
              "  0.0,\n",
              "  0.0,\n",
              "  0.0,\n",
              "  0.0,\n",
              "  0.0,\n",
              "  0.0,\n",
              "  0.0,\n",
              "  0.0,\n",
              "  0.0,\n",
              "  0.0,\n",
              "  0.0,\n",
              "  0.0,\n",
              "  0.0,\n",
              "  0.0,\n",
              "  0.0,\n",
              "  0.0,\n",
              "  0.0,\n",
              "  0.0,\n",
              "  0.0,\n",
              "  0.0,\n",
              "  0.0,\n",
              "  0.0],\n",
              " 'loss': [215.52297802148476,\n",
              "  93.96402772897697,\n",
              "  83.06804857517974,\n",
              "  84.76928584485319,\n",
              "  84.94495597590613,\n",
              "  85.48685438336152,\n",
              "  85.20915102103727,\n",
              "  85.12729312021774,\n",
              "  85.13299272726611,\n",
              "  85.16105549349997,\n",
              "  85.1596332040788,\n",
              "  85.18132590441,\n",
              "  85.17147994509247,\n",
              "  85.17968667964973,\n",
              "  85.10849403246168,\n",
              "  85.17951186769547,\n",
              "  85.203199535326,\n",
              "  85.15836667804821,\n",
              "  85.18224238825103,\n",
              "  85.18530653737717,\n",
              "  85.16408881024837,\n",
              "  85.17752772150246,\n",
              "  85.15227776927135,\n",
              "  85.18124344384395,\n",
              "  85.16198916807872,\n",
              "  85.13009296266894,\n",
              "  85.17075164505206,\n",
              "  85.15764853499417,\n",
              "  85.1747227311941,\n",
              "  85.16235455455251,\n",
              "  85.1925526231487,\n",
              "  85.1626025386689,\n",
              "  85.17613469618745,\n",
              "  85.17946941700937,\n",
              "  85.16732952139859,\n",
              "  85.1652444046147,\n",
              "  85.15753275454448,\n",
              "  85.17904967349905,\n",
              "  85.17845337558664,\n",
              "  85.17919638244805,\n",
              "  85.17061809144904,\n",
              "  85.15373587152632,\n",
              "  85.17809338740632,\n",
              "  85.17273845587113,\n",
              "  85.15636569495453,\n",
              "  85.1796266868892,\n",
              "  85.17854396537128,\n",
              "  85.17906052164521,\n",
              "  85.18183899304863,\n",
              "  85.15895136533474,\n",
              "  85.17607912667226,\n",
              "  85.17091813477838,\n",
              "  85.1566115574198,\n",
              "  85.18050338910624,\n",
              "  85.17021472487947,\n",
              "  85.17993157085772,\n",
              "  85.16911022298552,\n",
              "  85.15816907747995,\n",
              "  85.16264683080784,\n",
              "  85.16375110630092,\n",
              "  85.14665761077839,\n",
              "  85.18421104094656,\n",
              "  85.15885003130877,\n",
              "  85.16655505159227,\n",
              "  85.15653427044013,\n",
              "  85.19439075699678,\n",
              "  85.17378347297483,\n",
              "  85.13653772875807,\n",
              "  85.17355385459001,\n",
              "  85.14342803803446]}"
            ]
          },
          "metadata": {
            "tags": []
          },
          "execution_count": 62
        }
      ]
    },
    {
      "cell_type": "markdown",
      "metadata": {
        "id": "sb5bek1ikraN",
        "colab_type": "text"
      },
      "source": [
        "# *mutli-headed cnn model*"
      ]
    },
    {
      "cell_type": "code",
      "metadata": {
        "id": "xLAUAG2TkqWY",
        "colab_type": "code",
        "colab": {}
      },
      "source": [
        "# split a univariate dataset into train/test sets\n",
        "def split_dataset(data):\n",
        "  scaler = StandardScaler()\n",
        "  scaler.fit(data[:12573])\n",
        "  #mean = data[:12573].mean(axis=0)\n",
        "  #data -= mean\n",
        "  #std = data[:22573].std(axis=0)\n",
        "  #data /= std\n",
        "  train, test= data[:-730], data[-730:]\n",
        "  train = scaler.transform(train)\n",
        "  test = scaler.transform(test)\n",
        "  return train,test,scaler\n",
        "\n",
        "# evaluate forecasts against expected values\n",
        "def evaluate_forecasts(actual, predicted):\n",
        "  scores = list()\n",
        "  mse = mean_squared_error(actual, predicted)\n",
        "  # calculate rmse\n",
        "  rmse = sqrt(mse)\n",
        "  # store\n",
        "  scores.append(rmse)\n",
        "  return scores\n",
        "\n",
        "# summarize scores\n",
        "#def summarize_scores(name, score, scores):\n",
        " # s_scores = ', '.join(['%.1f' % s for s in scores])\n",
        "  #print('%s: [%.3f] %s' % (name, score, s_scores))\n",
        "# convert history into inputs and outputs\n",
        "def to_supervised(train, n_input, n_out=1):\n",
        "  # flatten data\n",
        "  data = train.copy()\n",
        "  X, y = list(), list()\n",
        "  in_start = 0\n",
        "  # step over the entire history one time step at a time\n",
        "  for _ in range(len(data)):\n",
        "    # define the end of the input sequence\n",
        "    in_end = in_start + n_input\n",
        "    out_end = in_end + n_out\n",
        "    # ensure we have enough data for this instance\n",
        "    if out_end <= len(data):\n",
        "      X.append(data[in_start:in_end, :])\n",
        "      y.append(data[in_end:out_end, 0])\n",
        "    # move along one time step\n",
        "    in_start += 1\n",
        "  return array(X), array(y)\n",
        "# plot training history\n",
        "def plot_history(history):\n",
        "  # plot loss\n",
        "  pyplot.subplot(2, 1, 1)\n",
        "  pyplot.plot(history.history['loss'], label='train')\n",
        "  pyplot.plot(history.history['val_loss'], label='test')\n",
        "  pyplot.title('loss', y=0, loc='center')\n",
        "  pyplot.legend()\n",
        "  # plot rmse\n",
        "  pyplot.subplot(2, 1, 2)\n",
        "  pyplot.plot(history.history['root_mean_squared_error'], label='train')\n",
        "  pyplot.plot(history.history['val_root_mean_squared_error'], label='test')\n",
        "  pyplot.title('rmse', y=0, loc='center')\n",
        "  pyplot.legend()\n",
        "  pyplot.show()\n",
        "# train the model\n",
        "def build_model(train,cfg):\n",
        "  # prepare data\n",
        "  n_input,n_filters,n_kernels,n_epochs,n_batch,n_diff,drop = cfg\n",
        "  train_x, train_y = to_supervised(train, n_input)\n",
        "  #train_x,valid_x,train_y,valid_y = train_test_split(train_x,train_y,test_size = 0.1,shuffle = False)\n",
        "  # define parameters\n",
        "  n_timesteps, n_features, n_outputs = train_x.shape[1], train_x.shape[2], train_y.shape[1]\n",
        "  # create a channel for each variable\n",
        "  in_layers, out_layers = list(), list()\n",
        "  for _ in range(n_features):\n",
        "    inputs = Input(shape=(n_timesteps,1))\n",
        "    conv1 = Conv1D(n_filters, n_kernels, activation='relu')(inputs)\n",
        "    drop1 = Dropout(drop)\n",
        "    conv2 = Conv1D(n_filters, n_kernels, activation='relu')(conv1)\n",
        "    drop2 = Dropout(drop)\n",
        "    pool1 = MaxPooling1D()(conv2)\n",
        "    flat = Flatten()(pool1)\n",
        "    # store layers\n",
        "    in_layers.append(inputs)\n",
        "    out_layers.append(flat)\n",
        "  # merge heads\n",
        "  merged = concatenate(out_layers)\n",
        "  # interpretation\n",
        "  dense1 = Dense(200, activation='relu')(merged)\n",
        "  dense2 = Dense(100, activation='relu')(dense1)\n",
        "  outputs = Dense(n_outputs)(dense2)\n",
        "  model = Model(inputs=in_layers, outputs=outputs)\n",
        "  # compile model\n",
        "  model.compile(loss='mse', optimizer='adam',metrics=[tf.keras.metrics.RootMeanSquaredError(),tf.keras.metrics.MeanAbsolutePercentageError()])\n",
        "  # plot the model\n",
        "  plot_model(model, show_shapes=True, to_file='multiheaded_cnn'+str(cfg) +'.png')\n",
        "  # fit network\n",
        "  input_data = [train_x[:,:,i].reshape((train_x.shape[0],n_timesteps,1)) for i in\n",
        "  range(n_features)]\n",
        "  #valid_data = [valid_x[:,:,i].reshape((valid_x.shape[0],n_timesteps,1)) for i in\n",
        "  #range(n_features)]\n",
        "  model_history = model.fit(input_data, train_y, epochs=n_epochs, batch_size= None, validation_split = 0.1,verbose=0,\n",
        "                            steps_per_epoch=(len(train_x)//n_batch),validation_steps = (int(len(train_x)*0.1)//n_batch))\n",
        "  return model,model_history\n",
        "\n",
        "# make a forecast\n",
        "def forecast(model, history, cfg):\n",
        "  # flatten data\n",
        "  data = array(history)\n",
        "  # retrieve last observations for input data\n",
        "  n_input,_,_,_,_,_ ,_= cfg\n",
        "  input_x = data[-n_input:, :]\n",
        "  # reshape into n input arrays\n",
        "  input_x = [input_x[:,i].reshape((1,input_x.shape[0],1)) for i in range(input_x.shape[1])]\n",
        "  # forecast the next day\n",
        "  yhat = model.predict(input_x, verbose=0)\n",
        "  # we only want the vector forecast\n",
        "  yhat = yhat[0]\n",
        "  return yhat\n",
        "\n",
        "# evaluate a single model\n",
        "def evaluate_model(train,test, cfg):\n",
        "  # fit model\n",
        "  model,model_history = build_model(train,cfg)\n",
        "  # history is a list of train data\n",
        "  history = [x for x in train]\n",
        "  # walk-forward validation over each day\n",
        "  predictions = list()\n",
        "  for i in range(len(test)):\n",
        "    # predict the day\n",
        "    yhat_sequence = forecast(model, history,cfg)\n",
        "    # store the predictions\n",
        "    predictions.append(yhat_sequence)\n",
        "    # get real observation and add to history for predicting the next day\n",
        "    history.append(test[i, :])\n",
        "  # evaluate predictions for each day\n",
        "  predictions = array(predictions)\n",
        "  scores = evaluate_forecasts(test[:,0], predictions)\n",
        "  return scores,model_history,predictions\n",
        "# score a model, return None on failure\n",
        "def repeat_evaluate(train,test,cfg,n_repeats=1):\n",
        "  # convert config to a key\n",
        "  key = str(cfg)\n",
        "  # fit and evaluate the model n times\n",
        "  result = []\n",
        "  for i in range(n_repeats):\n",
        "    if i == (n_repeats-1):\n",
        "      scores,model_history,predictions = evaluate_model(train,test,cfg) \n",
        "      result.append(scores)\n",
        "    else:\n",
        "      scores,_,_ = evaluate_model(train,test,cfg) \n",
        "      result.append(scores)\n",
        "  # summarize score\n",
        "  result = mean(result)\n",
        "  print('> Model[%s] %.3f' % (key, result))\n",
        "  return ((key,result),model_history,predictions)\n",
        "  # grid search configs\n",
        "def grid_search(train,test, cfg_list):\n",
        "  # evaluate configs\n",
        "  s =  [repeat_evaluate(train,test, cfg) for cfg in cfg_list]\n",
        "  scores = []\n",
        "  model_history = []\n",
        "  predictions = []\n",
        "  for i in range(len(s)):\n",
        "    scores.append(s[i][0])\n",
        "    model_history.append(s[i][1])\n",
        "    predictions.append(s[i][2])  \n",
        "  # sort configs by error, asc\n",
        "  scores.sort(key=lambda tup: tup[1])\n",
        "  return scores,model_history,predictions\n",
        "    "
      ],
      "execution_count": 0,
      "outputs": []
    },
    {
      "cell_type": "code",
      "metadata": {
        "id": "8rb7h5Ev7Yh_",
        "colab_type": "code",
        "outputId": "ecb96e63-e6b9-4647-8618-2d4bb410ed04",
        "colab": {
          "base_uri": "https://localhost:8080/",
          "height": 84
        }
      },
      "source": [
        "\n",
        "\n",
        "\n",
        "#scores,model_history,predictions = evaluate_model(train, test, n_input)\n",
        "#print(repeat_evaluate(train,test,n_input))\n",
        "# summarize scores\n",
        "#summarize_scores('cnn', score, scores)\n",
        "\n",
        "def model_configs():\n",
        "# define scope of configs\n",
        "  n_input = [6]\n",
        "  n_filters = [64]\n",
        "  n_kernels = [2]\n",
        "  n_epochs = [25]\n",
        "  n_batch = [128]\n",
        "  n_diff = [0]\n",
        "  drop = [0.2]\n",
        "# create configs\n",
        "  configs = list()\n",
        "  for a in n_input:\n",
        "    for b in n_filters:\n",
        "      for c in n_kernels:\n",
        "        for d in n_epochs:\n",
        "          for e in n_batch:\n",
        "            for f in n_diff:\n",
        "              for g in drop:\n",
        "                cfg = [a,b,c,d,e,f,g]\n",
        "                configs.append(cfg)\n",
        "  print('Total configs: %d' % len(configs))\n",
        "  return configs\n",
        "\n",
        "\n",
        "# split into train and test\n",
        "train,test,scaler = split_dataset(dataset.values)\n",
        "# model configs\n",
        "cfg_list = model_configs()\n",
        "# grid search\n",
        "scores,model_history,predictions = grid_search(train,test, cfg_list)\n",
        "print('done')\n",
        "# list top configs\n",
        "for cfg, error in scores:\n",
        "  print(cfg, error)\n",
        "  "
      ],
      "execution_count": 0,
      "outputs": [
        {
          "output_type": "stream",
          "text": [
            "Total configs: 1\n",
            "> Model[[6, 64, 2, 25, 128, 0, 0.2]] 1.137\n",
            "done\n",
            "[6, 64, 2, 25, 128, 0, 0.2] 1.1366429907477298\n"
          ],
          "name": "stdout"
        }
      ]
    },
    {
      "cell_type": "code",
      "metadata": {
        "id": "XuoDY0nnu4qu",
        "colab_type": "code",
        "outputId": "e974fa5f-bff7-413c-c875-fa76e54a3d86",
        "colab": {
          "base_uri": "https://localhost:8080/",
          "height": 265
        }
      },
      "source": [
        "plot_history(model_history[0])"
      ],
      "execution_count": 0,
      "outputs": [
        {
          "output_type": "display_data",
          "data": {
            "image/png": "[encoded data removed]",
            "text/plain": [
              "<Figure size 432x288 with 2 Axes>"
            ]
          },
          "metadata": {
            "tags": [],
            "needs_background": "light"
          }
        }
      ]
    },
    {
      "cell_type": "code",
      "metadata": {
        "id": "4WkxjKPgvQ6A",
        "colab_type": "code",
        "outputId": "f81c89cc-0de2-4ed1-f030-228fda8a128f",
        "colab": {
          "base_uri": "https://localhost:8080/",
          "height": 624
        }
      },
      "source": [
        "predictions = np.reshape(np.array(predictions),(730,1))\n",
        "indices = dataset.index.tolist()[-730:]\n",
        "test = pd.DataFrame(test,index = indices)\n",
        "predictions = pd.DataFrame(predictions,index = indices)\n",
        "fig = plt.figure(figsize=(10,10))\n",
        "plt.plot(test[0],label = 'actual')\n",
        "plt.plot(predictions[0],label = 'predictions')\n",
        "plt.title('actual vs predictions')\n",
        "plt.legend()"
      ],
      "execution_count": 0,
      "outputs": [
        {
          "output_type": "execute_result",
          "data": {
            "text/plain": [
              "<matplotlib.legend.Legend at 0x7f3232aaecf8>"
            ]
          },
          "metadata": {
            "tags": []
          },
          "execution_count": 46
        },
        {
          "output_type": "display_data",
          "data": {
            "image/png": "[encoded data removed]",
            "text/plain": [
              "<Figure size 720x720 with 1 Axes>"
            ]
          },
          "metadata": {
            "tags": [],
            "needs_background": "light"
          }
        }
      ]
    },
    {
      "cell_type": "code",
      "metadata": {
        "id": "CCFPTf_IlBKr",
        "colab_type": "code",
        "colab": {}
      },
      "source": [
        "indices = dataset.index.tolist()[-730:]\n",
        "df_predict = pd.DataFrame(scaler.inverse_transform(predictions),index= indices, columns=['Prediction'])\n",
        "df_test = pd.concat([dataset,df_predict], axis=1)\n",
        "df_test.head()"
      ],
      "execution_count": 0,
      "outputs": []
    },
    {
      "cell_type": "code",
      "metadata": {
        "id": "UlSSUXOvlEcY",
        "colab_type": "code",
        "colab": {}
      },
      "source": [
        "plt.figure(figsize=(20, 5))\n",
        "plt.plot(df_test.index, df_test['Rainfall'])\n",
        "plt.plot(df_test.index, df_test['Prediction'], color='r')\n",
        "plt.legend(loc='best', fontsize='xx-large')\n",
        "plt.xticks(fontsize=18)\n",
        "plt.yticks(fontsize=16)\n",
        "plt.show()"
      ],
      "execution_count": 0,
      "outputs": []
    },
    {
      "cell_type": "markdown",
      "metadata": {
        "id": "cRdTmJ8TvKaQ",
        "colab_type": "text"
      },
      "source": [
        "# learning rate,optimisers,ENSEMBELINGscaling,(rmse,mape)metrics,dropout,recurrent dropout,batch size,epochs,n_input,n_diff,filters,kernel_size,layers(lstm,bi-lstm,convlstm,cnn-lstm,multichannel,multiheaded),steps_per_epoch,valid_steps,view_metrics(model.fit)"
      ]
    },
    {
      "cell_type": "code",
      "metadata": {
        "id": "bBOeYkS2866Q",
        "colab_type": "code",
        "outputId": "9f594423-b4e3-4fca-bea6-65701c3ddece",
        "colab": {
          "base_uri": "https://localhost:8080/",
          "height": 34
        }
      },
      "source": [
        "print(scores)"
      ],
      "execution_count": 0,
      "outputs": [
        {
          "output_type": "stream",
          "text": [
            "[7.891412676324647]\n"
          ],
          "name": "stdout"
        }
      ]
    },
    {
      "cell_type": "code",
      "metadata": {
        "id": "airL5VX--PfI",
        "colab_type": "code",
        "outputId": "7cdfc04f-bfbb-46e6-c702-3d607815dc16",
        "colab": {
          "base_uri": "https://localhost:8080/",
          "height": 34
        }
      },
      "source": [
        "model_history.history.keys()"
      ],
      "execution_count": 0,
      "outputs": [
        {
          "output_type": "execute_result",
          "data": {
            "text/plain": [
              "dict_keys(['loss', 'root_mean_squared_error'])"
            ]
          },
          "metadata": {
            "tags": []
          },
          "execution_count": 70
        }
      ]
    },
    {
      "cell_type": "code",
      "metadata": {
        "id": "ct7Y8h0r892P",
        "colab_type": "code",
        "outputId": "52a7ba83-67b4-4922-89d6-25fd6657ddf2",
        "colab": {
          "base_uri": "https://localhost:8080/",
          "height": 265
        }
      },
      "source": [
        "plot_history(model_history)"
      ],
      "execution_count": 0,
      "outputs": [
        {
          "output_type": "display_data",
          "data": {
            "image/png": "[encoded data removed]",
            "text/plain": [
              "<Figure size 432x288 with 2 Axes>"
            ]
          },
          "metadata": {
            "tags": [],
            "needs_background": "light"
          }
        }
      ]
    },
    {
      "cell_type": "code",
      "metadata": {
        "id": "weYk5HBG_eoo",
        "colab_type": "code",
        "outputId": "b37a4728-8928-4d22-925c-75344a41ef5a",
        "colab": {
          "base_uri": "https://localhost:8080/",
          "height": 34
        }
      },
      "source": [
        "test[:,0].shape"
      ],
      "execution_count": 0,
      "outputs": [
        {
          "output_type": "execute_result",
          "data": {
            "text/plain": [
              "(1480,)"
            ]
          },
          "metadata": {
            "tags": []
          },
          "execution_count": 54
        }
      ]
    },
    {
      "cell_type": "code",
      "metadata": {
        "id": "lbw6kq0DAJll",
        "colab_type": "code",
        "outputId": "83b42403-7bc2-41ee-c03c-4ec66bef1374",
        "colab": {
          "base_uri": "https://localhost:8080/",
          "height": 34
        }
      },
      "source": [
        "indices = dataset.index.tolist()[-1480:]\n",
        "len(indices)"
      ],
      "execution_count": 0,
      "outputs": [
        {
          "output_type": "execute_result",
          "data": {
            "text/plain": [
              "1480"
            ]
          },
          "metadata": {
            "tags": []
          },
          "execution_count": 72
        }
      ]
    },
    {
      "cell_type": "code",
      "metadata": {
        "id": "eToYt6sa_uId",
        "colab_type": "code",
        "outputId": "40563d42-aab5-4a14-b18b-1d4bae6628a8",
        "colab": {
          "base_uri": "https://localhost:8080/",
          "height": 34
        }
      },
      "source": [
        "len(predictions)"
      ],
      "execution_count": 0,
      "outputs": [
        {
          "output_type": "execute_result",
          "data": {
            "text/plain": [
              "1480"
            ]
          },
          "metadata": {
            "tags": []
          },
          "execution_count": 55
        }
      ]
    },
    {
      "cell_type": "code",
      "metadata": {
        "id": "7D9BaDJ-AjPk",
        "colab_type": "code",
        "outputId": "cdd20c89-37cd-4dbf-de38-997e11f39193",
        "colab": {
          "base_uri": "https://localhost:8080/",
          "height": 195
        }
      },
      "source": [
        "test = pd.DataFrame(test,index = indices)\n",
        "test.head()"
      ],
      "execution_count": 0,
      "outputs": [
        {
          "output_type": "execute_result",
          "data": {
            "text/html": [
              "<div>\n",
              "<style scoped>\n",
              "    .dataframe tbody tr th:only-of-type {\n",
              "        vertical-align: middle;\n",
              "    }\n",
              "\n",
              "    .dataframe tbody tr th {\n",
              "        vertical-align: top;\n",
              "    }\n",
              "\n",
              "    .dataframe thead th {\n",
              "        text-align: right;\n",
              "    }\n",
              "</style>\n",
              "<table border=\"1\" class=\"dataframe\">\n",
              "  <thead>\n",
              "    <tr style=\"text-align: right;\">\n",
              "      <th></th>\n",
              "      <th>0</th>\n",
              "      <th>1</th>\n",
              "      <th>2</th>\n",
              "      <th>3</th>\n",
              "      <th>4</th>\n",
              "      <th>5</th>\n",
              "      <th>6</th>\n",
              "    </tr>\n",
              "  </thead>\n",
              "  <tbody>\n",
              "    <tr>\n",
              "      <th>2016-03-13</th>\n",
              "      <td>7.140871</td>\n",
              "      <td>291.69</td>\n",
              "      <td>63.99</td>\n",
              "      <td>934.22</td>\n",
              "      <td>2.16</td>\n",
              "      <td>148.98</td>\n",
              "      <td>3749.760</td>\n",
              "    </tr>\n",
              "    <tr>\n",
              "      <th>2016-03-14</th>\n",
              "      <td>1.057122</td>\n",
              "      <td>290.88</td>\n",
              "      <td>51.81</td>\n",
              "      <td>936.85</td>\n",
              "      <td>0.70</td>\n",
              "      <td>293.25</td>\n",
              "      <td>5030.944</td>\n",
              "    </tr>\n",
              "    <tr>\n",
              "      <th>2016-03-15</th>\n",
              "      <td>0.022767</td>\n",
              "      <td>291.36</td>\n",
              "      <td>40.39</td>\n",
              "      <td>936.19</td>\n",
              "      <td>3.35</td>\n",
              "      <td>295.09</td>\n",
              "      <td>5885.960</td>\n",
              "    </tr>\n",
              "    <tr>\n",
              "      <th>2016-03-16</th>\n",
              "      <td>0.000016</td>\n",
              "      <td>293.02</td>\n",
              "      <td>33.43</td>\n",
              "      <td>933.53</td>\n",
              "      <td>3.31</td>\n",
              "      <td>292.39</td>\n",
              "      <td>6528.071</td>\n",
              "    </tr>\n",
              "    <tr>\n",
              "      <th>2016-03-17</th>\n",
              "      <td>2.620737</td>\n",
              "      <td>293.50</td>\n",
              "      <td>43.67</td>\n",
              "      <td>934.55</td>\n",
              "      <td>0.95</td>\n",
              "      <td>81.60</td>\n",
              "      <td>4469.213</td>\n",
              "    </tr>\n",
              "  </tbody>\n",
              "</table>\n",
              "</div>"
            ],
            "text/plain": [
              "                   0       1      2       3     4       5         6\n",
              "2016-03-13  7.140871  291.69  63.99  934.22  2.16  148.98  3749.760\n",
              "2016-03-14  1.057122  290.88  51.81  936.85  0.70  293.25  5030.944\n",
              "2016-03-15  0.022767  291.36  40.39  936.19  3.35  295.09  5885.960\n",
              "2016-03-16  0.000016  293.02  33.43  933.53  3.31  292.39  6528.071\n",
              "2016-03-17  2.620737  293.50  43.67  934.55  0.95   81.60  4469.213"
            ]
          },
          "metadata": {
            "tags": []
          },
          "execution_count": 73
        }
      ]
    },
    {
      "cell_type": "code",
      "metadata": {
        "id": "jtoMbr_IAx2-",
        "colab_type": "code",
        "outputId": "094b5a6f-6ef5-4f37-90ab-4c6d8fa65b4f",
        "colab": {
          "base_uri": "https://localhost:8080/",
          "height": 195
        }
      },
      "source": [
        "predictions = pd.DataFrame(predictions,index = indices)\n",
        "predictions.head()"
      ],
      "execution_count": 0,
      "outputs": [
        {
          "output_type": "execute_result",
          "data": {
            "text/html": [
              "<div>\n",
              "<style scoped>\n",
              "    .dataframe tbody tr th:only-of-type {\n",
              "        vertical-align: middle;\n",
              "    }\n",
              "\n",
              "    .dataframe tbody tr th {\n",
              "        vertical-align: top;\n",
              "    }\n",
              "\n",
              "    .dataframe thead th {\n",
              "        text-align: right;\n",
              "    }\n",
              "</style>\n",
              "<table border=\"1\" class=\"dataframe\">\n",
              "  <thead>\n",
              "    <tr style=\"text-align: right;\">\n",
              "      <th></th>\n",
              "      <th>0</th>\n",
              "    </tr>\n",
              "  </thead>\n",
              "  <tbody>\n",
              "    <tr>\n",
              "      <th>2016-03-13</th>\n",
              "      <td>2.854148</td>\n",
              "    </tr>\n",
              "    <tr>\n",
              "      <th>2016-03-14</th>\n",
              "      <td>4.530697</td>\n",
              "    </tr>\n",
              "    <tr>\n",
              "      <th>2016-03-15</th>\n",
              "      <td>1.958427</td>\n",
              "    </tr>\n",
              "    <tr>\n",
              "      <th>2016-03-16</th>\n",
              "      <td>0.908319</td>\n",
              "    </tr>\n",
              "    <tr>\n",
              "      <th>2016-03-17</th>\n",
              "      <td>0.907800</td>\n",
              "    </tr>\n",
              "  </tbody>\n",
              "</table>\n",
              "</div>"
            ],
            "text/plain": [
              "                   0\n",
              "2016-03-13  2.854148\n",
              "2016-03-14  4.530697\n",
              "2016-03-15  1.958427\n",
              "2016-03-16  0.908319\n",
              "2016-03-17  0.907800"
            ]
          },
          "metadata": {
            "tags": []
          },
          "execution_count": 74
        }
      ]
    },
    {
      "cell_type": "code",
      "metadata": {
        "id": "1B0xQZmx_NDd",
        "colab_type": "code",
        "outputId": "1c3534fa-3481-46bb-e50c-5a67b45d67d3",
        "colab": {
          "base_uri": "https://localhost:8080/",
          "height": 281
        }
      },
      "source": [
        "plt.plot(test[0],label = 'actual')\n",
        "plt.plot(predictions,label = 'predict')\n",
        "plt.title('actual vs predictions')\n",
        "plt.legend()\n",
        "plt.show()"
      ],
      "execution_count": 0,
      "outputs": [
        {
          "output_type": "display_data",
          "data": {
            "image/png": "[encoded data removed]",
            "text/plain": [
              "<Figure size 432x288 with 1 Axes>"
            ]
          },
          "metadata": {
            "tags": [],
            "needs_background": "light"
          }
        }
      ]
    },
    {
      "cell_type": "markdown",
      "metadata": {
        "id": "dbAlfY5g-WFd",
        "colab_type": "text"
      },
      "source": [
        "# mutli-channel cnn"
      ]
    },
    {
      "cell_type": "code",
      "metadata": {
        "id": "FM2bMRWj-aPg",
        "colab_type": "code",
        "colab": {}
      },
      "source": [
        "# split a univariate dataset into train/test sets\n",
        "def split_dataset(data):\n",
        "  train, test= data[:-730], data[-730:]\n",
        "  return train,test\n",
        "\n",
        "# evaluate forecasts against expected values\n",
        "def evaluate_forecasts(actual, predicted):\n",
        "  scores = list()\n",
        "  mse = mean_squared_error(actual, predicted)\n",
        "  # calculate rmse\n",
        "  rmse = sqrt(mse)\n",
        "  # store\n",
        "  scores.append(rmse)\n",
        "  return scores\n",
        "\n",
        "# summarize scores\n",
        "#def summarize_scores(name, score, scores):\n",
        " # s_scores = ', '.join(['%.1f' % s for s in scores])\n",
        "  #print('%s: [%.3f] %s' % (name, score, s_scores))\n",
        "# convert history into inputs and outputs\n",
        "def to_supervised(train, n_input, n_out=1):\n",
        "  # flatten data\n",
        "  data = train.copy()\n",
        "  X, y = list(), list()\n",
        "  in_start = 0\n",
        "  # step over the entire history one time step at a time\n",
        "  for _ in range(len(data)):\n",
        "    # define the end of the input sequence\n",
        "    in_end = in_start + n_input\n",
        "    out_end = in_end + n_out\n",
        "    # ensure we have enough data for this instance\n",
        "    if out_end <= len(data):\n",
        "      X.append(data[in_start:in_end, :])\n",
        "      y.append(data[in_end:out_end, 0])\n",
        "    # move along one time step\n",
        "    in_start += 1\n",
        "  return array(X), array(y)\n",
        "# plot training history\n",
        "def plot_history(history):\n",
        "  # plot loss\n",
        "  pyplot.subplot(2, 1, 1)\n",
        "  pyplot.plot(history.history['loss'], label='train')\n",
        "  pyplot.plot(history.history['val_loss'], label='test')\n",
        "  pyplot.title('loss', y=0, loc='center')\n",
        "  pyplot.legend()\n",
        "  # plot rmse\n",
        "  pyplot.subplot(2, 1, 2)\n",
        "  pyplot.plot(history.history['root_mean_squared_error'], label='train')\n",
        "  pyplot.plot(history.history['val_rmse'], label='test')\n",
        "  pyplot.title('rmse', y=0, loc='center')\n",
        "  pyplot.legend()\n",
        "  pyplot.show()\n",
        "# train the model\n",
        "def build_model(train,cfg):\n",
        "  # prepare data\n",
        "  n_input,n_filters,n_kernels,n_epochs,n_batch,n_diff = cfg\n",
        "  train_x, train_y = to_supervised(train, n_input)\n",
        "  train_x,valid_x,train_y,valid_y = train_test_split(train_x,train_y,test_size = 0.1,shuffle = False)\n",
        "  # define parameters\n",
        "  n_timesteps, n_features, n_outputs = train_x.shape[1], train_x.shape[2], train_y.shape[1]\n",
        "  # create a channel for each variable\n",
        "  model = Sequential()\n",
        "  model.add(Conv1D(32, 3, activation='relu', input_shape=(n_timesteps,n_features)))\n",
        "  model.add(Conv1D(32, 3, activation='relu'))\n",
        "  model.add(MaxPooling1D())\n",
        "  model.add(Conv1D(16, 3, activation='relu'))\n",
        "  model.add(MaxPooling1D())\n",
        "  model.add(Flatten())\n",
        "  model.add(Dense(100, activation='relu'))\n",
        "  model.add(Dense(n_outputs))\n",
        "\n",
        "  # compile model\n",
        "  model.compile(loss='mse', optimizer='adam',metrics=[tf.keras.metrics.RootMeanSquaredError()])\n",
        "  # plot the model\n",
        "  plot_model(model, show_shapes=True, to_file='multiheaded_cnn.png')\n",
        "  # fit network\n",
        "  model_history = model.fit(train_x, train_y, epochs=n_epochs, batch_size=n_batch, validation_data = (valid_x,valid_y),verbose=0)\n",
        "  return model,model_history\n",
        "\n",
        "# make a forecast\n",
        "def forecast(model, history, cfg):\n",
        "  # flatten data\n",
        "  data = array(history)\n",
        "  # retrieve last observations for input data\n",
        "  n_input,_,_,_,_,_ = cfg\n",
        "  input_x = data[-n_input:, :]\n",
        "  # reshape into n input arrays\n",
        "  input_x = [input_x[:,i].reshape((1,input_x.shape[0],1)) for i in range(input_x.shape[1])]\n",
        "  # forecast the next day\n",
        "  yhat = model.predict(input_x, verbose=0)\n",
        "  # we only want the vector forecast\n",
        "  yhat = yhat[0]\n",
        "  return yhat\n",
        "\n",
        "# evaluate a single model\n",
        "def evaluate_model(train,test, cfg):\n",
        "  # fit model\n",
        "  model,model_history = build_model(train,cfg)\n",
        "  # history is a list of train data\n",
        "  history = [x for x in train]\n",
        "  # walk-forward validation over each day\n",
        "  predictions = list()\n",
        "  for i in range(len(test)):\n",
        "    # predict the day\n",
        "    yhat_sequence = forecast(model, history,cfg)\n",
        "    # store the predictions\n",
        "    predictions.append(yhat_sequence)\n",
        "    # get real observation and add to history for predicting the next day\n",
        "    history.append(test[i, :])\n",
        "  # evaluate predictions for each day\n",
        "  predictions = array(predictions)\n",
        "  scores = evaluate_forecasts(test[:,0], predictions)\n",
        "  return scores,model_history,predictions\n",
        "# score a model, return None on failure\n",
        "def repeat_evaluate(train,test,cfg,n_repeats=1):\n",
        "  # convert config to a key\n",
        "  key = str(cfg)\n",
        "  # fit and evaluate the model n times\n",
        "  result = []\n",
        "  for i in range(n_repeats):\n",
        "    if i == (n_repeats-1):\n",
        "      scores,model_history,predictions = evaluate_model(train,test,cfg) \n",
        "      result.append(scores)\n",
        "    else:\n",
        "      scores,_,_ = evaluate_model(train,test,cfg) \n",
        "      result.append(scores)\n",
        "  # summarize score\n",
        "  result = mean(result)\n",
        "  print('> Model[%s] %.3f' % (key, result))\n",
        "  return (result)\n",
        "  # grid search configs\n",
        "def grid_search(train,test, cfg_list):\n",
        "  # evaluate configs\n",
        "  scores =  [repeat_evaluate(train,test, cfg) for cfg in cfg_list]\n",
        "  # sort configs by error, asc\n",
        "  scores.sort(key=lambda tup: tup[1])\n",
        "  return scores"
      ],
      "execution_count": 0,
      "outputs": []
    },
    {
      "cell_type": "markdown",
      "metadata": {
        "id": "ugIu8e4R_b8y",
        "colab_type": "text"
      },
      "source": [
        "# Vanilla LSTM"
      ]
    },
    {
      "cell_type": "code",
      "metadata": {
        "id": "Fb2GGWII_fB8",
        "colab_type": "code",
        "colab": {}
      },
      "source": [
        "# split a univariate dataset into train/test sets\n",
        "def split_dataset(data):\n",
        "  train, test= data[:-730], data[-730:]\n",
        "  return train,test\n",
        "\n",
        "# evaluate forecasts against expected values\n",
        "def evaluate_forecasts(actual, predicted):\n",
        "  scores = list()\n",
        "  mse = mean_squared_error(actual, predicted)\n",
        "  # calculate rmse\n",
        "  rmse = sqrt(mse)\n",
        "  # store\n",
        "  scores.append(rmse)\n",
        "  return scores\n",
        "\n",
        "# summarize scores\n",
        "#def summarize_scores(name, score, scores):\n",
        " # s_scores = ', '.join(['%.1f' % s for s in scores])\n",
        "  #print('%s: [%.3f] %s' % (name, score, s_scores))\n",
        "# convert history into inputs and outputs\n",
        "def to_supervised(train, n_input, n_out=1):\n",
        "  # flatten data\n",
        "  data = train.copy()\n",
        "  X, y = list(), list()\n",
        "  in_start = 0\n",
        "  # step over the entire history one time step at a time\n",
        "  for _ in range(len(data)):\n",
        "    # define the end of the input sequence\n",
        "    in_end = in_start + n_input\n",
        "    out_end = in_end + n_out\n",
        "    # ensure we have enough data for this instance\n",
        "    if out_end <= len(data):\n",
        "      X.append(data[in_start:in_end, :])\n",
        "      y.append(data[in_end:out_end, 0])\n",
        "    # move along one time step\n",
        "    in_start += 1\n",
        "  return array(X), array(y)\n",
        "# plot training history\n",
        "def plot_history(history):\n",
        "  # plot loss\n",
        "  pyplot.subplot(2, 1, 1)\n",
        "  pyplot.plot(history.history['loss'], label='train')\n",
        "  pyplot.plot(history.history['val_loss'], label='test')\n",
        "  pyplot.title('loss', y=0, loc='center')\n",
        "  pyplot.legend()\n",
        "  # plot rmse\n",
        "  pyplot.subplot(2, 1, 2)\n",
        "  pyplot.plot(history.history['root_mean_squared_error'], label='train')\n",
        "  pyplot.plot(history.history['val_rmse'], label='test')\n",
        "  pyplot.title('rmse', y=0, loc='center')\n",
        "  pyplot.legend()\n",
        "  pyplot.show()\n",
        "# train the model\n",
        "def build_model(train,cfg):\n",
        "  # prepare data\n",
        "  n_input,n_filters,n_kernels,n_epochs,n_batch,n_diff = cfg\n",
        "  train_x, train_y = to_supervised(train, n_input)\n",
        "  train_x,valid_x,train_y,valid_y = train_test_split(train_x,train_y,test_size = 0.1,shuffle = False)\n",
        "  # define parameters\n",
        "  n_timesteps, n_features, n_outputs = train_x.shape[1], train_x.shape[2], train_y.shape[1]\n",
        "  # create a channel for each variable\n",
        "  model = Sequential()\n",
        "  model.add(LSTM(200, activation='relu', input_shape=(n_timesteps, n_features)))\n",
        "  model.add(Dense(100, activation='relu'))\n",
        "\n",
        "  # compile model\n",
        "  model.compile(loss='mse', optimizer='adam',metrics=[tf.keras.metrics.RootMeanSquaredError()])\n",
        "  # plot the model\n",
        "  plot_model(model, show_shapes=True, to_file='multiheaded_cnn.png')\n",
        "  # fit network\n",
        "  model_history = model.fit(train_x, train_y, epochs=n_epochs, batch_size=n_batch, validation_data = (valid_x,valid_y),verbose=0)\n",
        "  return model,model_history\n",
        "\n",
        "# make a forecast\n",
        "def forecast(model, history, cfg):\n",
        "  # flatten data\n",
        "  data = array(history)\n",
        "  # retrieve last observations for input data\n",
        "  n_input,_,_,_,_,_ = cfg\n",
        "  input_x = data[-n_input:, :]\n",
        "  # reshape into [1, n_input, n]\n",
        "  input_x = input_x.reshape((1, input_x.shape[0], input_x.shape[1]))\n",
        "\n",
        "  # forecast the next day\n",
        "  yhat = model.predict(input_x, verbose=0)\n",
        "  # we only want the vector forecast\n",
        "  yhat = yhat[0]\n",
        "  return yhat\n",
        "\n",
        "# evaluate a single model\n",
        "def evaluate_model(train,test, cfg):\n",
        "  # fit model\n",
        "  model,model_history = build_model(train,cfg)\n",
        "  # history is a list of train data\n",
        "  history = [x for x in train]\n",
        "  # walk-forward validation over each day\n",
        "  predictions = list()\n",
        "  for i in range(len(test)):\n",
        "    # predict the day\n",
        "    yhat_sequence = forecast(model, history,cfg)\n",
        "    # store the predictions\n",
        "    predictions.append(yhat_sequence)\n",
        "    # get real observation and add to history for predicting the next day\n",
        "    history.append(test[i, :])\n",
        "  # evaluate predictions for each day\n",
        "  predictions = array(predictions)\n",
        "  scores = evaluate_forecasts(test[:,0], predictions)\n",
        "  return scores,model_history,predictions\n",
        "# score a model, return None on failure\n",
        "def repeat_evaluate(train,test,cfg,n_repeats=1):\n",
        "  # convert config to a key\n",
        "  key = str(cfg)\n",
        "  # fit and evaluate the model n times\n",
        "  result = []\n",
        "  for i in range(n_repeats):\n",
        "    if i == (n_repeats-1):\n",
        "      scores,model_history,predictions = evaluate_model(train,test,cfg) \n",
        "      result.append(scores)\n",
        "    else:\n",
        "      scores,_,_ = evaluate_model(train,test,cfg) \n",
        "      result.append(scores)\n",
        "  # summarize score\n",
        "  result = mean(result)\n",
        "  print('> Model[%s] %.3f' % (key, result))\n",
        "  return (result)\n",
        "  # grid search configs\n",
        "def grid_search(train,test, cfg_list):\n",
        "  # evaluate configs\n",
        "  scores =  [repeat_evaluate(train,test, cfg) for cfg in cfg_list]\n",
        "  # sort configs by error, asc\n",
        "  scores.sort(key=lambda tup: tup[1])\n",
        "  return scores"
      ],
      "execution_count": 0,
      "outputs": []
    },
    {
      "cell_type": "markdown",
      "metadata": {
        "id": "pp31BnNsCsdX",
        "colab_type": "text"
      },
      "source": [
        "# encoder-decoder LSTM"
      ]
    },
    {
      "cell_type": "code",
      "metadata": {
        "id": "RKwu38fACU52",
        "colab_type": "code",
        "colab": {}
      },
      "source": [
        "# split a univariate dataset into train/test sets\n",
        "def split_dataset(data):\n",
        "  train, test= data[:-730], data[-730:]\n",
        "  return train,test\n",
        "\n",
        "# evaluate forecasts against expected values\n",
        "def evaluate_forecasts(actual, predicted):\n",
        "  scores = list()\n",
        "  mse = mean_squared_error(actual, predicted)\n",
        "  # calculate rmse\n",
        "  rmse = sqrt(mse)\n",
        "  # store\n",
        "  scores.append(rmse)\n",
        "  return scores\n",
        "\n",
        "# summarize scores\n",
        "#def summarize_scores(name, score, scores):\n",
        " # s_scores = ', '.join(['%.1f' % s for s in scores])\n",
        "  #print('%s: [%.3f] %s' % (name, score, s_scores))\n",
        "# convert history into inputs and outputs\n",
        "def to_supervised(train, n_input, n_out=1):\n",
        "  # flatten data\n",
        "  data = train.copy()\n",
        "  X, y = list(), list()\n",
        "  in_start = 0\n",
        "  # step over the entire history one time step at a time\n",
        "  for _ in range(len(data)):\n",
        "    # define the end of the input sequence\n",
        "    in_end = in_start + n_input\n",
        "    out_end = in_end + n_out\n",
        "    # ensure we have enough data for this instance\n",
        "    if out_end <= len(data):\n",
        "      X.append(data[in_start:in_end, :])\n",
        "      y.append(data[in_end:out_end, 0])\n",
        "    # move along one time step\n",
        "    in_start += 1\n",
        "  return array(X), array(y)\n",
        "# plot training history\n",
        "def plot_history(history):\n",
        "  # plot loss\n",
        "  pyplot.subplot(2, 1, 1)\n",
        "  pyplot.plot(history.history['loss'], label='train')\n",
        "  pyplot.plot(history.history['val_loss'], label='test')\n",
        "  pyplot.title('loss', y=0, loc='center')\n",
        "  pyplot.legend()\n",
        "  # plot rmse\n",
        "  pyplot.subplot(2, 1, 2)\n",
        "  pyplot.plot(history.history['root_mean_squared_error'], label='train')\n",
        "  pyplot.plot(history.history['val_rmse'], label='test')\n",
        "  pyplot.title('rmse', y=0, loc='center')\n",
        "  pyplot.legend()\n",
        "  pyplot.show()\n",
        "# train the model\n",
        "def build_model(train,cfg):\n",
        "  # prepare data\n",
        "  n_input,n_filters,n_kernels,n_epochs,n_batch,n_diff = cfg\n",
        "  train_x, train_y = to_supervised(train, n_input)\n",
        "  train_x,valid_x,train_y,valid_y = train_test_split(train_x,train_y,test_size = 0.1,shuffle = False)\n",
        "  # define parameters\n",
        "  n_timesteps, n_features, n_outputs = train_x.shape[1], train_x.shape[2], train_y.shape[1]\n",
        "  # create a channel for each variable\n",
        "  train_y = train_y.reshape((train_y.shape[0], train_y.shape[1], 1))\n",
        "  valid_y = valid_y.reshape((valid_y.shape[0], valid_y.shape[1], 1))\n",
        "  # define model\n",
        "  model = Sequential()\n",
        "  model.add(LSTM(200, activation='relu', input_shape=(n_timesteps, n_features)))\n",
        "  model.add(RepeatVector(n_outputs))\n",
        "  model.add(LSTM(200, activation='relu', return_sequences=True))\n",
        "  model.add(TimeDistributed(Dense(100, activation='relu')))\n",
        "  model.add(TimeDistributed(Dense(1)))\n",
        "\n",
        "\n",
        "  # compile model\n",
        "  model.compile(loss='mse', optimizer='adam',metrics=[tf.keras.metrics.RootMeanSquaredError()])\n",
        "  # plot the model\n",
        "  plot_model(model, show_shapes=True, to_file='multiheaded_cnn.png')\n",
        "  # fit network\n",
        "  model_history = model.fit(train_x, train_y, epochs=n_epochs, batch_size=n_batch, validation_data = (valid_x,valid_y),verbose=0)\n",
        "  return model,model_history\n",
        "\n",
        "# make a forecast\n",
        "def forecast(model, history, cfg):\n",
        "  # flatten data\n",
        "  data = array(history)\n",
        "  # retrieve last observations for input data\n",
        "  n_input,_,_,_,_,_ = cfg\n",
        "  input_x = data[-n_input:, :]\n",
        "  # reshape into [1, n_input, n]\n",
        "  input_x = input_x.reshape((1, input_x.shape[0], input_x.shape[1]))\n",
        "\n",
        "  # forecast the next day\n",
        "  yhat = model.predict(input_x, verbose=0)\n",
        "  # we only want the vector forecast\n",
        "  yhat = yhat[0]\n",
        "  return yhat\n",
        "\n",
        "# evaluate a single model\n",
        "def evaluate_model(train,test, cfg):\n",
        "  # fit model\n",
        "  model,model_history = build_model(train,cfg)\n",
        "  # history is a list of train data\n",
        "  history = [x for x in train]\n",
        "  # walk-forward validation over each day\n",
        "  predictions = list()\n",
        "  for i in range(len(test)):\n",
        "    # predict the day\n",
        "    yhat_sequence = forecast(model, history,cfg)\n",
        "    # store the predictions\n",
        "    predictions.append(yhat_sequence)\n",
        "    # get real observation and add to history for predicting the next day\n",
        "    history.append(test[i, :])\n",
        "  # evaluate predictions for each day\n",
        "  predictions = array(predictions)\n",
        "  scores = evaluate_forecasts(test[:,0], predictions)\n",
        "  return scores,model_history,predictions\n",
        "# score a model, return None on failure\n",
        "def repeat_evaluate(train,test,cfg,n_repeats=1):\n",
        "  # convert config to a key\n",
        "  key = str(cfg)\n",
        "  # fit and evaluate the model n times\n",
        "  result = []\n",
        "  for i in range(n_repeats):\n",
        "    if i == (n_repeats-1):\n",
        "      scores,model_history,predictions = evaluate_model(train,test,cfg) \n",
        "      result.append(scores)\n",
        "    else:\n",
        "      scores,_,_ = evaluate_model(train,test,cfg) \n",
        "      result.append(scores)\n",
        "  # summarize score\n",
        "  result = mean(result)\n",
        "  print('> Model[%s] %.3f' % (key, result))\n",
        "  return (result)\n",
        "  # grid search configs\n",
        "def grid_search(train,test, cfg_list):\n",
        "  # evaluate configs\n",
        "  scores =  [repeat_evaluate(train,test, cfg) for cfg in cfg_list]\n",
        "  # sort configs by error, asc\n",
        "  scores.sort(key=lambda tup: tup[1])\n",
        "  return scores"
      ],
      "execution_count": 0,
      "outputs": []
    },
    {
      "cell_type": "markdown",
      "metadata": {
        "id": "OTzOl0nyFwpb",
        "colab_type": "text"
      },
      "source": [
        "# CNN LSTM ENCODER DECODER"
      ]
    },
    {
      "cell_type": "code",
      "metadata": {
        "id": "zhj1nn8-MwsF",
        "colab_type": "code",
        "colab": {}
      },
      "source": [
        "# split a univariate dataset into train/test sets\n",
        "def split_dataset(data):\n",
        "  train, test= data[:-730], data[-730:]\n",
        "  return train,test\n",
        "\n",
        "# evaluate forecasts against expected values\n",
        "def evaluate_forecasts(actual, predicted):\n",
        "  scores = list()\n",
        "  mse = mean_squared_error(actual, predicted)\n",
        "  # calculate rmse\n",
        "  rmse = sqrt(mse)\n",
        "  # store\n",
        "  scores.append(rmse)\n",
        "  return scores\n",
        "\n",
        "# summarize scores\n",
        "#def summarize_scores(name, score, scores):\n",
        " # s_scores = ', '.join(['%.1f' % s for s in scores])\n",
        "  #print('%s: [%.3f] %s' % (name, score, s_scores))\n",
        "# convert history into inputs and outputs\n",
        "def to_supervised(train, n_input, n_out=1):\n",
        "  # flatten data\n",
        "  data = train.copy()\n",
        "  X, y = list(), list()\n",
        "  in_start = 0\n",
        "  # step over the entire history one time step at a time\n",
        "  for _ in range(len(data)):\n",
        "    # define the end of the input sequence\n",
        "    in_end = in_start + n_input\n",
        "    out_end = in_end + n_out\n",
        "    # ensure we have enough data for this instance\n",
        "    if out_end <= len(data):\n",
        "      X.append(data[in_start:in_end, :])\n",
        "      y.append(data[in_end:out_end, 0])\n",
        "    # move along one time step\n",
        "    in_start += 1\n",
        "  return array(X), array(y)\n",
        "# plot training history\n",
        "def plot_history(history):\n",
        "  # plot loss\n",
        "  pyplot.subplot(2, 1, 1)\n",
        "  pyplot.plot(history.history['loss'], label='train')\n",
        "  pyplot.plot(history.history['val_loss'], label='test')\n",
        "  pyplot.title('loss', y=0, loc='center')\n",
        "  pyplot.legend()\n",
        "  # plot rmse\n",
        "  pyplot.subplot(2, 1, 2)\n",
        "  pyplot.plot(history.history['root_mean_squared_error'], label='train')\n",
        "  pyplot.plot(history.history['val_rmse'], label='test')\n",
        "  pyplot.title('rmse', y=0, loc='center')\n",
        "  pyplot.legend()\n",
        "  pyplot.show()\n",
        "# train the model\n",
        "def build_model(train,cfg):\n",
        "  # prepare data\n",
        "  n_input,n_filters,n_kernels,n_epochs,n_batch,n_diff = cfg\n",
        "  train_x, train_y = to_supervised(train, n_input)\n",
        "  train_x,valid_x,train_y,valid_y = train_test_split(train_x,train_y,test_size = 0.1,shuffle = False)\n",
        "  # define parameters\n",
        "  n_timesteps, n_features, n_outputs = train_x.shape[1], train_x.shape[2], train_y.shape[1]\n",
        "  # create a channel for each variable\n",
        "  train_y = train_y.reshape((train_y.shape[0], train_y.shape[1], 1))\n",
        "  valid_y = valid_y.reshape((valid_y.shape[0], valid_y.shape[1], 1))\n",
        "  # define model\n",
        "  model = Sequential()\n",
        "  model.add(Conv1D(64, 3, activation='relu', input_shape=(n_timesteps,n_features)))\n",
        "  model.add(Conv1D(64, 3, activation='relu'))\n",
        "  model.add(MaxPooling1D())\n",
        "  model.add(Flatten())\n",
        "  model.add(RepeatVector(n_outputs))\n",
        "  model.add(LSTM(200, activation='relu', return_sequences=True))\n",
        "  model.add(TimeDistributed(Dense(100, activation='relu')))\n",
        "  model.add(TimeDistributed(Dense(1)))\n",
        "\n",
        "  # compile model\n",
        "  model.compile(loss='mse', optimizer='adam',metrics=[tf.keras.metrics.RootMeanSquaredError()])\n",
        "  # plot the model\n",
        "  plot_model(model, show_shapes=True, to_file='multiheaded_cnn.png')\n",
        "  # fit network\n",
        "  model_history = model.fit(train_x, train_y, epochs=n_epochs, batch_size=n_batch, validation_data = (valid_x,valid_y),verbose=0)\n",
        "  return model,model_history\n",
        "\n",
        "# make a forecast\n",
        "def forecast(model, history, cfg):\n",
        "  # flatten data\n",
        "  data = array(history)\n",
        "  # retrieve last observations for input data\n",
        "  n_input,_,_,_,_,_ = cfg\n",
        "  input_x = data[-n_input:, :]\n",
        "  # reshape into [1, n_input, n]\n",
        "  input_x = input_x.reshape((1, input_x.shape[0], input_x.shape[1]))\n",
        "\n",
        "  # forecast the next day\n",
        "  yhat = model.predict(input_x, verbose=0)\n",
        "  # we only want the vector forecast\n",
        "  yhat = yhat[0]\n",
        "  return yhat\n",
        "\n",
        "# evaluate a single model\n",
        "def evaluate_model(train,test, cfg):\n",
        "  # fit model\n",
        "  model,model_history = build_model(train,cfg)\n",
        "  # history is a list of train data\n",
        "  history = [x for x in train]\n",
        "  # walk-forward validation over each day\n",
        "  predictions = list()\n",
        "  for i in range(len(test)):\n",
        "    # predict the day\n",
        "    yhat_sequence = forecast(model, history,cfg)\n",
        "    # store the predictions\n",
        "    predictions.append(yhat_sequence)\n",
        "    # get real observation and add to history for predicting the next day\n",
        "    history.append(test[i, :])\n",
        "  # evaluate predictions for each day\n",
        "  predictions = array(predictions)\n",
        "  scores = evaluate_forecasts(test[:,0], predictions)\n",
        "  return scores,model_history,predictions\n",
        "# score a model, return None on failure\n",
        "def repeat_evaluate(train,test,cfg,n_repeats=1):\n",
        "  # convert config to a key\n",
        "  key = str(cfg)\n",
        "  # fit and evaluate the model n times\n",
        "  result = []\n",
        "  for i in range(n_repeats):\n",
        "    if i == (n_repeats-1):\n",
        "      scores,model_history,predictions = evaluate_model(train,test,cfg) \n",
        "      result.append(scores)\n",
        "    else:\n",
        "      scores,_,_ = evaluate_model(train,test,cfg) \n",
        "      result.append(scores)\n",
        "  # summarize score\n",
        "  result = mean(result)\n",
        "  print('> Model[%s] %.3f' % (key, result))\n",
        "  return (result)\n",
        "  # grid search configs\n",
        "def grid_search(train,test, cfg_list):\n",
        "  # evaluate configs\n",
        "  scores =  [repeat_evaluate(train,test, cfg) for cfg in cfg_list]\n",
        "  # sort configs by error, asc\n",
        "  scores.sort(key=lambda tup: tup[1])\n",
        "  return scores"
      ],
      "execution_count": 0,
      "outputs": []
    },
    {
      "cell_type": "markdown",
      "metadata": {
        "id": "LaQp4rWXKROj",
        "colab_type": "text"
      },
      "source": [
        "# CONVLSTM encoder-decoder"
      ]
    },
    {
      "cell_type": "code",
      "metadata": {
        "id": "2jEgcrt4DhYc",
        "colab_type": "code",
        "colab": {}
      },
      "source": [
        "# evaluate one or more weekly forecasts against expected values\n",
        "def evaluate_forecasts(actual, predicted):\n",
        "  scores = list()\n",
        "  # calculate an RMSE score for each day\n",
        "  # calculate mse\n",
        "  mse = mean_squared_error(actual, predicted)\n",
        "  # calculate rmse\n",
        "  rmse = sqrt(mse)\n",
        "  # store\n",
        "  scores.append(rmse)\n",
        "  # calculate overall RMSE\n",
        "  #s = 0\n",
        "  #for row in range(actual.shape[0]):\n",
        "  #for col in range(actual.shape[1]):\n",
        "  #s += (actual[row, col] - predicted[row, col])**2\n",
        "  #score = sqrt(s / (actual.shape[0] * actual.shape[1]))\n",
        "  return scores\n",
        "\n",
        "# summarize scores\n",
        "def summarize_scores(name, score, scores):\n",
        "  s_scores = ', '.join(['%.1f' % s for s in scores])\n",
        "  print('%s: [%.3f] %s' % (name, score, s_scores))\n",
        "# convert history into inputs and outputs\n",
        "def to_supervised(train, n_input, n_out=1):\n",
        "  # flatten data\n",
        "  data = train.copy()\n",
        "  X, y = list(), list()\n",
        "  in_start = 0\n",
        "  # step over the entire history one time step at a time\n",
        "  for _ in range(len(data)):\n",
        "    # define the end of the input sequence\n",
        "    in_end = in_start + n_input\n",
        "    out_end = in_end + n_out\n",
        "    # ensure we have enough data for this instance\n",
        "    if out_end <= len(data):\n",
        "      X.append(data[in_start:in_end, :])\n",
        "      y.append(data[in_end:out_end, 0])\n",
        "    # move along one time step\n",
        "    in_start += 1\n",
        "  return array(X), array(y)\n",
        "# train the model\n",
        "def build_model(train, n_input):\n",
        "  # prepare data\n",
        "  train_x, train_y = to_supervised(train, n_input)\n",
        "  # define parameters\n",
        "  verbose, epochs, batch_size = 0, 100, 8\n",
        "  n_timesteps, n_features, n_outputs = train_x.shape[1], train_x.shape[2], train_y.shape[1]\n",
        "\n",
        "  train_y = train_y.reshape((train_y.shape[0], train_y.shape[1], 1))\n",
        "  valid_y = valid_y.reshape((valid_y.shape[0], valid_y.shape[1], 1))\n",
        "  # define model\n",
        "  model = Sequential()\n",
        "  model.add(Conv1D(64, 3, activation='relu', input_shape=(n_timesteps,n_features)))\n",
        "  model.add(Conv1D(64, 3, activation='relu'))\n",
        "  model.add(MaxPooling1D())\n",
        "  model.add(Flatten())\n",
        "  model.add(RepeatVector(n_outputs))\n",
        "  model.add(LSTM(200, activation='relu', return_sequences=True))\n",
        "  model.add(TimeDistributed(Dense(100, activation='relu')))\n",
        "  model.add(TimeDistributed(Dense(1)))\n",
        "\n",
        "  model.compile(loss='mse', optimizer='adam',metrics = ['accuracy'])\n",
        "  # fit network\n",
        "  model_history = model.fit(train_x, train_y, epochs=epochs, batch_size=batch_size, verbose=verbose)\n",
        "  return model,model_history\n",
        "# make a forecast\n",
        "def forecast(model, history, n_input):\n",
        "  # flatten data\n",
        "  data = array(history)\n",
        "  #data = data.reshape((data.shape[0]*data.shape[1], data.shape[2]))\n",
        "  # retrieve last observations for input data\n",
        "  input_x = data[-n_input:, :]\n",
        "  # reshape into [1, n_input, n]\n",
        "  input_x = input_x.reshape((1, input_x.shape[0], input_x.shape[1]))\n",
        "  # forecast the next week\n",
        "  yhat = model.predict(input_x, verbose=0)\n",
        "  # we only want the vector forecast\n",
        "  yhat = yhat[0]\n",
        "  return yhat\n",
        "# evaluate a single model\n",
        "def evaluate_model(train, test, n_input):\n",
        "  # fit model\n",
        "  model,model_history = build_model(train, n_input)\n",
        "  # history is a list of weekly data\n",
        "  history = [x for x in train]\n",
        "  # walk-forward validation over each week\n",
        "  predictions = list()\n",
        "  for i in range(len(test)):\n",
        "    # predict the week\n",
        "    yhat_sequence = forecast(model, history, n_input)\n",
        "    # store the predictions\n",
        "    predictions.append(yhat_sequence)\n",
        "    # get real observation and add to history for predicting the next week\n",
        "    history.append(test[i, :])\n",
        "  # evaluate predictions days for each week\n",
        "  predictions = array(predictions)\n",
        "  scores = evaluate_forecasts(test[:,0], predictions)\n",
        "  return scores,model_history"
      ],
      "execution_count": 0,
      "outputs": []
    },
    {
      "cell_type": "code",
      "metadata": {
        "id": "WA1PCgZOLOy5",
        "colab_type": "code",
        "colab": {}
      },
      "source": [
        "# split a univariate dataset into train/test sets\n",
        "def split_dataset(data):\n",
        "  train, test= data[:-730], data[-730:]\n",
        "  return train,test\n",
        "\n",
        "# evaluate forecasts against expected values\n",
        "def evaluate_forecasts(actual, predicted):\n",
        "  scores = list()\n",
        "  mse = mean_squared_error(actual, predicted)\n",
        "  # calculate rmse\n",
        "  rmse = sqrt(mse)\n",
        "  # store\n",
        "  scores.append(rmse)\n",
        "  return scores\n",
        "\n",
        "# summarize scores\n",
        "#def summarize_scores(name, score, scores):\n",
        " # s_scores = ', '.join(['%.1f' % s for s in scores])\n",
        "  #print('%s: [%.3f] %s' % (name, score, s_scores))\n",
        "# convert history into inputs and outputs\n",
        "def to_supervised(train, n_input, n_out=1):\n",
        "  # flatten data\n",
        "  data = train.copy()\n",
        "  X, y = list(), list()\n",
        "  in_start = 0\n",
        "  # step over the entire history one time step at a time\n",
        "  for _ in range(len(data)):\n",
        "    # define the end of the input sequence\n",
        "    in_end = in_start + n_input\n",
        "    out_end = in_end + n_out\n",
        "    # ensure we have enough data for this instance\n",
        "    if out_end <= len(data):\n",
        "      X.append(data[in_start:in_end, :])\n",
        "      y.append(data[in_end:out_end, 0])\n",
        "    # move along one time step\n",
        "    in_start += 1\n",
        "  return array(X), array(y)\n",
        "# plot training history\n",
        "def plot_history(history):\n",
        "  # plot loss\n",
        "  pyplot.subplot(2, 1, 1)\n",
        "  pyplot.plot(history.history['loss'], label='train')\n",
        "  pyplot.plot(history.history['val_loss'], label='test')\n",
        "  pyplot.title('loss', y=0, loc='center')\n",
        "  pyplot.legend()\n",
        "  # plot rmse\n",
        "  pyplot.subplot(2, 1, 2)\n",
        "  pyplot.plot(history.history['root_mean_squared_error'], label='train')\n",
        "  pyplot.plot(history.history['val_rmse'], label='test')\n",
        "  pyplot.title('rmse', y=0, loc='center')\n",
        "  pyplot.legend()\n",
        "  pyplot.show()\n",
        "# train the model\n",
        "def build_model(train,cfg):\n",
        "  # prepare data\n",
        "  n_input,n_filters,n_kernels,n_epochs,n_batch,n_diff = cfg\n",
        "  train_x, train_y = to_supervised(train, n_input)\n",
        "  train_x,valid_x,train_y,valid_y = train_test_split(train_x,train_y,test_size = 0.1,shuffle = False)\n",
        "  # define parameters\n",
        "  n_timesteps, n_features, n_outputs = train_x.shape[1], train_x.shape[2], train_y.shape[1]\n",
        "  # reshape into subsequences [samples, timesteps, rows, cols, channels]\n",
        "  train_x = train_x.reshape((train_x.shape[0], n_steps, 1, n_length, n_features))\n",
        "  valid_x = valid_x.reshape((valid_x.shape[0], n_steps, 1, n_length, n_features)) \n",
        "  # create a channel for each variable\n",
        "  train_y = train_y.reshape((train_y.shape[0], train_y.shape[1], 1))\n",
        "  valid_y = valid_y.reshape((valid_y.shape[0], valid_y.shape[1], 1))\n",
        "  # define model\n",
        "  model = Sequential()\n",
        "  model.add(ConvLSTM2D(64, (1,3), activation='relu', input_shape=(n_steps, 1, n_length,\n",
        "  n_features)))\n",
        "  model.add(Flatten())\n",
        "  model.add(RepeatVector(n_outputs))\n",
        "  model.add(LSTM(200, activation='relu', return_sequences=True))\n",
        "  model.add(TimeDistributed(Dense(100, activation='relu')))\n",
        "  model.add(TimeDistributed(Dense(1)))\n",
        "  # compile model\n",
        "  model.compile(loss='mse', optimizer='adam',metrics=[tf.keras.metrics.RootMeanSquaredError()])\n",
        "  # plot the model\n",
        "  plot_model(model, show_shapes=True, to_file='multiheaded_cnn.png')\n",
        "  # fit network\n",
        "  model_history = model.fit(train_x, train_y, epochs=n_epochs, batch_size=n_batch, validation_data = (valid_x,valid_y),verbose=0)\n",
        "  return model,model_history\n",
        "\n",
        "# make a forecast\n",
        "def forecast(model, history, cfg):\n",
        "  # flatten data\n",
        "  data = array(history)\n",
        "  # retrieve last observations for input data\n",
        "  n_input,_,_,_,_,_ = cfg\n",
        "  input_x = data[-n_input:, :]\n",
        "  # reshape into [1, n_input, n]\n",
        "  input_x = input_x.reshape((1, input_x.shape[0], input_x.shape[1]))\n",
        "\n",
        "  # forecast the next day\n",
        "  yhat = model.predict(input_x, verbose=0)\n",
        "  # we only want the vector forecast\n",
        "  yhat = yhat[0]\n",
        "  return yhat\n",
        "\n",
        "# evaluate a single model\n",
        "def evaluate_model(train,test, cfg):\n",
        "  # fit model\n",
        "  model,model_history = build_model(train,cfg)\n",
        "  # history is a list of train data\n",
        "  history = [x for x in train]\n",
        "  # walk-forward validation over each day\n",
        "  predictions = list()\n",
        "  for i in range(len(test)):\n",
        "    # predict the day\n",
        "    yhat_sequence = forecast(model, history,cfg)\n",
        "    # store the predictions\n",
        "    predictions.append(yhat_sequence)\n",
        "    # get real observation and add to history for predicting the next day\n",
        "    history.append(test[i, :])\n",
        "  # evaluate predictions for each day\n",
        "  predictions = array(predictions)\n",
        "  scores = evaluate_forecasts(test[:,0], predictions)\n",
        "  return scores,model_history,predictions\n",
        "# score a model, return None on failure\n",
        "def repeat_evaluate(train,test,cfg,n_repeats=1):\n",
        "  # convert config to a key\n",
        "  key = str(cfg)\n",
        "  # fit and evaluate the model n times\n",
        "  result = []\n",
        "  for i in range(n_repeats):\n",
        "    if i == (n_repeats-1):\n",
        "      scores,model_history,predictions = evaluate_model(train,test,cfg) \n",
        "      result.append(scores)\n",
        "    else:\n",
        "      scores,_,_ = evaluate_model(train,test,cfg) \n",
        "      result.append(scores)\n",
        "  # summarize score\n",
        "  result = mean(result)\n",
        "  print('> Model[%s] %.3f' % (key, result))\n",
        "  return (result)\n",
        "  # grid search configs\n",
        "def grid_search(train,test, cfg_list):\n",
        "  # evaluate configs\n",
        "  scores =  [repeat_evaluate(train,test, cfg) for cfg in cfg_list]\n",
        "  # sort configs by error, asc\n",
        "  scores.sort(key=lambda tup: tup[1])\n",
        "  return scores"
      ],
      "execution_count": 0,
      "outputs": []
    },
    {
      "cell_type": "code",
      "metadata": {
        "id": "Y3TRDfb3HHC7",
        "colab_type": "code",
        "outputId": "bffe8be5-79b6-4320-835a-0b94d0f8e917",
        "colab": {
          "base_uri": "https://localhost:8080/",
          "height": 370
        }
      },
      "source": [
        "# load the new file\n",
        "#dataset = read_csv('household_power_consumption_days.csv', header=0,\n",
        "#infer_datetime_format=True, parse_dates=['datetime'], index_col=['datetime'])\n",
        "# split into train and test\n",
        "train, test = split_dataset(dataset.values)\n",
        "# evaluate model and get scores\n",
        "n_input = 7\n",
        "scores,model_history = evaluate_model(train, test, n_input)\n",
        "# summarize scores\n",
        "#summarize_scores('cnn', score, scores)\n",
        "# plot scores\n",
        "#days = ['sun', 'mon', 'tue', 'wed', 'thr', 'fri', 'sat']\n",
        "#pyplot.plot(days, scores, marker='o', label='cnn')\n",
        "#pyplot.show()"
      ],
      "execution_count": 0,
      "outputs": [
        {
          "output_type": "error",
          "ename": "KeyboardInterrupt",
          "evalue": "ignored",
          "traceback": [
            "\u001b[0;31m---------------------------------------------------------------------------\u001b[0m",
            "\u001b[0;31mKeyboardInterrupt\u001b[0m                         Traceback (most recent call last)",
            "\u001b[0;32m<ipython-input-78-b9dda87f28e8>\u001b[0m in \u001b[0;36m<module>\u001b[0;34m()\u001b[0m\n\u001b[1;32m      6\u001b[0m \u001b[0;31m# evaluate model and get scores\u001b[0m\u001b[0;34m\u001b[0m\u001b[0;34m\u001b[0m\u001b[0;34m\u001b[0m\u001b[0m\n\u001b[1;32m      7\u001b[0m \u001b[0mn_input\u001b[0m \u001b[0;34m=\u001b[0m \u001b[0;36m7\u001b[0m\u001b[0;34m\u001b[0m\u001b[0;34m\u001b[0m\u001b[0m\n\u001b[0;32m----> 8\u001b[0;31m \u001b[0mscores\u001b[0m\u001b[0;34m,\u001b[0m\u001b[0mmodel_history\u001b[0m \u001b[0;34m=\u001b[0m \u001b[0mevaluate_model\u001b[0m\u001b[0;34m(\u001b[0m\u001b[0mtrain\u001b[0m\u001b[0;34m,\u001b[0m \u001b[0mtest\u001b[0m\u001b[0;34m,\u001b[0m \u001b[0mn_input\u001b[0m\u001b[0;34m)\u001b[0m\u001b[0;34m\u001b[0m\u001b[0;34m\u001b[0m\u001b[0m\n\u001b[0m\u001b[1;32m      9\u001b[0m \u001b[0;31m# summarize scores\u001b[0m\u001b[0;34m\u001b[0m\u001b[0;34m\u001b[0m\u001b[0;34m\u001b[0m\u001b[0m\n\u001b[1;32m     10\u001b[0m \u001b[0;31m#summarize_scores('cnn', score, scores)\u001b[0m\u001b[0;34m\u001b[0m\u001b[0;34m\u001b[0m\u001b[0;34m\u001b[0m\u001b[0m\n",
            "\u001b[0;32m<ipython-input-77-c0b092e95628>\u001b[0m in \u001b[0;36mevaluate_model\u001b[0;34m(train, test, n_input)\u001b[0m\n\u001b[1;32m     72\u001b[0m \u001b[0;32mdef\u001b[0m \u001b[0mevaluate_model\u001b[0m\u001b[0;34m(\u001b[0m\u001b[0mtrain\u001b[0m\u001b[0;34m,\u001b[0m \u001b[0mtest\u001b[0m\u001b[0;34m,\u001b[0m \u001b[0mn_input\u001b[0m\u001b[0;34m)\u001b[0m\u001b[0;34m:\u001b[0m\u001b[0;34m\u001b[0m\u001b[0;34m\u001b[0m\u001b[0m\n\u001b[1;32m     73\u001b[0m   \u001b[0;31m# fit model\u001b[0m\u001b[0;34m\u001b[0m\u001b[0;34m\u001b[0m\u001b[0;34m\u001b[0m\u001b[0m\n\u001b[0;32m---> 74\u001b[0;31m   \u001b[0mmodel\u001b[0m\u001b[0;34m,\u001b[0m\u001b[0mmodel_history\u001b[0m \u001b[0;34m=\u001b[0m \u001b[0mbuild_model\u001b[0m\u001b[0;34m(\u001b[0m\u001b[0mtrain\u001b[0m\u001b[0;34m,\u001b[0m \u001b[0mn_input\u001b[0m\u001b[0;34m)\u001b[0m\u001b[0;34m\u001b[0m\u001b[0;34m\u001b[0m\u001b[0m\n\u001b[0m\u001b[1;32m     75\u001b[0m   \u001b[0;31m# history is a list of weekly data\u001b[0m\u001b[0;34m\u001b[0m\u001b[0;34m\u001b[0m\u001b[0;34m\u001b[0m\u001b[0m\n\u001b[1;32m     76\u001b[0m   \u001b[0mhistory\u001b[0m \u001b[0;34m=\u001b[0m \u001b[0;34m[\u001b[0m\u001b[0mx\u001b[0m \u001b[0;32mfor\u001b[0m \u001b[0mx\u001b[0m \u001b[0;32min\u001b[0m \u001b[0mtrain\u001b[0m\u001b[0;34m]\u001b[0m\u001b[0;34m\u001b[0m\u001b[0;34m\u001b[0m\u001b[0m\n",
            "\u001b[0;32m<ipython-input-77-c0b092e95628>\u001b[0m in \u001b[0;36mbuild_model\u001b[0;34m(train, n_input)\u001b[0m\n\u001b[1;32m     53\u001b[0m   \u001b[0mmodel\u001b[0m\u001b[0;34m.\u001b[0m\u001b[0mcompile\u001b[0m\u001b[0;34m(\u001b[0m\u001b[0mloss\u001b[0m\u001b[0;34m=\u001b[0m\u001b[0;34m'mse'\u001b[0m\u001b[0;34m,\u001b[0m \u001b[0moptimizer\u001b[0m\u001b[0;34m=\u001b[0m\u001b[0;34m'adam'\u001b[0m\u001b[0;34m,\u001b[0m\u001b[0mmetrics\u001b[0m \u001b[0;34m=\u001b[0m \u001b[0;34m[\u001b[0m\u001b[0;34m'accuracy'\u001b[0m\u001b[0;34m]\u001b[0m\u001b[0;34m)\u001b[0m\u001b[0;34m\u001b[0m\u001b[0;34m\u001b[0m\u001b[0m\n\u001b[1;32m     54\u001b[0m   \u001b[0;31m# fit network\u001b[0m\u001b[0;34m\u001b[0m\u001b[0;34m\u001b[0m\u001b[0;34m\u001b[0m\u001b[0m\n\u001b[0;32m---> 55\u001b[0;31m   \u001b[0mmodel_history\u001b[0m \u001b[0;34m=\u001b[0m \u001b[0mmodel\u001b[0m\u001b[0;34m.\u001b[0m\u001b[0mfit\u001b[0m\u001b[0;34m(\u001b[0m\u001b[0mtrain_x\u001b[0m\u001b[0;34m,\u001b[0m \u001b[0mtrain_y\u001b[0m\u001b[0;34m,\u001b[0m \u001b[0mepochs\u001b[0m\u001b[0;34m=\u001b[0m\u001b[0mepochs\u001b[0m\u001b[0;34m,\u001b[0m \u001b[0mbatch_size\u001b[0m\u001b[0;34m=\u001b[0m\u001b[0mbatch_size\u001b[0m\u001b[0;34m,\u001b[0m \u001b[0mverbose\u001b[0m\u001b[0;34m=\u001b[0m\u001b[0mverbose\u001b[0m\u001b[0;34m)\u001b[0m\u001b[0;34m\u001b[0m\u001b[0;34m\u001b[0m\u001b[0m\n\u001b[0m\u001b[1;32m     56\u001b[0m   \u001b[0;32mreturn\u001b[0m \u001b[0mmodel\u001b[0m\u001b[0;34m,\u001b[0m\u001b[0mmodel_history\u001b[0m\u001b[0;34m\u001b[0m\u001b[0;34m\u001b[0m\u001b[0m\n\u001b[1;32m     57\u001b[0m \u001b[0;31m# make a forecast\u001b[0m\u001b[0;34m\u001b[0m\u001b[0;34m\u001b[0m\u001b[0;34m\u001b[0m\u001b[0m\n",
            "\u001b[0;32m/usr/local/lib/python3.6/dist-packages/keras/engine/training.py\u001b[0m in \u001b[0;36mfit\u001b[0;34m(self, x, y, batch_size, epochs, verbose, callbacks, validation_split, validation_data, shuffle, class_weight, sample_weight, initial_epoch, steps_per_epoch, validation_steps, validation_freq, max_queue_size, workers, use_multiprocessing, **kwargs)\u001b[0m\n\u001b[1;32m   1237\u001b[0m                                         \u001b[0msteps_per_epoch\u001b[0m\u001b[0;34m=\u001b[0m\u001b[0msteps_per_epoch\u001b[0m\u001b[0;34m,\u001b[0m\u001b[0;34m\u001b[0m\u001b[0;34m\u001b[0m\u001b[0m\n\u001b[1;32m   1238\u001b[0m                                         \u001b[0mvalidation_steps\u001b[0m\u001b[0;34m=\u001b[0m\u001b[0mvalidation_steps\u001b[0m\u001b[0;34m,\u001b[0m\u001b[0;34m\u001b[0m\u001b[0;34m\u001b[0m\u001b[0m\n\u001b[0;32m-> 1239\u001b[0;31m                                         validation_freq=validation_freq)\n\u001b[0m\u001b[1;32m   1240\u001b[0m \u001b[0;34m\u001b[0m\u001b[0m\n\u001b[1;32m   1241\u001b[0m     def evaluate(self,\n",
            "\u001b[0;32m/usr/local/lib/python3.6/dist-packages/keras/engine/training_arrays.py\u001b[0m in \u001b[0;36mfit_loop\u001b[0;34m(model, fit_function, fit_inputs, out_labels, batch_size, epochs, verbose, callbacks, val_function, val_inputs, shuffle, initial_epoch, steps_per_epoch, validation_steps, validation_freq)\u001b[0m\n\u001b[1;32m    194\u001b[0m                     \u001b[0mins_batch\u001b[0m\u001b[0;34m[\u001b[0m\u001b[0mi\u001b[0m\u001b[0;34m]\u001b[0m \u001b[0;34m=\u001b[0m \u001b[0mins_batch\u001b[0m\u001b[0;34m[\u001b[0m\u001b[0mi\u001b[0m\u001b[0;34m]\u001b[0m\u001b[0;34m.\u001b[0m\u001b[0mtoarray\u001b[0m\u001b[0;34m(\u001b[0m\u001b[0;34m)\u001b[0m\u001b[0;34m\u001b[0m\u001b[0;34m\u001b[0m\u001b[0m\n\u001b[1;32m    195\u001b[0m \u001b[0;34m\u001b[0m\u001b[0m\n\u001b[0;32m--> 196\u001b[0;31m                 \u001b[0mouts\u001b[0m \u001b[0;34m=\u001b[0m \u001b[0mfit_function\u001b[0m\u001b[0;34m(\u001b[0m\u001b[0mins_batch\u001b[0m\u001b[0;34m)\u001b[0m\u001b[0;34m\u001b[0m\u001b[0;34m\u001b[0m\u001b[0m\n\u001b[0m\u001b[1;32m    197\u001b[0m                 \u001b[0mouts\u001b[0m \u001b[0;34m=\u001b[0m \u001b[0mto_list\u001b[0m\u001b[0;34m(\u001b[0m\u001b[0mouts\u001b[0m\u001b[0;34m)\u001b[0m\u001b[0;34m\u001b[0m\u001b[0;34m\u001b[0m\u001b[0m\n\u001b[1;32m    198\u001b[0m                 \u001b[0;32mfor\u001b[0m \u001b[0ml\u001b[0m\u001b[0;34m,\u001b[0m \u001b[0mo\u001b[0m \u001b[0;32min\u001b[0m \u001b[0mzip\u001b[0m\u001b[0;34m(\u001b[0m\u001b[0mout_labels\u001b[0m\u001b[0;34m,\u001b[0m \u001b[0mouts\u001b[0m\u001b[0;34m)\u001b[0m\u001b[0;34m:\u001b[0m\u001b[0;34m\u001b[0m\u001b[0;34m\u001b[0m\u001b[0m\n",
            "\u001b[0;32m/usr/local/lib/python3.6/dist-packages/tensorflow/python/keras/backend.py\u001b[0m in \u001b[0;36m__call__\u001b[0;34m(self, inputs)\u001b[0m\n\u001b[1;32m   3790\u001b[0m         \u001b[0mvalue\u001b[0m \u001b[0;34m=\u001b[0m \u001b[0mmath_ops\u001b[0m\u001b[0;34m.\u001b[0m\u001b[0mcast\u001b[0m\u001b[0;34m(\u001b[0m\u001b[0mvalue\u001b[0m\u001b[0;34m,\u001b[0m \u001b[0mtensor\u001b[0m\u001b[0;34m.\u001b[0m\u001b[0mdtype\u001b[0m\u001b[0;34m)\u001b[0m\u001b[0;34m\u001b[0m\u001b[0;34m\u001b[0m\u001b[0m\n\u001b[1;32m   3791\u001b[0m       \u001b[0mconverted_inputs\u001b[0m\u001b[0;34m.\u001b[0m\u001b[0mappend\u001b[0m\u001b[0;34m(\u001b[0m\u001b[0mvalue\u001b[0m\u001b[0;34m)\u001b[0m\u001b[0;34m\u001b[0m\u001b[0;34m\u001b[0m\u001b[0m\n\u001b[0;32m-> 3792\u001b[0;31m     \u001b[0moutputs\u001b[0m \u001b[0;34m=\u001b[0m \u001b[0mself\u001b[0m\u001b[0;34m.\u001b[0m\u001b[0m_graph_fn\u001b[0m\u001b[0;34m(\u001b[0m\u001b[0;34m*\u001b[0m\u001b[0mconverted_inputs\u001b[0m\u001b[0;34m)\u001b[0m\u001b[0;34m\u001b[0m\u001b[0;34m\u001b[0m\u001b[0m\n\u001b[0m\u001b[1;32m   3793\u001b[0m \u001b[0;34m\u001b[0m\u001b[0m\n\u001b[1;32m   3794\u001b[0m     \u001b[0;31m# EagerTensor.numpy() will often make a copy to ensure memory safety.\u001b[0m\u001b[0;34m\u001b[0m\u001b[0;34m\u001b[0m\u001b[0;34m\u001b[0m\u001b[0m\n",
            "\u001b[0;32m/usr/local/lib/python3.6/dist-packages/tensorflow/python/eager/function.py\u001b[0m in \u001b[0;36m__call__\u001b[0;34m(self, *args, **kwargs)\u001b[0m\n\u001b[1;32m   1603\u001b[0m       \u001b[0mTypeError\u001b[0m\u001b[0;34m:\u001b[0m \u001b[0mFor\u001b[0m \u001b[0minvalid\u001b[0m \u001b[0mpositional\u001b[0m\u001b[0;34m/\u001b[0m\u001b[0mkeyword\u001b[0m \u001b[0margument\u001b[0m \u001b[0mcombinations\u001b[0m\u001b[0;34m.\u001b[0m\u001b[0;34m\u001b[0m\u001b[0;34m\u001b[0m\u001b[0m\n\u001b[1;32m   1604\u001b[0m     \"\"\"\n\u001b[0;32m-> 1605\u001b[0;31m     \u001b[0;32mreturn\u001b[0m \u001b[0mself\u001b[0m\u001b[0;34m.\u001b[0m\u001b[0m_call_impl\u001b[0m\u001b[0;34m(\u001b[0m\u001b[0margs\u001b[0m\u001b[0;34m,\u001b[0m \u001b[0mkwargs\u001b[0m\u001b[0;34m)\u001b[0m\u001b[0;34m\u001b[0m\u001b[0;34m\u001b[0m\u001b[0m\n\u001b[0m\u001b[1;32m   1606\u001b[0m \u001b[0;34m\u001b[0m\u001b[0m\n\u001b[1;32m   1607\u001b[0m   \u001b[0;32mdef\u001b[0m \u001b[0m_call_impl\u001b[0m\u001b[0;34m(\u001b[0m\u001b[0mself\u001b[0m\u001b[0;34m,\u001b[0m \u001b[0margs\u001b[0m\u001b[0;34m,\u001b[0m \u001b[0mkwargs\u001b[0m\u001b[0;34m,\u001b[0m \u001b[0mcancellation_manager\u001b[0m\u001b[0;34m=\u001b[0m\u001b[0;32mNone\u001b[0m\u001b[0;34m)\u001b[0m\u001b[0;34m:\u001b[0m\u001b[0;34m\u001b[0m\u001b[0;34m\u001b[0m\u001b[0m\n",
            "\u001b[0;32m/usr/local/lib/python3.6/dist-packages/tensorflow/python/eager/function.py\u001b[0m in \u001b[0;36m_call_impl\u001b[0;34m(self, args, kwargs, cancellation_manager)\u001b[0m\n\u001b[1;32m   1643\u001b[0m       raise TypeError(\"Keyword arguments {} unknown. Expected {}.\".format(\n\u001b[1;32m   1644\u001b[0m           list(kwargs.keys()), list(self._arg_keywords)))\n\u001b[0;32m-> 1645\u001b[0;31m     \u001b[0;32mreturn\u001b[0m \u001b[0mself\u001b[0m\u001b[0;34m.\u001b[0m\u001b[0m_call_flat\u001b[0m\u001b[0;34m(\u001b[0m\u001b[0margs\u001b[0m\u001b[0;34m,\u001b[0m \u001b[0mself\u001b[0m\u001b[0;34m.\u001b[0m\u001b[0mcaptured_inputs\u001b[0m\u001b[0;34m,\u001b[0m \u001b[0mcancellation_manager\u001b[0m\u001b[0;34m)\u001b[0m\u001b[0;34m\u001b[0m\u001b[0;34m\u001b[0m\u001b[0m\n\u001b[0m\u001b[1;32m   1646\u001b[0m \u001b[0;34m\u001b[0m\u001b[0m\n\u001b[1;32m   1647\u001b[0m   \u001b[0;32mdef\u001b[0m \u001b[0m_filtered_call\u001b[0m\u001b[0;34m(\u001b[0m\u001b[0mself\u001b[0m\u001b[0;34m,\u001b[0m \u001b[0margs\u001b[0m\u001b[0;34m,\u001b[0m \u001b[0mkwargs\u001b[0m\u001b[0;34m)\u001b[0m\u001b[0;34m:\u001b[0m\u001b[0;34m\u001b[0m\u001b[0;34m\u001b[0m\u001b[0m\n",
            "\u001b[0;32m/usr/local/lib/python3.6/dist-packages/tensorflow/python/eager/function.py\u001b[0m in \u001b[0;36m_call_flat\u001b[0;34m(self, args, captured_inputs, cancellation_manager)\u001b[0m\n\u001b[1;32m   1744\u001b[0m       \u001b[0;31m# No tape is watching; skip to running the function.\u001b[0m\u001b[0;34m\u001b[0m\u001b[0;34m\u001b[0m\u001b[0;34m\u001b[0m\u001b[0m\n\u001b[1;32m   1745\u001b[0m       return self._build_call_outputs(self._inference_function.call(\n\u001b[0;32m-> 1746\u001b[0;31m           ctx, args, cancellation_manager=cancellation_manager))\n\u001b[0m\u001b[1;32m   1747\u001b[0m     forward_backward = self._select_forward_and_backward_functions(\n\u001b[1;32m   1748\u001b[0m         \u001b[0margs\u001b[0m\u001b[0;34m,\u001b[0m\u001b[0;34m\u001b[0m\u001b[0;34m\u001b[0m\u001b[0m\n",
            "\u001b[0;32m/usr/local/lib/python3.6/dist-packages/tensorflow/python/eager/function.py\u001b[0m in \u001b[0;36mcall\u001b[0;34m(self, ctx, args, cancellation_manager)\u001b[0m\n\u001b[1;32m    596\u001b[0m               \u001b[0minputs\u001b[0m\u001b[0;34m=\u001b[0m\u001b[0margs\u001b[0m\u001b[0;34m,\u001b[0m\u001b[0;34m\u001b[0m\u001b[0;34m\u001b[0m\u001b[0m\n\u001b[1;32m    597\u001b[0m               \u001b[0mattrs\u001b[0m\u001b[0;34m=\u001b[0m\u001b[0mattrs\u001b[0m\u001b[0;34m,\u001b[0m\u001b[0;34m\u001b[0m\u001b[0;34m\u001b[0m\u001b[0m\n\u001b[0;32m--> 598\u001b[0;31m               ctx=ctx)\n\u001b[0m\u001b[1;32m    599\u001b[0m         \u001b[0;32melse\u001b[0m\u001b[0;34m:\u001b[0m\u001b[0;34m\u001b[0m\u001b[0;34m\u001b[0m\u001b[0m\n\u001b[1;32m    600\u001b[0m           outputs = execute.execute_with_cancellation(\n",
            "\u001b[0;32m/usr/local/lib/python3.6/dist-packages/tensorflow/python/eager/execute.py\u001b[0m in \u001b[0;36mquick_execute\u001b[0;34m(op_name, num_outputs, inputs, attrs, ctx, name)\u001b[0m\n\u001b[1;32m     58\u001b[0m     \u001b[0mctx\u001b[0m\u001b[0;34m.\u001b[0m\u001b[0mensure_initialized\u001b[0m\u001b[0;34m(\u001b[0m\u001b[0;34m)\u001b[0m\u001b[0;34m\u001b[0m\u001b[0;34m\u001b[0m\u001b[0m\n\u001b[1;32m     59\u001b[0m     tensors = pywrap_tfe.TFE_Py_Execute(ctx._handle, device_name, op_name,\n\u001b[0;32m---> 60\u001b[0;31m                                         inputs, attrs, num_outputs)\n\u001b[0m\u001b[1;32m     61\u001b[0m   \u001b[0;32mexcept\u001b[0m \u001b[0mcore\u001b[0m\u001b[0;34m.\u001b[0m\u001b[0m_NotOkStatusException\u001b[0m \u001b[0;32mas\u001b[0m \u001b[0me\u001b[0m\u001b[0;34m:\u001b[0m\u001b[0;34m\u001b[0m\u001b[0;34m\u001b[0m\u001b[0m\n\u001b[1;32m     62\u001b[0m     \u001b[0;32mif\u001b[0m \u001b[0mname\u001b[0m \u001b[0;32mis\u001b[0m \u001b[0;32mnot\u001b[0m \u001b[0;32mNone\u001b[0m\u001b[0;34m:\u001b[0m\u001b[0;34m\u001b[0m\u001b[0;34m\u001b[0m\u001b[0m\n",
            "\u001b[0;31mKeyboardInterrupt\u001b[0m: "
          ]
        }
      ]
    },
    {
      "cell_type": "code",
      "metadata": {
        "id": "dvPrCCGlHORl",
        "colab_type": "code",
        "outputId": "105165a3-c989-40cb-a3b9-7e97a8951c68",
        "colab": {
          "base_uri": "https://localhost:8080/",
          "height": 34
        }
      },
      "source": [
        "print(scores)"
      ],
      "execution_count": 0,
      "outputs": [
        {
          "output_type": "stream",
          "text": [
            "[7.022464081640758]\n"
          ],
          "name": "stdout"
        }
      ]
    },
    {
      "cell_type": "code",
      "metadata": {
        "id": "1dIqDOApKUqj",
        "colab_type": "code",
        "outputId": "a38f502c-baeb-4b12-ffd1-004b69f020b5",
        "colab": {
          "base_uri": "https://localhost:8080/",
          "height": 1000
        }
      },
      "source": [
        "model_history.history"
      ],
      "execution_count": 0,
      "outputs": [
        {
          "output_type": "execute_result",
          "data": {
            "text/plain": [
              "{'accuracy': [0.015223275,\n",
              "  0.016576454,\n",
              "  0.025541272,\n",
              "  0.031968877,\n",
              "  0.033998646,\n",
              "  0.04397835,\n",
              "  0.049052775,\n",
              "  0.061907984,\n",
              "  0.07222598,\n",
              "  0.086772665,\n",
              "  0.11654262,\n",
              "  0.113667116,\n",
              "  0.1085927,\n",
              "  0.1517253,\n",
              "  0.1549391,\n",
              "  0.1588295,\n",
              "  0.17642084,\n",
              "  0.14766577,\n",
              "  0.14292963,\n",
              "  0.14715832,\n",
              "  0.15612315,\n",
              "  0.15392423,\n",
              "  0.14343707,\n",
              "  0.18098782,\n",
              "  0.16339648,\n",
              "  0.1791272,\n",
              "  0.19130582,\n",
              "  0.19367388,\n",
              "  0.17675914,\n",
              "  0.18183357,\n",
              "  0.19638024,\n",
              "  0.16474967,\n",
              "  0.16238159,\n",
              "  0.13717861,\n",
              "  0.16830176,\n",
              "  0.16508795,\n",
              "  0.17608254,\n",
              "  0.15832205,\n",
              "  0.16948579,\n",
              "  0.16305819,\n",
              "  0.1556157,\n",
              "  0.18014209,\n",
              "  0.14191476,\n",
              "  0.116035186,\n",
              "  0.1520636,\n",
              "  0.13768606,\n",
              "  0.13717861,\n",
              "  0.17185386,\n",
              "  0.13667117,\n",
              "  0.14309879,\n",
              "  0.17845061,\n",
              "  0.14377537,\n",
              "  0.11332882,\n",
              "  0.11231394,\n",
              "  0.16491881,\n",
              "  0.13125846,\n",
              "  0.17253044,\n",
              "  0.15899865,\n",
              "  0.1655954,\n",
              "  0.1688092,\n",
              "  0.15071042,\n",
              "  0.15730718,\n",
              "  0.14106901,\n",
              "  0.17574425,\n",
              "  0.14343707,\n",
              "  0.15950608,\n",
              "  0.16407306,\n",
              "  0.15967524,\n",
              "  0.17219216,\n",
              "  0.13616374],\n",
              " 'loss': [1122.996932643051,\n",
              "  142.82424911992757,\n",
              "  109.33270223188707,\n",
              "  101.36509154772283,\n",
              "  96.582431334241,\n",
              "  81.46008948553278,\n",
              "  77.13456219568829,\n",
              "  73.64516440033913,\n",
              "  70.6478461771044,\n",
              "  71.75754615395168,\n",
              "  69.41729529546788,\n",
              "  69.3396618635342,\n",
              "  68.36427951269752,\n",
              "  68.26086199257828,\n",
              "  67.39978325198699,\n",
              "  67.64077995001516,\n",
              "  66.89785254045789,\n",
              "  67.90384761447525,\n",
              "  67.61969923016508,\n",
              "  66.83937905976991,\n",
              "  65.3477090846061,\n",
              "  66.29410699098459,\n",
              "  65.52816438983625,\n",
              "  65.77277255729811,\n",
              "  66.4879803420977,\n",
              "  65.9661784072738,\n",
              "  65.40920050007685,\n",
              "  65.80359741911596,\n",
              "  65.70845949681836,\n",
              "  65.26482986499012,\n",
              "  65.81859190459458,\n",
              "  67.42471843469366,\n",
              "  65.69997778699872,\n",
              "  65.45049085964244,\n",
              "  65.7188735596145,\n",
              "  64.88335562497882,\n",
              "  64.97031021525571,\n",
              "  65.31089845529432,\n",
              "  64.5660097832503,\n",
              "  65.16388217202629,\n",
              "  64.97348911313462,\n",
              "  64.91631285040967,\n",
              "  65.48709797425037,\n",
              "  64.47587103363226,\n",
              "  64.37656830086581,\n",
              "  64.69450424312134,\n",
              "  65.18602626674468,\n",
              "  64.44986103803136,\n",
              "  64.94872809238215,\n",
              "  64.13253738537824,\n",
              "  63.10904917928752,\n",
              "  64.42998223031678,\n",
              "  64.71350957377383,\n",
              "  64.43380978245557,\n",
              "  64.26655261215524,\n",
              "  64.17444915664117,\n",
              "  64.31898026233124,\n",
              "  63.718360354512654,\n",
              "  64.31616332039744,\n",
              "  64.38920372456982,\n",
              "  64.20307410204423,\n",
              "  64.39744083872708,\n",
              "  65.02991751607927,\n",
              "  65.41084147474434,\n",
              "  64.03087805379724,\n",
              "  63.75463537412682,\n",
              "  64.74118421330395,\n",
              "  64.39109666051478,\n",
              "  64.84421350592835,\n",
              "  64.51589421073797]}"
            ]
          },
          "metadata": {
            "tags": []
          },
          "execution_count": 66
        }
      ]
    },
    {
      "cell_type": "code",
      "metadata": {
        "id": "b4Ti1uOhBoFd",
        "colab_type": "code",
        "colab": {}
      },
      "source": [
        "data = df.copy()"
      ],
      "execution_count": 0,
      "outputs": []
    },
    {
      "cell_type": "code",
      "metadata": {
        "id": "-27VIZg0KaFP",
        "colab_type": "code",
        "colab": {}
      },
      "source": [
        "data = data.drop(['Snowfall','Snow depth'],axis=1)"
      ],
      "execution_count": 0,
      "outputs": []
    },
    {
      "cell_type": "code",
      "metadata": {
        "id": "PBcZbAkgBxMV",
        "colab_type": "code",
        "outputId": "8951c0a0-3065-4b33-f4bd-8cdfb96403b0",
        "colab": {
          "base_uri": "https://localhost:8080/",
          "height": 195
        }
      },
      "source": [
        "data.head(5)"
      ],
      "execution_count": 0,
      "outputs": [
        {
          "output_type": "execute_result",
          "data": {
            "text/html": [
              "<div>\n",
              "<style scoped>\n",
              "    .dataframe tbody tr th:only-of-type {\n",
              "        vertical-align: middle;\n",
              "    }\n",
              "\n",
              "    .dataframe tbody tr th {\n",
              "        vertical-align: top;\n",
              "    }\n",
              "\n",
              "    .dataframe thead th {\n",
              "        text-align: right;\n",
              "    }\n",
              "</style>\n",
              "<table border=\"1\" class=\"dataframe\">\n",
              "  <thead>\n",
              "    <tr style=\"text-align: right;\">\n",
              "      <th></th>\n",
              "      <th># Date</th>\n",
              "      <th>UT time</th>\n",
              "      <th>Temperature</th>\n",
              "      <th>Relative Humidity</th>\n",
              "      <th>Pressure</th>\n",
              "      <th>Wind speed</th>\n",
              "      <th>Wind direction</th>\n",
              "      <th>Rainfall</th>\n",
              "      <th>Short-wave irradiation</th>\n",
              "    </tr>\n",
              "  </thead>\n",
              "  <tbody>\n",
              "    <tr>\n",
              "      <th>0</th>\n",
              "      <td>2000-01-01</td>\n",
              "      <td>24:00</td>\n",
              "      <td>286.69</td>\n",
              "      <td>20.42</td>\n",
              "      <td>938.00</td>\n",
              "      <td>0.34</td>\n",
              "      <td>359.45</td>\n",
              "      <td>0.0</td>\n",
              "      <td>4057.961</td>\n",
              "    </tr>\n",
              "    <tr>\n",
              "      <th>1</th>\n",
              "      <td>2000-01-02</td>\n",
              "      <td>24:00</td>\n",
              "      <td>286.54</td>\n",
              "      <td>20.20</td>\n",
              "      <td>937.75</td>\n",
              "      <td>0.19</td>\n",
              "      <td>359.78</td>\n",
              "      <td>0.0</td>\n",
              "      <td>4090.309</td>\n",
              "    </tr>\n",
              "    <tr>\n",
              "      <th>2</th>\n",
              "      <td>2000-01-03</td>\n",
              "      <td>24:00</td>\n",
              "      <td>286.15</td>\n",
              "      <td>19.93</td>\n",
              "      <td>936.07</td>\n",
              "      <td>0.23</td>\n",
              "      <td>328.13</td>\n",
              "      <td>0.0</td>\n",
              "      <td>4117.362</td>\n",
              "    </tr>\n",
              "    <tr>\n",
              "      <th>3</th>\n",
              "      <td>2000-01-04</td>\n",
              "      <td>24:00</td>\n",
              "      <td>286.06</td>\n",
              "      <td>20.16</td>\n",
              "      <td>936.70</td>\n",
              "      <td>0.38</td>\n",
              "      <td>301.85</td>\n",
              "      <td>0.0</td>\n",
              "      <td>4137.729</td>\n",
              "    </tr>\n",
              "    <tr>\n",
              "      <th>4</th>\n",
              "      <td>2000-01-05</td>\n",
              "      <td>24:00</td>\n",
              "      <td>285.80</td>\n",
              "      <td>19.69</td>\n",
              "      <td>937.07</td>\n",
              "      <td>1.47</td>\n",
              "      <td>307.53</td>\n",
              "      <td>0.0</td>\n",
              "      <td>4169.898</td>\n",
              "    </tr>\n",
              "  </tbody>\n",
              "</table>\n",
              "</div>"
            ],
            "text/plain": [
              "       # Date UT time  ...  Rainfall  Short-wave irradiation\n",
              "0  2000-01-01   24:00  ...       0.0                4057.961\n",
              "1  2000-01-02   24:00  ...       0.0                4090.309\n",
              "2  2000-01-03   24:00  ...       0.0                4117.362\n",
              "3  2000-01-04   24:00  ...       0.0                4137.729\n",
              "4  2000-01-05   24:00  ...       0.0                4169.898\n",
              "\n",
              "[5 rows x 9 columns]"
            ]
          },
          "metadata": {
            "tags": []
          },
          "execution_count": 85
        }
      ]
    },
    {
      "cell_type": "code",
      "metadata": {
        "id": "EuaEHJJKB0JM",
        "colab_type": "code",
        "colab": {}
      },
      "source": [
        "data = data.rename(columns={'# Date':'Date'})"
      ],
      "execution_count": 0,
      "outputs": []
    },
    {
      "cell_type": "code",
      "metadata": {
        "id": "Nzm5sNwyB1AQ",
        "colab_type": "code",
        "outputId": "0e529ea9-880c-498c-d43d-0d7064e7d0d0",
        "colab": {
          "base_uri": "https://localhost:8080/",
          "height": 77
        }
      },
      "source": [
        "data.head(1)"
      ],
      "execution_count": 0,
      "outputs": [
        {
          "output_type": "execute_result",
          "data": {
            "text/html": [
              "<div>\n",
              "<style scoped>\n",
              "    .dataframe tbody tr th:only-of-type {\n",
              "        vertical-align: middle;\n",
              "    }\n",
              "\n",
              "    .dataframe tbody tr th {\n",
              "        vertical-align: top;\n",
              "    }\n",
              "\n",
              "    .dataframe thead th {\n",
              "        text-align: right;\n",
              "    }\n",
              "</style>\n",
              "<table border=\"1\" class=\"dataframe\">\n",
              "  <thead>\n",
              "    <tr style=\"text-align: right;\">\n",
              "      <th></th>\n",
              "      <th>Date</th>\n",
              "      <th>UT time</th>\n",
              "      <th>Temperature</th>\n",
              "      <th>Relative Humidity</th>\n",
              "      <th>Pressure</th>\n",
              "      <th>Wind speed</th>\n",
              "      <th>Wind direction</th>\n",
              "      <th>Rainfall</th>\n",
              "      <th>Short-wave irradiation</th>\n",
              "    </tr>\n",
              "  </thead>\n",
              "  <tbody>\n",
              "    <tr>\n",
              "      <th>0</th>\n",
              "      <td>2000-01-01</td>\n",
              "      <td>24:00</td>\n",
              "      <td>286.69</td>\n",
              "      <td>20.42</td>\n",
              "      <td>938.0</td>\n",
              "      <td>0.34</td>\n",
              "      <td>359.45</td>\n",
              "      <td>0.0</td>\n",
              "      <td>4057.961</td>\n",
              "    </tr>\n",
              "  </tbody>\n",
              "</table>\n",
              "</div>"
            ],
            "text/plain": [
              "         Date UT time  ...  Rainfall  Short-wave irradiation\n",
              "0  2000-01-01   24:00  ...       0.0                4057.961\n",
              "\n",
              "[1 rows x 9 columns]"
            ]
          },
          "metadata": {
            "tags": []
          },
          "execution_count": 87
        }
      ]
    },
    {
      "cell_type": "code",
      "metadata": {
        "id": "ZuK-OBICB92e",
        "colab_type": "code",
        "colab": {}
      },
      "source": [
        "data['Date'] = data[['Date', 'UT time']].apply(lambda x: ' '.join(x), axis=1)"
      ],
      "execution_count": 0,
      "outputs": []
    },
    {
      "cell_type": "code",
      "metadata": {
        "id": "5yXQbML3F4UI",
        "colab_type": "code",
        "outputId": "66ec7427-c31b-4510-9818-5c2b6561e77d",
        "colab": {
          "base_uri": "https://localhost:8080/",
          "height": 77
        }
      },
      "source": [
        "data.head(1)"
      ],
      "execution_count": 0,
      "outputs": [
        {
          "output_type": "execute_result",
          "data": {
            "text/html": [
              "<div>\n",
              "<style scoped>\n",
              "    .dataframe tbody tr th:only-of-type {\n",
              "        vertical-align: middle;\n",
              "    }\n",
              "\n",
              "    .dataframe tbody tr th {\n",
              "        vertical-align: top;\n",
              "    }\n",
              "\n",
              "    .dataframe thead th {\n",
              "        text-align: right;\n",
              "    }\n",
              "</style>\n",
              "<table border=\"1\" class=\"dataframe\">\n",
              "  <thead>\n",
              "    <tr style=\"text-align: right;\">\n",
              "      <th></th>\n",
              "      <th>Date</th>\n",
              "      <th>UT time</th>\n",
              "      <th>Temperature</th>\n",
              "      <th>Relative Humidity</th>\n",
              "      <th>Pressure</th>\n",
              "      <th>Wind speed</th>\n",
              "      <th>Wind direction</th>\n",
              "      <th>Rainfall</th>\n",
              "      <th>Short-wave irradiation</th>\n",
              "    </tr>\n",
              "  </thead>\n",
              "  <tbody>\n",
              "    <tr>\n",
              "      <th>0</th>\n",
              "      <td>2000-01-01 24:00</td>\n",
              "      <td>24:00</td>\n",
              "      <td>286.69</td>\n",
              "      <td>20.42</td>\n",
              "      <td>938.0</td>\n",
              "      <td>0.34</td>\n",
              "      <td>359.45</td>\n",
              "      <td>0.0</td>\n",
              "      <td>4057.961</td>\n",
              "    </tr>\n",
              "  </tbody>\n",
              "</table>\n",
              "</div>"
            ],
            "text/plain": [
              "               Date UT time  ...  Rainfall  Short-wave irradiation\n",
              "0  2000-01-01 24:00   24:00  ...       0.0                4057.961\n",
              "\n",
              "[1 rows x 9 columns]"
            ]
          },
          "metadata": {
            "tags": []
          },
          "execution_count": 89
        }
      ]
    },
    {
      "cell_type": "code",
      "metadata": {
        "id": "r_dbH4qTB-v2",
        "colab_type": "code",
        "colab": {}
      },
      "source": [
        "data = data.drop(columns={'UT time'})"
      ],
      "execution_count": 0,
      "outputs": []
    },
    {
      "cell_type": "code",
      "metadata": {
        "id": "zXWj9tKrCFUX",
        "colab_type": "code",
        "outputId": "c9725a15-e4e5-4709-846a-5ca4d27b04b6",
        "colab": {
          "base_uri": "https://localhost:8080/",
          "height": 77
        }
      },
      "source": [
        "data.head(1)"
      ],
      "execution_count": 0,
      "outputs": [
        {
          "output_type": "execute_result",
          "data": {
            "text/html": [
              "<div>\n",
              "<style scoped>\n",
              "    .dataframe tbody tr th:only-of-type {\n",
              "        vertical-align: middle;\n",
              "    }\n",
              "\n",
              "    .dataframe tbody tr th {\n",
              "        vertical-align: top;\n",
              "    }\n",
              "\n",
              "    .dataframe thead th {\n",
              "        text-align: right;\n",
              "    }\n",
              "</style>\n",
              "<table border=\"1\" class=\"dataframe\">\n",
              "  <thead>\n",
              "    <tr style=\"text-align: right;\">\n",
              "      <th></th>\n",
              "      <th>Date</th>\n",
              "      <th>Temperature</th>\n",
              "      <th>Relative Humidity</th>\n",
              "      <th>Pressure</th>\n",
              "      <th>Wind speed</th>\n",
              "      <th>Wind direction</th>\n",
              "      <th>Rainfall</th>\n",
              "      <th>Short-wave irradiation</th>\n",
              "    </tr>\n",
              "  </thead>\n",
              "  <tbody>\n",
              "    <tr>\n",
              "      <th>0</th>\n",
              "      <td>2000-01-01 24:00</td>\n",
              "      <td>286.69</td>\n",
              "      <td>20.42</td>\n",
              "      <td>938.0</td>\n",
              "      <td>0.34</td>\n",
              "      <td>359.45</td>\n",
              "      <td>0.0</td>\n",
              "      <td>4057.961</td>\n",
              "    </tr>\n",
              "  </tbody>\n",
              "</table>\n",
              "</div>"
            ],
            "text/plain": [
              "               Date  Temperature  ...  Rainfall  Short-wave irradiation\n",
              "0  2000-01-01 24:00       286.69  ...       0.0                4057.961\n",
              "\n",
              "[1 rows x 8 columns]"
            ]
          },
          "metadata": {
            "tags": []
          },
          "execution_count": 91
        }
      ]
    },
    {
      "cell_type": "code",
      "metadata": {
        "id": "rSzRPVipCXrD",
        "colab_type": "code",
        "outputId": "87ffab5d-f7ab-4ef9-e0aa-7608303a4e44",
        "colab": {
          "base_uri": "https://localhost:8080/",
          "height": 252
        }
      },
      "source": [
        "s = data['Date'].str.split()\n",
        "data['Date'] = pd.to_datetime(s.str[0]) + pd.to_timedelta(s.str[1].str.split(':').str[0] +' hours')\n",
        "print(data)"
      ],
      "execution_count": 0,
      "outputs": [
        {
          "output_type": "stream",
          "text": [
            "           Date  Temperature  ...   Rainfall  Short-wave irradiation\n",
            "0    2000-01-02       286.69  ...   0.000000                4057.961\n",
            "1    2000-01-03       286.54  ...   0.000000                4090.309\n",
            "2    2000-01-04       286.15  ...   0.000000                4117.362\n",
            "3    2000-01-05       286.06  ...   0.000000                4137.729\n",
            "4    2000-01-06       285.80  ...   0.000000                4169.898\n",
            "...         ...          ...  ...        ...                     ...\n",
            "7391 2020-03-28       289.98  ...  34.353204                2492.437\n",
            "7392 2020-03-29       291.25  ...   0.723719                6809.119\n",
            "7393 2020-03-30       291.75  ...   0.009665                7123.750\n",
            "7394 2020-03-31       291.72  ...   0.000000                5194.482\n",
            "7395 2020-04-01       293.63  ...   1.063542                5431.916\n",
            "\n",
            "[7396 rows x 8 columns]\n"
          ],
          "name": "stdout"
        }
      ]
    },
    {
      "cell_type": "code",
      "metadata": {
        "id": "IoYYAWyaCeXS",
        "colab_type": "code",
        "colab": {}
      },
      "source": [
        "data = data.rename(columns={'Short-wave irradiation':'SWI','Wind speed':'Wspeed','Wind direction':'Wdirect'})"
      ],
      "execution_count": 0,
      "outputs": []
    },
    {
      "cell_type": "code",
      "metadata": {
        "id": "JmM8wJYoCjkk",
        "colab_type": "code",
        "colab": {}
      },
      "source": [
        "data = data.set_index('Date',drop=True)\n",
        "data.index.name = 'Date'"
      ],
      "execution_count": 0,
      "outputs": []
    },
    {
      "cell_type": "code",
      "metadata": {
        "id": "U4XNQlNyClZ3",
        "colab_type": "code",
        "outputId": "0b25aa63-27f3-4a84-f0c0-95492382e899",
        "colab": {
          "base_uri": "https://localhost:8080/",
          "height": 106
        }
      },
      "source": [
        "data.head(1)"
      ],
      "execution_count": 0,
      "outputs": [
        {
          "output_type": "execute_result",
          "data": {
            "text/html": [
              "<div>\n",
              "<style scoped>\n",
              "    .dataframe tbody tr th:only-of-type {\n",
              "        vertical-align: middle;\n",
              "    }\n",
              "\n",
              "    .dataframe tbody tr th {\n",
              "        vertical-align: top;\n",
              "    }\n",
              "\n",
              "    .dataframe thead th {\n",
              "        text-align: right;\n",
              "    }\n",
              "</style>\n",
              "<table border=\"1\" class=\"dataframe\">\n",
              "  <thead>\n",
              "    <tr style=\"text-align: right;\">\n",
              "      <th></th>\n",
              "      <th>Temperature</th>\n",
              "      <th>Relative Humidity</th>\n",
              "      <th>Pressure</th>\n",
              "      <th>Wspeed</th>\n",
              "      <th>Wdirect</th>\n",
              "      <th>Rainfall</th>\n",
              "      <th>SWI</th>\n",
              "    </tr>\n",
              "    <tr>\n",
              "      <th>Date</th>\n",
              "      <th></th>\n",
              "      <th></th>\n",
              "      <th></th>\n",
              "      <th></th>\n",
              "      <th></th>\n",
              "      <th></th>\n",
              "      <th></th>\n",
              "    </tr>\n",
              "  </thead>\n",
              "  <tbody>\n",
              "    <tr>\n",
              "      <th>2000-01-02</th>\n",
              "      <td>286.69</td>\n",
              "      <td>20.42</td>\n",
              "      <td>938.0</td>\n",
              "      <td>0.34</td>\n",
              "      <td>359.45</td>\n",
              "      <td>0.0</td>\n",
              "      <td>4057.961</td>\n",
              "    </tr>\n",
              "  </tbody>\n",
              "</table>\n",
              "</div>"
            ],
            "text/plain": [
              "            Temperature  Relative Humidity  ...  Rainfall       SWI\n",
              "Date                                        ...                    \n",
              "2000-01-02       286.69              20.42  ...       0.0  4057.961\n",
              "\n",
              "[1 rows x 7 columns]"
            ]
          },
          "metadata": {
            "tags": []
          },
          "execution_count": 95
        }
      ]
    },
    {
      "cell_type": "code",
      "metadata": {
        "id": "WyO6LddCHB7B",
        "colab_type": "code",
        "colab": {}
      },
      "source": [
        "# split a univariate dataset into train/test sets\n",
        "def split_dataset(data):\n",
        "\t# split into standard weeks\n",
        "\ttrain, test = data[:-1480], data[-1480:]\n",
        "\t# restructure into windows of weekly data\n",
        "\t#train = array(split(train, len(train)/7))\n",
        "\t#test = array(split(test, len(test)/7))\n",
        "\treturn train, test\n",
        "\n",
        "# evaluate one or more weekly forecasts against expected values\n",
        "def evaluate_forecasts(actual, predicted):\n",
        "\tscores = list()\n",
        "\t# calculate an RMSE score for each day\n",
        "\t#for i in range(actual.shape[1]):\n",
        "\t\t# calculate mse\n",
        "\tmse = mean_squared_error(actual, predicted)\n",
        "\t\t# calculate rmse\n",
        "\trmse = sqrt(mse)\n",
        "\t\t# store\n",
        "\tscores.append(rmse)\n",
        "\t# calculate overall RMSE\n",
        "\t#s = 0\n",
        "\t#for row in range(actual.shape[0]):\n",
        "\t#\tfor col in range(actual.shape[1]):\n",
        "\t#\t\ts += (actual[row, col] - predicted[row, col])**2\n",
        "  #score = sqrt(s / (actual.shape[0] * actual.shape[1]))\n",
        "\treturn scores\n",
        "\n",
        "# summarize scores\n",
        "def summarize_scores(name, score, scores):\n",
        "\ts_scores = ', '.join(['%.1f' % s for s in scores])\n",
        "\tprint('%s: [%.3f] %s' % (name, score, s_scores))\n",
        "\n",
        "# convert history into inputs and outputs\n",
        "def to_supervised(train, n_input, n_out=1):\n",
        "\t# flatten data\n",
        "\t#data = train.reshape((train.shape[0]*train.shape[1], train.shape[2]))\n",
        "\tX, y = list(), list()\n",
        "\tin_start = 0\n",
        "\t# step over the entire history one time step at a time\n",
        "\tfor _ in range(len(data)):\n",
        "\t\t# define the end of the input sequence\n",
        "\t\tin_end = in_start + n_input\n",
        "\t\tout_end = in_end + n_out\n",
        "\t\t# ensure we have enough data for this instance\n",
        "\t\tif out_end <= len(data):\n",
        "\t\t\tX.append(data[in_start:in_end, :])\n",
        "\t\t\ty.append(data[in_end:out_end, 0])\n",
        "\t\t# move along one time step\n",
        "\t\tin_start += 1\n",
        "\treturn array(X), array(y)\n",
        "\n",
        "# train the model\n",
        "def build_model(train, n_input):\n",
        "\t# prepare data\n",
        "\ttrain_x, train_y = to_supervised(train, n_input)\n",
        "\t# define parameters\n",
        "\tverbose, epochs, batch_size = 0, 100, 16\n",
        "\tn_timesteps, n_features, n_outputs = train_x.shape[1], train_x.shape[2], train_y.shape[1]\n",
        "\t# reshape output into [samples, timesteps, features]\n",
        "\ttrain_y = train_y.reshape((train_y.shape[0], train_y.shape[1], 1))\n",
        "\t# define model\n",
        "\tmodel = Sequential()\n",
        "\tmodel.add(LSTM(200, activation='relu', input_shape=(n_timesteps, n_features)))\n",
        "\tmodel.add(RepeatVector(n_outputs))\n",
        "\tmodel.add(LSTM(200, activation='relu', return_sequences=True))\n",
        "\tmodel.add(TimeDistributed(Dense(100, activation='relu')))\n",
        "\tmodel.add(TimeDistributed(Dense(1)))\n",
        "\tmodel.compile(loss='mse', optimizer='adam',metrics = ['accuracy'])\n",
        "\t# fit network\n",
        "\tmodel.fit(train_x, train_y, epochs=epochs, batch_size=batch_size, verbose=verbose)\n",
        "\treturn model\n",
        "\n",
        "# make a forecast\n",
        "def forecast(model, history, n_input):\n",
        "\t# flatten data\n",
        "\tdata = array(history)\n",
        "\tdata = data.reshape((data.shape[0]*data.shape[1], data.shape[2]))\n",
        "\t# retrieve last observations for input data\n",
        "\tinput_x = data[-n_input:, :]\n",
        "\t# reshape into [1, n_input, n]\n",
        "\tinput_x = input_x.reshape((1, input_x.shape[0], input_x.shape[1]))\n",
        "\t# forecast the next week\n",
        "\tyhat = model.predict(input_x, verbose=0)\n",
        "\t# we only want the vector forecast\n",
        "\tyhat = yhat[0]\n",
        "\treturn yhat\n",
        "\n",
        "# evaluate a single model\n",
        "def evaluate_model(train, test, n_input):\n",
        "\t# fit model\n",
        "\tmodel = build_model(train, n_input)\n",
        "\t# history is a list of weekly data\n",
        "\thistory = [x for x in train]\n",
        "\t# walk-forward validation over each week\n",
        "\tpredictions = list()\n",
        "\tfor i in range(len(test)):\n",
        "\t\t# predict the week\n",
        "\t\tyhat_sequence = forecast(model, history, n_input)\n",
        "\t\t# store the predictions\n",
        "\t\tpredictions.append(yhat_sequence)\n",
        "\t\t# get real observation and add to history for predicting the next week\n",
        "\t\thistory.append(test[i, :])\n",
        "\t# evaluate predictions days for each week\n",
        "\tpredictions = array(predictions)\n",
        "\tscore, scores = evaluate_forecasts(test[:, :, 0], predictions)\n",
        "\treturn score, scores\n",
        "\n",
        "# load the new file\n",
        "dataset = read_csv('household_power_consumption_days.csv', header=0, infer_datetime_format=True, parse_dates=['datetime'], index_col=['datetime'])\n",
        "# split into train and test\n",
        "train, test = split_dataset(dataset.values)\n",
        "# evaluate model and get scores\n",
        "n_input = 14\n",
        "score, scores = evaluate_model(train, test, n_input)\n",
        "# summarize scores\n",
        "summarize_scores('lstm', score, scores)\n",
        "# plot scores\n",
        "days = ['sun', 'mon', 'tue', 'wed', 'thr', 'fri', 'sat']\n",
        "pyplot.plot(days, scores, marker='o', label='lstm')\n",
        "pyplot.show()"
      ],
      "execution_count": 0,
      "outputs": []
    },
    {
      "cell_type": "code",
      "metadata": {
        "id": "BX_W7tyWZBX3",
        "colab_type": "code",
        "colab": {}
      },
      "source": [
        "s = [((1,2),3,4),((2,3),5,6)]"
      ],
      "execution_count": 0,
      "outputs": []
    },
    {
      "cell_type": "code",
      "metadata": {
        "id": "u3_QzgEgZJZG",
        "colab_type": "code",
        "outputId": "b266314c-5c71-43f1-b415-b338103c8525",
        "colab": {
          "base_uri": "https://localhost:8080/",
          "height": 34
        }
      },
      "source": [
        "s[1][0]"
      ],
      "execution_count": 0,
      "outputs": [
        {
          "output_type": "execute_result",
          "data": {
            "text/plain": [
              "(2, 3)"
            ]
          },
          "metadata": {
            "tags": []
          },
          "execution_count": 13
        }
      ]
    },
    {
      "cell_type": "code",
      "metadata": {
        "id": "2lTBsVqvZMgO",
        "colab_type": "code",
        "outputId": "d4d47755-439b-48ca-d937-0abe23a54dfa",
        "colab": {
          "base_uri": "https://localhost:8080/",
          "height": 67
        }
      },
      "source": [
        "l= []\n",
        "m = []\n",
        "n = []\n",
        "for i in range(len(s)):\n",
        "  l.append(s[i][0])\n",
        "  m.append(s[i][1])\n",
        "  n.append(s[i][2])\n",
        "print(l) \n",
        "print(m) \n",
        "print(n)  "
      ],
      "execution_count": 0,
      "outputs": [
        {
          "output_type": "stream",
          "text": [
            "[(1, 2), (2, 3)]\n",
            "[3, 5]\n",
            "[4, 6]\n"
          ],
          "name": "stdout"
        }
      ]
    },
    {
      "cell_type": "code",
      "metadata": {
        "id": "Y4doZcQeZTPF",
        "colab_type": "code",
        "colab": {}
      },
      "source": [
        "s = [(1,7),(3,4)]"
      ],
      "execution_count": 0,
      "outputs": []
    },
    {
      "cell_type": "code",
      "metadata": {
        "id": "hv4zSJcyZpjH",
        "colab_type": "code",
        "colab": {}
      },
      "source": [
        "l.sort(key=lambda tup: tup[1])"
      ],
      "execution_count": 0,
      "outputs": []
    },
    {
      "cell_type": "code",
      "metadata": {
        "id": "yejTF0kSaFYY",
        "colab_type": "code",
        "outputId": "95f89302-a1b3-4bab-f0b0-bd85eec485fe",
        "colab": {
          "base_uri": "https://localhost:8080/",
          "height": 50
        }
      },
      "source": [
        "for cfg, error in l:\n",
        "  print(cfg, error)"
      ],
      "execution_count": 0,
      "outputs": [
        {
          "output_type": "stream",
          "text": [
            "1 2\n",
            "2 3\n"
          ],
          "name": "stdout"
        }
      ]
    },
    {
      "cell_type": "code",
      "metadata": {
        "id": "BLb0LQ5N2DAl",
        "colab_type": "code",
        "colab": {}
      },
      "source": [
        "float_data = dataset.values"
      ],
      "execution_count": 0,
      "outputs": []
    },
    {
      "cell_type": "code",
      "metadata": {
        "id": "ZiBLk1D52NHC",
        "colab_type": "code",
        "outputId": "0295c821-6706-4616-e321-a45bf18943fe",
        "colab": {
          "base_uri": "https://localhost:8080/",
          "height": 34
        }
      },
      "source": [
        "float_data.shape"
      ],
      "execution_count": 0,
      "outputs": [
        {
          "output_type": "execute_result",
          "data": {
            "text/plain": [
              "(14701, 7)"
            ]
          },
          "metadata": {
            "tags": []
          },
          "execution_count": 97
        }
      ]
    },
    {
      "cell_type": "code",
      "metadata": {
        "id": "mkfGzKwWaQ2x",
        "colab_type": "code",
        "colab": {}
      },
      "source": [
        "mean = float_data[:13241].mean(axis=0)\n",
        "float_data -= mean\n",
        "\n",
        "std = float_data[:13241].std(axis=0)\n",
        "float_data /= std"
      ],
      "execution_count": 0,
      "outputs": []
    },
    {
      "cell_type": "code",
      "metadata": {
        "id": "RCmfIDoY1yJu",
        "colab_type": "code",
        "colab": {}
      },
      "source": [
        "\n",
        "def generator(data, lookback, delay, min_index, max_index,\n",
        "              shuffle=False, batch_size=64, step=1):\n",
        "    if max_index is None:\n",
        "        max_index = len(data) - delay - 1\n",
        "    i = min_index + lookback\n",
        "    while 1:\n",
        "        if shuffle:\n",
        "            rows = np.random.randint(\n",
        "                min_index + lookback, max_index, size=batch_size)\n",
        "        else:\n",
        "            if i + batch_size >= max_index:\n",
        "                i = min_index + lookback\n",
        "            rows = np.arange(i, min(i + batch_size, max_index))\n",
        "            i += len(rows)\n",
        "\n",
        "        samples = np.zeros((len(rows),\n",
        "                           lookback // step,\n",
        "                           data.shape[-1]))\n",
        "        targets = np.zeros((len(rows),))\n",
        "        for j, row in enumerate(rows):\n",
        "            indices = range(rows[j] - lookback, rows[j], step)\n",
        "            samples[j] = data[indices]\n",
        "            targets[j] = data[rows[j] + delay][1]\n",
        "        yield samples, targets"
      ],
      "execution_count": 0,
      "outputs": []
    },
    {
      "cell_type": "code",
      "metadata": {
        "id": "Rv5z_SX71zIe",
        "colab_type": "code",
        "colab": {}
      },
      "source": [
        "\n",
        "lookback = 3\n",
        "step = 1\n",
        "delay = 1\n",
        "batch_size = 32\n",
        "\n",
        "train_gen = generator(float_data,\n",
        "                      lookback=lookback,\n",
        "                      delay=delay,\n",
        "                      min_index=0,\n",
        "                      max_index=13241,\n",
        "                      shuffle=False,\n",
        "                      step=step, \n",
        "                      batch_size=batch_size)\n",
        "val_gen = generator(float_data,\n",
        "                    lookback=lookback,\n",
        "                    delay=delay,\n",
        "                    min_index=13242,\n",
        "                    max_index=13971,\n",
        "                    step=step,\n",
        "                    batch_size=batch_size)\n",
        "test_gen = generator(float_data,\n",
        "                     lookback=lookback,\n",
        "                     delay=delay,\n",
        "                     min_index=13972,\n",
        "                     max_index=None,\n",
        "                     step=step,\n",
        "                     batch_size=batch_size)\n",
        "\n",
        "# This is how many steps to draw from `val_gen`\n",
        "# in order to see the whole validation set:\n",
        "val_steps = (13971 - 13242 - lookback) // batch_size\n",
        "\n",
        "# This is how many steps to draw from `test_gen`\n",
        "# in order to see the whole test set:\n",
        "test_steps = (len(float_data) - 13972 - lookback) // batch_size"
      ],
      "execution_count": 0,
      "outputs": []
    },
    {
      "cell_type": "code",
      "metadata": {
        "id": "D6javnKl130Y",
        "colab_type": "code",
        "outputId": "3033d8bd-e087-4054-a64d-da81fb72e010",
        "colab": {
          "base_uri": "https://localhost:8080/",
          "height": 1000
        }
      },
      "source": [
        "from keras.models import Sequential\n",
        "from keras import layers\n",
        "from keras.optimizers import RMSprop\n",
        "\n",
        "model = Sequential()\n",
        "model.add(LSTM(200,dropout= 0.1,recurrent_dropout= 0.1, activation='relu', input_shape=(None, float_data.shape[-1])))\n",
        "model.add(Dense(100, activation='relu'))\n",
        "model.add(Dense(1))\n",
        "\n",
        "model.compile(optimizer=RMSprop(), loss='mse',metrics=[tf.keras.metrics.RootMeanSquaredError(),tf.keras.metrics.MeanAbsolutePercentageError()])\n",
        "model.summary()\n",
        "loss_history_1 = model.fit_generator(train_gen,\n",
        "                                          steps_per_epoch=413,\n",
        "                                          epochs=100,\n",
        "                                          validation_data=val_gen,\n",
        "                                          validation_steps=val_steps)"
      ],
      "execution_count": 0,
      "outputs": [
        {
          "output_type": "stream",
          "text": [
            "Model: \"sequential_3\"\n",
            "_________________________________________________________________\n",
            "Layer (type)                 Output Shape              Param #   \n",
            "=================================================================\n",
            "lstm_2 (LSTM)                (None, 200)               166400    \n",
            "_________________________________________________________________\n",
            "dense_2 (Dense)              (None, 100)               20100     \n",
            "_________________________________________________________________\n",
            "dense_3 (Dense)              (None, 1)                 101       \n",
            "=================================================================\n",
            "Total params: 186,601\n",
            "Trainable params: 186,601\n",
            "Non-trainable params: 0\n",
            "_________________________________________________________________\n",
            "Epoch 1/100\n",
            "413/413 [==============================] - 4s 11ms/step - loss: 0.1199 - root_mean_squared_error: 0.4443 - mean_absolute_percentage_error: 106.1110 - val_loss: 0.0572 - val_root_mean_squared_error: 0.3446 - val_mean_absolute_percentage_error: 91.9434\n",
            "Epoch 2/100\n",
            "413/413 [==============================] - 4s 10ms/step - loss: 0.0761 - root_mean_squared_error: 0.3255 - mean_absolute_percentage_error: 94.0895 - val_loss: 0.0602 - val_root_mean_squared_error: 0.3118 - val_mean_absolute_percentage_error: 90.3470\n",
            "Epoch 3/100\n",
            "413/413 [==============================] - 4s 10ms/step - loss: 0.0686 - root_mean_squared_error: 0.3034 - mean_absolute_percentage_error: 90.8236 - val_loss: 0.0612 - val_root_mean_squared_error: 0.2961 - val_mean_absolute_percentage_error: 88.2800\n",
            "Epoch 4/100\n",
            "413/413 [==============================] - 4s 10ms/step - loss: 0.0658 - root_mean_squared_error: 0.2911 - mean_absolute_percentage_error: 87.8893 - val_loss: 0.0621 - val_root_mean_squared_error: 0.2867 - val_mean_absolute_percentage_error: 86.5615\n",
            "Epoch 5/100\n",
            "413/413 [==============================] - 4s 10ms/step - loss: 0.0646 - root_mean_squared_error: 0.2835 - mean_absolute_percentage_error: 85.9679 - val_loss: 0.0685 - val_root_mean_squared_error: 0.2805 - val_mean_absolute_percentage_error: 84.8175\n",
            "Epoch 6/100\n",
            "413/413 [==============================] - 4s 10ms/step - loss: 0.0615 - root_mean_squared_error: 0.2780 - mean_absolute_percentage_error: 84.7730 - val_loss: 0.0662 - val_root_mean_squared_error: 0.2754 - val_mean_absolute_percentage_error: 83.6024\n",
            "Epoch 7/100\n",
            "413/413 [==============================] - 4s 10ms/step - loss: 0.0604 - root_mean_squared_error: 0.2734 - mean_absolute_percentage_error: 83.3818 - val_loss: 0.0703 - val_root_mean_squared_error: 0.2714 - val_mean_absolute_percentage_error: 82.7200\n",
            "Epoch 8/100\n",
            "413/413 [==============================] - 4s 10ms/step - loss: 0.0603 - root_mean_squared_error: 0.2698 - mean_absolute_percentage_error: 82.5308 - val_loss: 0.0569 - val_root_mean_squared_error: 0.2683 - val_mean_absolute_percentage_error: 81.9161\n",
            "Epoch 9/100\n",
            "413/413 [==============================] - 4s 10ms/step - loss: 0.0569 - root_mean_squared_error: 0.2667 - mean_absolute_percentage_error: 81.6099 - val_loss: 0.0640 - val_root_mean_squared_error: 0.2652 - val_mean_absolute_percentage_error: 80.8576\n",
            "Epoch 10/100\n",
            "413/413 [==============================] - 4s 10ms/step - loss: 0.0569 - root_mean_squared_error: 0.2640 - mean_absolute_percentage_error: 80.7293 - val_loss: 0.0534 - val_root_mean_squared_error: 0.2626 - val_mean_absolute_percentage_error: 80.1631\n",
            "Epoch 11/100\n",
            "413/413 [==============================] - 4s 10ms/step - loss: 0.0562 - root_mean_squared_error: 0.2615 - mean_absolute_percentage_error: 79.8437 - val_loss: 0.0607 - val_root_mean_squared_error: 0.2604 - val_mean_absolute_percentage_error: 79.3630\n",
            "Epoch 12/100\n",
            "413/413 [==============================] - 4s 10ms/step - loss: 0.0562 - root_mean_squared_error: 0.2595 - mean_absolute_percentage_error: 79.1337 - val_loss: 0.0586 - val_root_mean_squared_error: 0.2585 - val_mean_absolute_percentage_error: 78.6946\n",
            "Epoch 13/100\n",
            "413/413 [==============================] - 4s 10ms/step - loss: 0.0544 - root_mean_squared_error: 0.2576 - mean_absolute_percentage_error: 78.6608 - val_loss: 0.0665 - val_root_mean_squared_error: 0.2567 - val_mean_absolute_percentage_error: 78.2979\n",
            "Epoch 14/100\n",
            "413/413 [==============================] - 4s 10ms/step - loss: 0.0555 - root_mean_squared_error: 0.2560 - mean_absolute_percentage_error: 77.9784 - val_loss: 0.0624 - val_root_mean_squared_error: 0.2552 - val_mean_absolute_percentage_error: 77.5751\n",
            "Epoch 15/100\n",
            "413/413 [==============================] - 4s 10ms/step - loss: 0.0541 - root_mean_squared_error: 0.2546 - mean_absolute_percentage_error: 77.5497 - val_loss: 0.0543 - val_root_mean_squared_error: 0.2538 - val_mean_absolute_percentage_error: 77.3072\n",
            "Epoch 16/100\n",
            "413/413 [==============================] - 4s 10ms/step - loss: 0.0555 - root_mean_squared_error: 0.2532 - mean_absolute_percentage_error: 77.0414 - val_loss: 0.0577 - val_root_mean_squared_error: 0.2527 - val_mean_absolute_percentage_error: 76.6374\n",
            "Epoch 17/100\n",
            "413/413 [==============================] - 4s 10ms/step - loss: 0.0539 - root_mean_squared_error: 0.2521 - mean_absolute_percentage_error: 76.4168 - val_loss: 0.0561 - val_root_mean_squared_error: 0.2515 - val_mean_absolute_percentage_error: 76.0494\n",
            "Epoch 18/100\n",
            "413/413 [==============================] - 4s 10ms/step - loss: 0.0550 - root_mean_squared_error: 0.2511 - mean_absolute_percentage_error: 75.9625 - val_loss: 0.0643 - val_root_mean_squared_error: 0.2506 - val_mean_absolute_percentage_error: 75.6327\n",
            "Epoch 19/100\n",
            "413/413 [==============================] - 4s 10ms/step - loss: 0.0523 - root_mean_squared_error: 0.2501 - mean_absolute_percentage_error: 75.4915 - val_loss: 0.0557 - val_root_mean_squared_error: 0.2495 - val_mean_absolute_percentage_error: 75.2211\n",
            "Epoch 20/100\n",
            "413/413 [==============================] - 4s 10ms/step - loss: 0.0537 - root_mean_squared_error: 0.2491 - mean_absolute_percentage_error: 75.1484 - val_loss: 0.0570 - val_root_mean_squared_error: 0.2486 - val_mean_absolute_percentage_error: 74.8733\n",
            "Epoch 21/100\n",
            "413/413 [==============================] - 4s 10ms/step - loss: 0.0530 - root_mean_squared_error: 0.2483 - mean_absolute_percentage_error: 74.6473 - val_loss: 0.0612 - val_root_mean_squared_error: 0.2478 - val_mean_absolute_percentage_error: 74.3560\n",
            "Epoch 22/100\n",
            "413/413 [==============================] - 4s 10ms/step - loss: 0.0522 - root_mean_squared_error: 0.2474 - mean_absolute_percentage_error: 74.1841 - val_loss: 0.0514 - val_root_mean_squared_error: 0.2469 - val_mean_absolute_percentage_error: 73.9592\n",
            "Epoch 23/100\n",
            "413/413 [==============================] - 4s 10ms/step - loss: 0.0517 - root_mean_squared_error: 0.2465 - mean_absolute_percentage_error: 73.8742 - val_loss: 0.0582 - val_root_mean_squared_error: 0.2461 - val_mean_absolute_percentage_error: 73.6770\n",
            "Epoch 24/100\n",
            "413/413 [==============================] - 4s 10ms/step - loss: 0.0512 - root_mean_squared_error: 0.2457 - mean_absolute_percentage_error: 73.5324 - val_loss: 0.0525 - val_root_mean_squared_error: 0.2453 - val_mean_absolute_percentage_error: 73.2888\n",
            "Epoch 25/100\n",
            "413/413 [==============================] - 4s 10ms/step - loss: 0.0510 - root_mean_squared_error: 0.2450 - mean_absolute_percentage_error: 73.2018 - val_loss: 0.0542 - val_root_mean_squared_error: 0.2446 - val_mean_absolute_percentage_error: 73.0323\n",
            "Epoch 26/100\n",
            "413/413 [==============================] - 4s 10ms/step - loss: 0.0531 - root_mean_squared_error: 0.2443 - mean_absolute_percentage_error: 72.8586 - val_loss: 0.0589 - val_root_mean_squared_error: 0.2440 - val_mean_absolute_percentage_error: 72.6801\n",
            "Epoch 27/100\n",
            "413/413 [==============================] - 4s 10ms/step - loss: 0.0508 - root_mean_squared_error: 0.2437 - mean_absolute_percentage_error: 72.5397 - val_loss: 0.0536 - val_root_mean_squared_error: 0.2434 - val_mean_absolute_percentage_error: 72.3072\n",
            "Epoch 28/100\n",
            "413/413 [==============================] - 4s 10ms/step - loss: 0.0503 - root_mean_squared_error: 0.2431 - mean_absolute_percentage_error: 72.2103 - val_loss: 0.0610 - val_root_mean_squared_error: 0.2427 - val_mean_absolute_percentage_error: 72.0252\n",
            "Epoch 29/100\n",
            "413/413 [==============================] - 4s 10ms/step - loss: 0.0523 - root_mean_squared_error: 0.2425 - mean_absolute_percentage_error: 71.8564 - val_loss: 0.0584 - val_root_mean_squared_error: 0.2423 - val_mean_absolute_percentage_error: 71.6376\n",
            "Epoch 30/100\n",
            "413/413 [==============================] - 4s 10ms/step - loss: 0.0504 - root_mean_squared_error: 0.2420 - mean_absolute_percentage_error: 71.4917 - val_loss: 0.0569 - val_root_mean_squared_error: 0.2417 - val_mean_absolute_percentage_error: 71.2741\n",
            "Epoch 31/100\n",
            "413/413 [==============================] - 4s 10ms/step - loss: 0.0500 - root_mean_squared_error: 0.2414 - mean_absolute_percentage_error: 71.1680 - val_loss: 0.0578 - val_root_mean_squared_error: 0.2411 - val_mean_absolute_percentage_error: 71.0396\n",
            "Epoch 32/100\n",
            "413/413 [==============================] - 4s 10ms/step - loss: 0.0508 - root_mean_squared_error: 0.2409 - mean_absolute_percentage_error: 70.9027 - val_loss: 0.0569 - val_root_mean_squared_error: 0.2407 - val_mean_absolute_percentage_error: 70.7302\n",
            "Epoch 33/100\n",
            "413/413 [==============================] - 4s 10ms/step - loss: 0.0497 - root_mean_squared_error: 0.2405 - mean_absolute_percentage_error: 70.6322 - val_loss: 0.0563 - val_root_mean_squared_error: 0.2402 - val_mean_absolute_percentage_error: 70.5290\n",
            "Epoch 34/100\n",
            "413/413 [==============================] - 4s 10ms/step - loss: 0.0513 - root_mean_squared_error: 0.2400 - mean_absolute_percentage_error: 70.4493 - val_loss: 0.0594 - val_root_mean_squared_error: 0.2398 - val_mean_absolute_percentage_error: 70.2799\n",
            "Epoch 35/100\n",
            "413/413 [==============================] - 4s 10ms/step - loss: 0.0495 - root_mean_squared_error: 0.2395 - mean_absolute_percentage_error: 70.1730 - val_loss: 0.0511 - val_root_mean_squared_error: 0.2393 - val_mean_absolute_percentage_error: 70.0614\n",
            "Epoch 36/100\n",
            "413/413 [==============================] - 4s 10ms/step - loss: 0.0501 - root_mean_squared_error: 0.2391 - mean_absolute_percentage_error: 69.9433 - val_loss: 0.0567 - val_root_mean_squared_error: 0.2389 - val_mean_absolute_percentage_error: 69.8134\n",
            "Epoch 37/100\n",
            "413/413 [==============================] - 4s 10ms/step - loss: 0.0501 - root_mean_squared_error: 0.2387 - mean_absolute_percentage_error: 69.8165 - val_loss: 0.0484 - val_root_mean_squared_error: 0.2385 - val_mean_absolute_percentage_error: 69.7001\n",
            "Epoch 38/100\n",
            "413/413 [==============================] - 4s 10ms/step - loss: 0.0483 - root_mean_squared_error: 0.2382 - mean_absolute_percentage_error: 69.6662 - val_loss: 0.0563 - val_root_mean_squared_error: 0.2380 - val_mean_absolute_percentage_error: 69.5892\n",
            "Epoch 39/100\n",
            "413/413 [==============================] - 4s 10ms/step - loss: 0.0491 - root_mean_squared_error: 0.2378 - mean_absolute_percentage_error: 69.5644 - val_loss: 0.0573 - val_root_mean_squared_error: 0.2376 - val_mean_absolute_percentage_error: 69.4819\n",
            "Epoch 40/100\n",
            "413/413 [==============================] - 4s 10ms/step - loss: 0.0496 - root_mean_squared_error: 0.2374 - mean_absolute_percentage_error: 69.4614 - val_loss: 0.0523 - val_root_mean_squared_error: 0.2372 - val_mean_absolute_percentage_error: 69.3716\n",
            "Epoch 41/100\n",
            "413/413 [==============================] - 4s 10ms/step - loss: 0.0488 - root_mean_squared_error: 0.2370 - mean_absolute_percentage_error: 69.3329 - val_loss: 0.0560 - val_root_mean_squared_error: 0.2368 - val_mean_absolute_percentage_error: 69.2397\n",
            "Epoch 42/100\n",
            "413/413 [==============================] - 4s 10ms/step - loss: 0.0476 - root_mean_squared_error: 0.2366 - mean_absolute_percentage_error: 69.1671 - val_loss: 0.0605 - val_root_mean_squared_error: 0.2364 - val_mean_absolute_percentage_error: 69.0393\n",
            "Epoch 43/100\n",
            "413/413 [==============================] - 4s 10ms/step - loss: 0.0487 - root_mean_squared_error: 0.2363 - mean_absolute_percentage_error: 68.9280 - val_loss: 0.0544 - val_root_mean_squared_error: 0.2361 - val_mean_absolute_percentage_error: 68.8196\n",
            "Epoch 44/100\n",
            "413/413 [==============================] - 4s 10ms/step - loss: 0.0484 - root_mean_squared_error: 0.2359 - mean_absolute_percentage_error: 68.8139 - val_loss: 0.0539 - val_root_mean_squared_error: 0.2357 - val_mean_absolute_percentage_error: 68.7208\n",
            "Epoch 45/100\n",
            "413/413 [==============================] - 4s 10ms/step - loss: 0.0483 - root_mean_squared_error: 0.2356 - mean_absolute_percentage_error: 68.7284 - val_loss: 0.0479 - val_root_mean_squared_error: 0.2354 - val_mean_absolute_percentage_error: 68.6187\n",
            "Epoch 46/100\n",
            "413/413 [==============================] - 4s 10ms/step - loss: 0.0495 - root_mean_squared_error: 0.2353 - mean_absolute_percentage_error: 68.5951 - val_loss: 0.0531 - val_root_mean_squared_error: 0.2351 - val_mean_absolute_percentage_error: 68.5014\n",
            "Epoch 47/100\n",
            "413/413 [==============================] - 4s 10ms/step - loss: 0.0484 - root_mean_squared_error: 0.2349 - mean_absolute_percentage_error: 68.4744 - val_loss: 0.0555 - val_root_mean_squared_error: 0.2348 - val_mean_absolute_percentage_error: 68.3941\n",
            "Epoch 48/100\n",
            "413/413 [==============================] - 4s 10ms/step - loss: 0.0466 - root_mean_squared_error: 0.2346 - mean_absolute_percentage_error: 68.2974 - val_loss: 0.0532 - val_root_mean_squared_error: 0.2344 - val_mean_absolute_percentage_error: 68.2036\n",
            "Epoch 49/100\n",
            "413/413 [==============================] - 4s 10ms/step - loss: 0.0474 - root_mean_squared_error: 0.2343 - mean_absolute_percentage_error: 68.2328 - val_loss: 0.0578 - val_root_mean_squared_error: 0.2341 - val_mean_absolute_percentage_error: 68.1475\n",
            "Epoch 50/100\n",
            "413/413 [==============================] - 4s 10ms/step - loss: 0.0477 - root_mean_squared_error: 0.2340 - mean_absolute_percentage_error: 68.1146 - val_loss: 0.0534 - val_root_mean_squared_error: 0.2338 - val_mean_absolute_percentage_error: 68.0179\n",
            "Epoch 51/100\n",
            "413/413 [==============================] - 4s 10ms/step - loss: 0.0486 - root_mean_squared_error: 0.2337 - mean_absolute_percentage_error: 68.0566 - val_loss: 0.0561 - val_root_mean_squared_error: 0.2335 - val_mean_absolute_percentage_error: 68.0090\n",
            "Epoch 52/100\n",
            "413/413 [==============================] - 4s 10ms/step - loss: 0.0469 - root_mean_squared_error: 0.2334 - mean_absolute_percentage_error: 67.9149 - val_loss: 0.0498 - val_root_mean_squared_error: 0.2332 - val_mean_absolute_percentage_error: 67.8276\n",
            "Epoch 53/100\n",
            "413/413 [==============================] - 4s 10ms/step - loss: 0.0463 - root_mean_squared_error: 0.2331 - mean_absolute_percentage_error: 67.7831 - val_loss: 0.0610 - val_root_mean_squared_error: 0.2329 - val_mean_absolute_percentage_error: 67.6740\n",
            "Epoch 54/100\n",
            "413/413 [==============================] - 4s 10ms/step - loss: 0.0464 - root_mean_squared_error: 0.2327 - mean_absolute_percentage_error: 67.6472 - val_loss: 0.0527 - val_root_mean_squared_error: 0.2326 - val_mean_absolute_percentage_error: 67.5600\n",
            "Epoch 55/100\n",
            "413/413 [==============================] - 4s 10ms/step - loss: 0.0468 - root_mean_squared_error: 0.2325 - mean_absolute_percentage_error: 67.4946 - val_loss: 0.0557 - val_root_mean_squared_error: 0.2323 - val_mean_absolute_percentage_error: 67.4061\n",
            "Epoch 56/100\n",
            "413/413 [==============================] - 4s 10ms/step - loss: 0.0480 - root_mean_squared_error: 0.2322 - mean_absolute_percentage_error: 67.3665 - val_loss: 0.0569 - val_root_mean_squared_error: 0.2321 - val_mean_absolute_percentage_error: 67.2952\n",
            "Epoch 57/100\n",
            "413/413 [==============================] - 4s 10ms/step - loss: 0.0461 - root_mean_squared_error: 0.2320 - mean_absolute_percentage_error: 67.3001 - val_loss: 0.0488 - val_root_mean_squared_error: 0.2318 - val_mean_absolute_percentage_error: 67.2312\n",
            "Epoch 58/100\n",
            "413/413 [==============================] - 4s 10ms/step - loss: 0.0465 - root_mean_squared_error: 0.2317 - mean_absolute_percentage_error: 67.1843 - val_loss: 0.0554 - val_root_mean_squared_error: 0.2315 - val_mean_absolute_percentage_error: 67.0908\n",
            "Epoch 59/100\n",
            "413/413 [==============================] - 4s 10ms/step - loss: 0.0462 - root_mean_squared_error: 0.2314 - mean_absolute_percentage_error: 67.2139 - val_loss: 0.0554 - val_root_mean_squared_error: 0.2313 - val_mean_absolute_percentage_error: 67.1748\n",
            "Epoch 60/100\n",
            "413/413 [==============================] - 4s 10ms/step - loss: 0.0460 - root_mean_squared_error: 0.2311 - mean_absolute_percentage_error: 67.2109 - val_loss: 0.0495 - val_root_mean_squared_error: 0.2310 - val_mean_absolute_percentage_error: 67.1401\n",
            "Epoch 61/100\n",
            "413/413 [==============================] - 4s 10ms/step - loss: 0.0462 - root_mean_squared_error: 0.2309 - mean_absolute_percentage_error: 67.1583 - val_loss: 0.0502 - val_root_mean_squared_error: 0.2308 - val_mean_absolute_percentage_error: 67.1396\n",
            "Epoch 62/100\n",
            "413/413 [==============================] - 4s 10ms/step - loss: 0.0470 - root_mean_squared_error: 0.2306 - mean_absolute_percentage_error: 67.1277 - val_loss: 0.0550 - val_root_mean_squared_error: 0.2305 - val_mean_absolute_percentage_error: 67.0999\n",
            "Epoch 63/100\n",
            "413/413 [==============================] - 4s 10ms/step - loss: 0.0460 - root_mean_squared_error: 0.2304 - mean_absolute_percentage_error: 67.0847 - val_loss: 0.0521 - val_root_mean_squared_error: 0.2303 - val_mean_absolute_percentage_error: 67.0403\n",
            "Epoch 64/100\n",
            "413/413 [==============================] - 4s 10ms/step - loss: 0.0470 - root_mean_squared_error: 0.2302 - mean_absolute_percentage_error: 66.9901 - val_loss: 0.0532 - val_root_mean_squared_error: 0.2301 - val_mean_absolute_percentage_error: 66.9539\n",
            "Epoch 65/100\n",
            "413/413 [==============================] - 4s 10ms/step - loss: 0.0469 - root_mean_squared_error: 0.2300 - mean_absolute_percentage_error: 66.8925 - val_loss: 0.0504 - val_root_mean_squared_error: 0.2299 - val_mean_absolute_percentage_error: 66.8404\n",
            "Epoch 66/100\n",
            "413/413 [==============================] - 4s 10ms/step - loss: 0.0457 - root_mean_squared_error: 0.2298 - mean_absolute_percentage_error: 66.8237 - val_loss: 0.0524 - val_root_mean_squared_error: 0.2297 - val_mean_absolute_percentage_error: 66.7564\n",
            "Epoch 67/100\n",
            "413/413 [==============================] - 4s 10ms/step - loss: 0.0460 - root_mean_squared_error: 0.2296 - mean_absolute_percentage_error: 66.7223 - val_loss: 0.0531 - val_root_mean_squared_error: 0.2294 - val_mean_absolute_percentage_error: 66.6742\n",
            "Epoch 68/100\n",
            "413/413 [==============================] - 4s 10ms/step - loss: 0.0465 - root_mean_squared_error: 0.2293 - mean_absolute_percentage_error: 66.6316 - val_loss: 0.0501 - val_root_mean_squared_error: 0.2292 - val_mean_absolute_percentage_error: 66.5604\n",
            "Epoch 69/100\n",
            "413/413 [==============================] - 4s 10ms/step - loss: 0.0463 - root_mean_squared_error: 0.2292 - mean_absolute_percentage_error: 66.5486 - val_loss: 0.0545 - val_root_mean_squared_error: 0.2290 - val_mean_absolute_percentage_error: 66.5099\n",
            "Epoch 70/100\n",
            "413/413 [==============================] - 4s 10ms/step - loss: 0.0442 - root_mean_squared_error: 0.2289 - mean_absolute_percentage_error: 66.4878 - val_loss: 0.0559 - val_root_mean_squared_error: 0.2288 - val_mean_absolute_percentage_error: 66.4328\n",
            "Epoch 71/100\n",
            "413/413 [==============================] - 4s 10ms/step - loss: 0.0460 - root_mean_squared_error: 0.2287 - mean_absolute_percentage_error: 66.4128 - val_loss: 0.0628 - val_root_mean_squared_error: 0.2286 - val_mean_absolute_percentage_error: 66.3953\n",
            "Epoch 72/100\n",
            "413/413 [==============================] - 4s 10ms/step - loss: 0.0464 - root_mean_squared_error: 0.2285 - mean_absolute_percentage_error: 66.3611 - val_loss: 0.0599 - val_root_mean_squared_error: 0.2284 - val_mean_absolute_percentage_error: 66.3366\n",
            "Epoch 73/100\n",
            "413/413 [==============================] - 4s 10ms/step - loss: 0.0461 - root_mean_squared_error: 0.2284 - mean_absolute_percentage_error: 66.3445 - val_loss: 0.0532 - val_root_mean_squared_error: 0.2283 - val_mean_absolute_percentage_error: 66.3002\n",
            "Epoch 74/100\n",
            "413/413 [==============================] - 4s 10ms/step - loss: 0.0461 - root_mean_squared_error: 0.2282 - mean_absolute_percentage_error: 66.3580 - val_loss: 0.0549 - val_root_mean_squared_error: 0.2281 - val_mean_absolute_percentage_error: 66.3161\n",
            "Epoch 75/100\n",
            "413/413 [==============================] - 4s 10ms/step - loss: 0.0449 - root_mean_squared_error: 0.2280 - mean_absolute_percentage_error: 66.3422 - val_loss: 0.0570 - val_root_mean_squared_error: 0.2279 - val_mean_absolute_percentage_error: 66.2624\n",
            "Epoch 76/100\n",
            "413/413 [==============================] - 4s 10ms/step - loss: 0.0452 - root_mean_squared_error: 0.2278 - mean_absolute_percentage_error: 66.2399 - val_loss: 0.0534 - val_root_mean_squared_error: 0.2277 - val_mean_absolute_percentage_error: 66.2000\n",
            "Epoch 77/100\n",
            "413/413 [==============================] - 4s 10ms/step - loss: 0.0443 - root_mean_squared_error: 0.2276 - mean_absolute_percentage_error: 66.1661 - val_loss: 0.0555 - val_root_mean_squared_error: 0.2275 - val_mean_absolute_percentage_error: 66.1237\n",
            "Epoch 78/100\n",
            "413/413 [==============================] - 4s 10ms/step - loss: 0.0455 - root_mean_squared_error: 0.2274 - mean_absolute_percentage_error: 66.0943 - val_loss: 0.0620 - val_root_mean_squared_error: 0.2273 - val_mean_absolute_percentage_error: 66.0446\n",
            "Epoch 79/100\n",
            "413/413 [==============================] - 4s 10ms/step - loss: 0.0455 - root_mean_squared_error: 0.2272 - mean_absolute_percentage_error: 66.0100 - val_loss: 0.0588 - val_root_mean_squared_error: 0.2271 - val_mean_absolute_percentage_error: 65.9676\n",
            "Epoch 80/100\n",
            "413/413 [==============================] - 4s 10ms/step - loss: 0.0447 - root_mean_squared_error: 0.2270 - mean_absolute_percentage_error: 65.9341 - val_loss: 0.0595 - val_root_mean_squared_error: 0.2269 - val_mean_absolute_percentage_error: 65.8819\n",
            "Epoch 81/100\n",
            "413/413 [==============================] - 4s 10ms/step - loss: 0.0451 - root_mean_squared_error: 0.2269 - mean_absolute_percentage_error: 65.8565 - val_loss: 0.0608 - val_root_mean_squared_error: 0.2268 - val_mean_absolute_percentage_error: 65.8264\n",
            "Epoch 82/100\n",
            "413/413 [==============================] - 4s 10ms/step - loss: 0.0444 - root_mean_squared_error: 0.2267 - mean_absolute_percentage_error: 65.7856 - val_loss: 0.0599 - val_root_mean_squared_error: 0.2266 - val_mean_absolute_percentage_error: 65.7568\n",
            "Epoch 83/100\n",
            "413/413 [==============================] - 4s 10ms/step - loss: 0.0452 - root_mean_squared_error: 0.2265 - mean_absolute_percentage_error: 65.7706 - val_loss: 0.0586 - val_root_mean_squared_error: 0.2264 - val_mean_absolute_percentage_error: 65.7210\n",
            "Epoch 84/100\n",
            "413/413 [==============================] - 4s 10ms/step - loss: 0.0449 - root_mean_squared_error: 0.2263 - mean_absolute_percentage_error: 65.7360 - val_loss: 0.0606 - val_root_mean_squared_error: 0.2263 - val_mean_absolute_percentage_error: 65.7121\n",
            "Epoch 85/100\n",
            "413/413 [==============================] - 4s 10ms/step - loss: 0.0452 - root_mean_squared_error: 0.2262 - mean_absolute_percentage_error: 65.7054 - val_loss: 0.0575 - val_root_mean_squared_error: 0.2261 - val_mean_absolute_percentage_error: 65.6865\n",
            "Epoch 86/100\n",
            "413/413 [==============================] - 4s 10ms/step - loss: 0.0459 - root_mean_squared_error: 0.2261 - mean_absolute_percentage_error: 65.6653 - val_loss: 0.0580 - val_root_mean_squared_error: 0.2260 - val_mean_absolute_percentage_error: 65.6412\n",
            "Epoch 87/100\n",
            "413/413 [==============================] - 4s 10ms/step - loss: 0.0456 - root_mean_squared_error: 0.2259 - mean_absolute_percentage_error: 65.6043 - val_loss: 0.0637 - val_root_mean_squared_error: 0.2258 - val_mean_absolute_percentage_error: 65.5735\n",
            "Epoch 88/100\n",
            "413/413 [==============================] - 4s 10ms/step - loss: 0.0455 - root_mean_squared_error: 0.2258 - mean_absolute_percentage_error: 65.5399 - val_loss: 0.0540 - val_root_mean_squared_error: 0.2257 - val_mean_absolute_percentage_error: 65.5134\n",
            "Epoch 89/100\n",
            "413/413 [==============================] - 4s 10ms/step - loss: 0.0441 - root_mean_squared_error: 0.2256 - mean_absolute_percentage_error: 65.4848 - val_loss: 0.0565 - val_root_mean_squared_error: 0.2255 - val_mean_absolute_percentage_error: 65.4287\n",
            "Epoch 90/100\n",
            "413/413 [==============================] - 4s 10ms/step - loss: 0.0446 - root_mean_squared_error: 0.2255 - mean_absolute_percentage_error: 65.4490 - val_loss: 0.0618 - val_root_mean_squared_error: 0.2254 - val_mean_absolute_percentage_error: 65.4103\n",
            "Epoch 91/100\n",
            "413/413 [==============================] - 4s 10ms/step - loss: 0.0443 - root_mean_squared_error: 0.2253 - mean_absolute_percentage_error: 65.3734 - val_loss: 0.0582 - val_root_mean_squared_error: 0.2252 - val_mean_absolute_percentage_error: 65.3452\n",
            "Epoch 92/100\n",
            "413/413 [==============================] - 4s 10ms/step - loss: 0.0437 - root_mean_squared_error: 0.2252 - mean_absolute_percentage_error: 65.3232 - val_loss: 0.0680 - val_root_mean_squared_error: 0.2251 - val_mean_absolute_percentage_error: 65.3026\n",
            "Epoch 93/100\n",
            "413/413 [==============================] - 4s 10ms/step - loss: 0.0428 - root_mean_squared_error: 0.2250 - mean_absolute_percentage_error: 65.2495 - val_loss: 0.0538 - val_root_mean_squared_error: 0.2249 - val_mean_absolute_percentage_error: 65.2058\n",
            "Epoch 94/100\n",
            "413/413 [==============================] - 4s 10ms/step - loss: 0.0445 - root_mean_squared_error: 0.2248 - mean_absolute_percentage_error: 65.1909 - val_loss: 0.0563 - val_root_mean_squared_error: 0.2248 - val_mean_absolute_percentage_error: 65.1730\n",
            "Epoch 95/100\n",
            "413/413 [==============================] - 4s 10ms/step - loss: 0.0455 - root_mean_squared_error: 0.2247 - mean_absolute_percentage_error: 65.1589 - val_loss: 0.0596 - val_root_mean_squared_error: 0.2246 - val_mean_absolute_percentage_error: 65.1400\n",
            "Epoch 96/100\n",
            "413/413 [==============================] - 4s 10ms/step - loss: 0.0450 - root_mean_squared_error: 0.2246 - mean_absolute_percentage_error: 65.1261 - val_loss: 0.0538 - val_root_mean_squared_error: 0.2245 - val_mean_absolute_percentage_error: 65.1066\n",
            "Epoch 97/100\n",
            "413/413 [==============================] - 4s 10ms/step - loss: 0.0445 - root_mean_squared_error: 0.2245 - mean_absolute_percentage_error: 65.0772 - val_loss: 0.0632 - val_root_mean_squared_error: 0.2244 - val_mean_absolute_percentage_error: 65.0497\n",
            "Epoch 98/100\n",
            "413/413 [==============================] - 4s 10ms/step - loss: 0.0441 - root_mean_squared_error: 0.2243 - mean_absolute_percentage_error: 65.0451 - val_loss: 0.0582 - val_root_mean_squared_error: 0.2243 - val_mean_absolute_percentage_error: 65.0301\n",
            "Epoch 99/100\n",
            "413/413 [==============================] - 4s 10ms/step - loss: 0.0436 - root_mean_squared_error: 0.2242 - mean_absolute_percentage_error: 65.0049 - val_loss: 0.0530 - val_root_mean_squared_error: 0.2241 - val_mean_absolute_percentage_error: 64.9920\n",
            "Epoch 100/100\n",
            "413/413 [==============================] - 4s 10ms/step - loss: 0.0446 - root_mean_squared_error: 0.2240 - mean_absolute_percentage_error: 64.9632 - val_loss: 0.0559 - val_root_mean_squared_error: 0.2240 - val_mean_absolute_percentage_error: 64.9276\n"
          ],
          "name": "stdout"
        }
      ]
    },
    {
      "cell_type": "code",
      "metadata": {
        "id": "DV-5e1Rs17Qd",
        "colab_type": "code",
        "outputId": "546f850e-f1c9-4150-9e1c-04dd70ec43db",
        "colab": {
          "base_uri": "https://localhost:8080/",
          "height": 346
        }
      },
      "source": [
        "axis_font = {'family':'arial', 'style':'normal', 'size':18}\n",
        "ts_tra_loss = loss_history_1.history['loss']\n",
        "ts_val_loss = loss_history_1.history['val_loss']\n",
        "\n",
        "ts_in_epochs = np.arange(0, len(ts_tra_loss))\n",
        "fig = plt.figure(figsize=(10, 5))\n",
        "\n",
        "plt.plot(ts_in_epochs, ts_tra_loss, 's-', color=\"k\", label='Training loss')\n",
        "plt.plot(ts_in_epochs, ts_val_loss, '^-', color=\"b\", label='Validation loss')\n",
        "\n",
        "ts_xlabels = np.arange(0, len(ts_in_epochs), 5)\n",
        "plt.xticks(ts_xlabels, ts_xlabels, fontsize=14)\n",
        "\n",
        "plt.xlabel(\"Epochs\", axis_font)\n",
        "plt.ylabel(\"Losses\", axis_font)\n",
        "plt.legend(ncol=2, frameon=False, fontsize=14)\n",
        "\n",
        "plt.show()"
      ],
      "execution_count": 0,
      "outputs": [
        {
          "output_type": "display_data",
          "data": {
            "image/png": "[encoded data removed]",
            "text/plain": [
              "<Figure size 720x360 with 1 Axes>"
            ]
          },
          "metadata": {
            "tags": [],
            "needs_background": "light"
          }
        }
      ]
    },
    {
      "cell_type": "code",
      "metadata": {
        "id": "4rQ4E0Po8v4j",
        "colab_type": "code",
        "outputId": "b70545cf-0de7-40c8-bd1d-55d58937ddfb",
        "colab": {
          "base_uri": "https://localhost:8080/",
          "height": 34
        }
      },
      "source": [
        "\n",
        "fo_model = model.evaluate_generator(test_gen, test_steps)\n",
        "print(\"INFO: LSTM: %5.3f\" %fo_model[0])"
      ],
      "execution_count": 0,
      "outputs": [
        {
          "output_type": "stream",
          "text": [
            "INFO: LSTM: 0.058\n"
          ],
          "name": "stdout"
        }
      ]
    },
    {
      "cell_type": "code",
      "metadata": {
        "id": "SlrFDI1j8WXg",
        "colab_type": "code",
        "outputId": "308f7b2a-8abc-4724-a5e7-05a825eb0c86",
        "colab": {
          "base_uri": "https://localhost:8080/",
          "height": 34
        }
      },
      "source": [
        "fo_model"
      ],
      "execution_count": 0,
      "outputs": [
        {
          "output_type": "execute_result",
          "data": {
            "text/plain": [
              "[0.058348752558231354, 0.2239987850189209, 64.89913177490234]"
            ]
          },
          "metadata": {
            "tags": []
          },
          "execution_count": 107
        }
      ]
    },
    {
      "cell_type": "code",
      "metadata": {
        "id": "2Zwh11Zi9NeH",
        "colab_type": "code",
        "colab": {}
      },
      "source": [
        "predictions = model.predict(test_gen,verbose = 0,steps=  test_steps)"
      ],
      "execution_count": 0,
      "outputs": []
    },
    {
      "cell_type": "code",
      "metadata": {
        "id": "RjdUXnpJ_Qto",
        "colab_type": "code",
        "outputId": "d58c22cb-c7df-47ca-cb0e-1b699f7133a0",
        "colab": {
          "base_uri": "https://localhost:8080/",
          "height": 34
        }
      },
      "source": [
        "len(predictions)"
      ],
      "execution_count": 0,
      "outputs": [
        {
          "output_type": "execute_result",
          "data": {
            "text/plain": [
              "704"
            ]
          },
          "metadata": {
            "tags": []
          },
          "execution_count": 30
        }
      ]
    },
    {
      "cell_type": "code",
      "metadata": {
        "id": "AUwFZX_14DhD",
        "colab_type": "code",
        "colab": {}
      },
      "source": [
        "transformed_dataset = pd.DataFrame(float_data)"
      ],
      "execution_count": 0,
      "outputs": []
    },
    {
      "cell_type": "code",
      "metadata": {
        "id": "Of2MhIP3_USz",
        "colab_type": "code",
        "outputId": "011d86bc-6f8a-4502-a12c-9e5726d32ff5",
        "colab": {
          "base_uri": "https://localhost:8080/",
          "height": 310
        }
      },
      "source": [
        "plt.figure(figsize = (20,5))\n",
        "plt.plot(dataset.index[-730:-26],predictions,label = 'predictions',color = 'g')\n",
        "plt.plot(dataset.index[-730:-26],transformed_dataset[13971:-26][0],label = 'actual',color=  'r')\n",
        "plt.legend(loc='best', fontsize='xx-large')\n",
        "plt.xticks(fontsize=18)\n",
        "plt.yticks(fontsize=16)\n",
        "plt.show()"
      ],
      "execution_count": 0,
      "outputs": [
        {
          "output_type": "display_data",
          "data": {
            "image/png": "[encoded data removed]",
            "text/plain": [
              "<Figure size 1440x360 with 1 Axes>"
            ]
          },
          "metadata": {
            "tags": [],
            "needs_background": "light"
          }
        }
      ]
    },
    {
      "cell_type": "code",
      "metadata": {
        "id": "CoIq2sqS_cxC",
        "colab_type": "code",
        "colab": {}
      },
      "source": [
        "def actual(data, lookback, delay, min_index, max_index,\n",
        "              shuffle=False, batch_size=64, step=1):\n",
        "    if max_index is None:\n",
        "        max_index = len(data) - delay - 1\n",
        "    i = min_index + lookback\n",
        "    while 1:\n",
        "        if shuffle:\n",
        "            rows = np.random.randint(\n",
        "                min_index + lookback, max_index, size=batch_size)\n",
        "        else:\n",
        "            if i + batch_size >= max_index:\n",
        "                i = min_index + lookback\n",
        "            rows = np.arange(i, min(i + batch_size, max_index))\n",
        "            i += len(rows)\n",
        "\n",
        "        samples = np.zeros((len(rows),\n",
        "                           lookback // step,\n",
        "                           data.shape[-1]))\n",
        "        targets = np.zeros((len(rows),))\n",
        "        for j, row in enumerate(rows):\n",
        "            indices = range(rows[j] - lookback, rows[j], step)\n",
        "            samples[j] = data[indices]\n",
        "            targets[j] = data[rows[j] + delay][1]\n",
        "        return samples,targets"
      ],
      "execution_count": 0,
      "outputs": []
    },
    {
      "cell_type": "code",
      "metadata": {
        "id": "RSYjydv1Ccfq",
        "colab_type": "code",
        "colab": {}
      },
      "source": [
        "test_targets = actual(float_data,\n",
        "                     lookback=lookback,\n",
        "                     delay=delay,\n",
        "                     min_index=13972,\n",
        "                     max_index=None,\n",
        "                     step=step,\n",
        "                     batch_size=batch_size)"
      ],
      "execution_count": 0,
      "outputs": []
    },
    {
      "cell_type": "code",
      "metadata": {
        "id": "3IokkyFm0Dk4",
        "colab_type": "code",
        "outputId": "7d64746a-4df4-4664-8364-d52a501a8e31",
        "colab": {
          "base_uri": "https://localhost:8080/",
          "height": 1000
        }
      },
      "source": [
        "test_targets[0]"
      ],
      "execution_count": 0,
      "outputs": [
        {
          "output_type": "execute_result",
          "data": {
            "text/plain": [
              "array([[[-0.21851011,  0.4131578 , -0.69616683,  0.13580625,\n",
              "         -1.19475249, -1.65998418, -1.288602  ],\n",
              "        [-0.21863338,  0.66431969, -0.89539159, -0.31450647,\n",
              "         -0.31537446,  0.88465961,  0.31641876],\n",
              "        [-0.21756246,  0.80687104, -0.80684725, -0.46259589,\n",
              "         -0.5776451 ,  0.94305625,  0.37364014]],\n",
              "\n",
              "       [[-0.21863338,  0.66431969, -0.89539159, -0.31450647,\n",
              "         -0.31537446,  0.88465961,  0.31641876],\n",
              "        [-0.21756246,  0.80687104, -0.80684725, -0.46259589,\n",
              "         -0.5776451 ,  0.94305625,  0.37364014],\n",
              "        [-0.2179892 ,  0.77157261, -0.87229307, -0.14677254,\n",
              "         -0.07624534,  0.67343121,  0.17401792]],\n",
              "\n",
              "       [[-0.21756246,  0.80687104, -0.80684725, -0.46259589,\n",
              "         -0.5776451 ,  0.94305625,  0.37364014],\n",
              "        [-0.2179892 ,  0.77157261, -0.87229307, -0.14677254,\n",
              "         -0.07624534,  0.67343121,  0.17401792],\n",
              "        [-0.20987922,  0.55706678, -0.52774011,  0.21589542,\n",
              "         -0.45422362, -1.08980021,  0.32888166]],\n",
              "\n",
              "       [[-0.2179892 ,  0.77157261, -0.87229307, -0.14677254,\n",
              "         -0.07624534,  0.67343121,  0.17401792],\n",
              "        [-0.20987922,  0.55706678, -0.52774011,  0.21589542,\n",
              "         -0.45422362, -1.08980021,  0.32888166],\n",
              "        [-0.20512307,  0.50819203, -0.36316314,  0.36247372,\n",
              "          0.43286826, -1.25406628,  0.43222027]],\n",
              "\n",
              "       [[-0.20987922,  0.55706678, -0.52774011,  0.21589542,\n",
              "         -0.45422362, -1.08980021,  0.32888166],\n",
              "        [-0.20512307,  0.50819203, -0.36316314,  0.36247372,\n",
              "          0.43286826, -1.25406628,  0.43222027],\n",
              "        [-0.17422384,  0.39550858, -0.06817576,  0.29900683,\n",
              "         -1.00962027, -2.13440584,  0.0096676 ]],\n",
              "\n",
              "       [[-0.20512307,  0.50819203, -0.36316314,  0.36247372,\n",
              "          0.43286826, -1.25406628,  0.43222027],\n",
              "        [-0.17422384,  0.39550858, -0.06817576,  0.29900683,\n",
              "         -1.00962027, -2.13440584,  0.0096676 ],\n",
              "        [-0.19584098,  0.45388675,  0.05549758,  0.06327265,\n",
              "         -0.41565441,  0.65291071,  0.40851733]],\n",
              "\n",
              "       [[-0.17422384,  0.39550858, -0.06817576,  0.29900683,\n",
              "         -1.00962027, -2.13440584,  0.0096676 ],\n",
              "        [-0.19584098,  0.45388675,  0.05549758,  0.06327265,\n",
              "         -0.41565441,  0.65291071,  0.40851733],\n",
              "        [-0.15032296,  0.22173171,  0.23787966,  0.11465061,\n",
              "         -0.62392815,  1.27893902, -0.06518727]],\n",
              "\n",
              "       [[-0.19584098,  0.45388675,  0.05549758,  0.06327265,\n",
              "         -0.41565441,  0.65291071,  0.40851733],\n",
              "        [-0.15032296,  0.22173171,  0.23787966,  0.11465061,\n",
              "         -0.62392815,  1.27893902, -0.06518727],\n",
              "        [-0.217007  ,  0.14027379, -0.37374996,  0.0950061 ,\n",
              "         -0.00682076,  0.70436509,  1.00578732]],\n",
              "\n",
              "       [[-0.15032296,  0.22173171,  0.23787966,  0.11465061,\n",
              "         -0.62392815,  1.27893902, -0.06518727],\n",
              "        [-0.217007  ,  0.14027379, -0.37374996,  0.0950061 ,\n",
              "         -0.00682076,  0.70436509,  1.00578732],\n",
              "        [-0.21867524,  0.27060645, -0.87133063,  0.09349498,\n",
              "          0.71056659,  0.70701948,  0.9851357 ]],\n",
              "\n",
              "       [[-0.217007  ,  0.14027379, -0.37374996,  0.0950061 ,\n",
              "         -0.00682076,  0.70436509,  1.00578732],\n",
              "        [-0.21867524,  0.27060645, -0.87133063,  0.09349498,\n",
              "          0.71056659,  0.70701948,  0.9851357 ],\n",
              "        [-0.21867524,  0.53127177, -0.94206985, -0.14375031,\n",
              "          1.85221526,  0.77695252,  1.06131243]],\n",
              "\n",
              "       [[-0.21867524,  0.27060645, -0.87133063,  0.09349498,\n",
              "          0.71056659,  0.70701948,  0.9851357 ],\n",
              "        [-0.21867524,  0.53127177, -0.94206985, -0.14375031,\n",
              "          1.85221526,  0.77695252,  1.06131243],\n",
              "        [-0.21867524,  0.72269786, -0.85881893, -0.1709504 ,\n",
              "          1.13482792,  0.86250564,  0.94750476]],\n",
              "\n",
              "       [[-0.21867524,  0.53127177, -0.94206985, -0.14375031,\n",
              "          1.85221526,  0.77695252,  1.06131243],\n",
              "        [-0.21867524,  0.72269786, -0.85881893, -0.1709504 ,\n",
              "          1.13482792,  0.86250564,  0.94750476],\n",
              "        [-0.20660238,  0.6901147 , -0.67403075,  0.02549474,\n",
              "          0.00860693, -1.77718583, -0.35166308]],\n",
              "\n",
              "       [[-0.21867524,  0.72269786, -0.85881893, -0.1709504 ,\n",
              "          1.13482792,  0.86250564,  0.94750476],\n",
              "        [-0.20660238,  0.6901147 , -0.67403075,  0.02549474,\n",
              "          0.00860693, -1.77718583, -0.35166308],\n",
              "        [-0.21867295,  0.82452025, -0.85833771,  0.11918396,\n",
              "          1.43566777,  0.83136757,  0.9596787 ]],\n",
              "\n",
              "       [[-0.20660238,  0.6901147 , -0.67403075,  0.02549474,\n",
              "          0.00860693, -1.77718583, -0.35166308],\n",
              "        [-0.21867295,  0.82452025, -0.85833771,  0.11918396,\n",
              "          1.43566777,  0.83136757,  0.9596787 ],\n",
              "        [-0.21867524,  0.77564551, -0.89491037, -0.14677254,\n",
              "          2.85501477,  0.77950482,  1.11590917]],\n",
              "\n",
              "       [[-0.21867295,  0.82452025, -0.85833771,  0.11918396,\n",
              "          1.43566777,  0.83136757,  0.9596787 ],\n",
              "        [-0.21867524,  0.77564551, -0.89491037, -0.14677254,\n",
              "          2.85501477,  0.77950482,  1.11590917],\n",
              "        [-0.21837952,  0.85846105, -1.00510957, -0.62126312,\n",
              "          1.14254176,  0.8156454 ,  0.78270009]],\n",
              "\n",
              "       [[-0.21867524,  0.77564551, -0.89491037, -0.14677254,\n",
              "          2.85501477,  0.77950482,  1.11590917],\n",
              "        [-0.21837952,  0.85846105, -1.00510957, -0.62126312,\n",
              "          1.14254176,  0.8156454 ,  0.78270009],\n",
              "        [-0.11571556,  0.69826049, -0.90838451, -0.53966283,\n",
              "          0.54086205, -0.18158953,  0.41287636]],\n",
              "\n",
              "       [[-0.21837952,  0.85846105, -1.00510957, -0.62126312,\n",
              "          1.14254176,  0.8156454 ,  0.78270009],\n",
              "        [-0.11571556,  0.69826049, -0.90838451, -0.53966283,\n",
              "          0.54086205, -0.18158953,  0.41287636],\n",
              "        [-0.21867524,  0.33441515, -0.92859571, -0.04703885,\n",
              "          1.34310166,  0.73039856,  1.04232389]],\n",
              "\n",
              "       [[-0.11571556,  0.69826049, -0.90838451, -0.53966283,\n",
              "          0.54086205, -0.18158953,  0.41287636],\n",
              "        [-0.21867524,  0.33441515, -0.92859571, -0.04703885,\n",
              "          1.34310166,  0.73039856,  1.04232389],\n",
              "        [-0.21867524,  0.27739461, -1.08787927,  0.03002809,\n",
              "          1.49737851,  0.64178268,  1.43416412]],\n",
              "\n",
              "       [[-0.21867524,  0.33441515, -0.92859571, -0.04703885,\n",
              "          1.34310166,  0.73039856,  1.04232389],\n",
              "        [-0.21867524,  0.27739461, -1.08787927,  0.03002809,\n",
              "          1.49737851,  0.64178268,  1.43416412],\n",
              "        [-0.21867524,  0.59236521, -1.18893531, -0.17699487,\n",
              "          1.4588093 ,  0.71171572,  1.33355098]],\n",
              "\n",
              "       [[-0.21867524,  0.27739461, -1.08787927,  0.03002809,\n",
              "          1.49737851,  0.64178268,  1.43416412],\n",
              "        [-0.21867524,  0.59236521, -1.18893531, -0.17699487,\n",
              "          1.4588093 ,  0.71171572,  1.33355098],\n",
              "        [-0.21867524,  0.85846105, -1.3515874 , -0.40970681,\n",
              "          1.74422147,  0.69844375,  1.36101781]],\n",
              "\n",
              "       [[-0.21867524,  0.59236521, -1.18893531, -0.17699487,\n",
              "          1.4588093 ,  0.71171572,  1.33355098],\n",
              "        [-0.21867524,  0.85846105, -1.3515874 , -0.40970681,\n",
              "          1.74422147,  0.69844375,  1.36101781],\n",
              "        [-0.21867524,  1.13813322, -1.43002613, -0.74064132,\n",
              "          0.01632077,  0.74836676,  1.3250106 ]],\n",
              "\n",
              "       [[-0.21867524,  0.85846105, -1.3515874 , -0.40970681,\n",
              "          1.74422147,  0.69844375,  1.36101781],\n",
              "        [-0.21867524,  1.13813322, -1.43002613, -0.74064132,\n",
              "          0.01632077,  0.74836676,  1.3250106 ],\n",
              "        [-0.21867524,  1.25896245, -1.43146979, -0.71495234,\n",
              "         -0.60850047, -0.61160115,  0.95201504]],\n",
              "\n",
              "       [[-0.21867524,  1.13813322, -1.43002613, -0.74064132,\n",
              "          0.01632077,  0.74836676,  1.3250106 ],\n",
              "        [-0.21867524,  1.25896245, -1.43146979, -0.71495234,\n",
              "         -0.60850047, -0.61160115,  0.95201504],\n",
              "        [-0.21867467,  1.13270269, -1.23657601, -0.26463963,\n",
              "         -0.40794056, -0.69501034,  0.78529461]],\n",
              "\n",
              "       [[-0.21867524,  1.25896245, -1.43146979, -0.71495234,\n",
              "         -0.60850047, -0.61160115,  0.95201504],\n",
              "        [-0.21867467,  1.13270269, -1.23657601, -0.26463963,\n",
              "         -0.40794056, -0.69501034,  0.78529461],\n",
              "        [-0.21867524,  1.11776874, -1.07248026, -0.37344001,\n",
              "         -0.99419259, -1.2179257 ,  0.84524515]],\n",
              "\n",
              "       [[-0.21867467,  1.13270269, -1.23657601, -0.26463963,\n",
              "         -0.40794056, -0.69501034,  0.78529461],\n",
              "        [-0.21867524,  1.11776874, -1.07248026, -0.37344001,\n",
              "         -0.99419259, -1.2179257 ,  0.84524515],\n",
              "        [-0.21867524,  1.12727216, -1.20770286, -0.89628632,\n",
              "          0.47915131,  0.66505966,  1.05940036]],\n",
              "\n",
              "       [[-0.21867524,  1.11776874, -1.07248026, -0.37344001,\n",
              "         -0.99419259, -1.2179257 ,  0.84524515],\n",
              "        [-0.21867524,  1.12727216, -1.20770286, -0.89628632,\n",
              "          0.47915131,  0.66505966,  1.05940036],\n",
              "        [-0.21867524,  1.17750454, -1.26256185, -0.90686413,\n",
              "         -0.5776451 , -0.62977353,  1.22514876]],\n",
              "\n",
              "       [[-0.21867524,  1.12727216, -1.20770286, -0.89628632,\n",
              "          0.47915131,  0.66505966,  1.05940036],\n",
              "        [-0.21867524,  1.17750454, -1.26256185, -0.90686413,\n",
              "         -0.5776451 , -0.62977353,  1.22514876],\n",
              "        [-0.21867524,  1.20873007, -1.13936973, -0.54117394,\n",
              "         -0.5776451 , -0.76994588,  1.1773076 ]],\n",
              "\n",
              "       [[-0.21867524,  1.17750454, -1.26256185, -0.90686413,\n",
              "         -0.5776451 , -0.62977353,  1.22514876],\n",
              "        [-0.21867524,  1.20873007, -1.13936973, -0.54117394,\n",
              "         -0.5776451 , -0.76994588,  1.1773076 ],\n",
              "        [-0.21867481,  0.98607845, -0.67354953, -0.37495113,\n",
              "         -1.07133101, -1.2026119 ,  0.93298961]],\n",
              "\n",
              "       [[-0.21867524,  1.20873007, -1.13936973, -0.54117394,\n",
              "         -0.5776451 , -0.76994588,  1.1773076 ],\n",
              "        [-0.21867481,  0.98607845, -0.67354953, -0.37495113,\n",
              "         -1.07133101, -1.2026119 ,  0.93298961],\n",
              "        [-0.21852889,  0.98200555, -0.63120224, -0.14223919,\n",
              "          0.98055107, -1.07877427,  0.81778878]],\n",
              "\n",
              "       [[-0.21867481,  0.98607845, -0.67354953, -0.37495113,\n",
              "         -1.07133101, -1.2026119 ,  0.93298961],\n",
              "        [-0.21852889,  0.98200555, -0.63120224, -0.14223919,\n",
              "          0.98055107, -1.07877427,  0.81778878],\n",
              "        [-0.1931322 ,  0.94534949, -0.36171948, -0.22837283,\n",
              "         -1.35674318, -0.71389736,  0.8816563 ]],\n",
              "\n",
              "       [[-0.21852889,  0.98200555, -0.63120224, -0.14223919,\n",
              "          0.98055107, -1.07877427,  0.81778878],\n",
              "        [-0.1931322 ,  0.94534949, -0.36171948, -0.22837283,\n",
              "         -1.35674318, -0.71389736,  0.8816563 ],\n",
              "        [-0.21839558,  1.09333136, -0.86266868, -0.36437331,\n",
              "          0.27087757,  0.76868307,  1.14824226]],\n",
              "\n",
              "       [[-0.1931322 ,  0.94534949, -0.36171948, -0.22837283,\n",
              "         -1.35674318, -0.71389736,  0.8816563 ],\n",
              "        [-0.21839558,  1.09333136, -0.86266868, -0.36437331,\n",
              "          0.27087757,  0.76868307,  1.14824226],\n",
              "        [-0.21764732,  1.094689  , -1.02195224, -0.31148424,\n",
              "          1.06540334,  1.00717005,  0.87652998]]])"
            ]
          },
          "metadata": {
            "tags": []
          },
          "execution_count": 71
        }
      ]
    },
    {
      "cell_type": "code",
      "metadata": {
        "id": "FX1FEi4JgGjV",
        "colab_type": "code",
        "colab": {}
      },
      "source": [
        "float_data = dataset.values"
      ],
      "execution_count": 0,
      "outputs": []
    },
    {
      "cell_type": "code",
      "metadata": {
        "id": "rpA41_wggboL",
        "colab_type": "code",
        "outputId": "22d22eda-5de6-4568-9f94-26562751ad8f",
        "colab": {
          "base_uri": "https://localhost:8080/",
          "height": 34
        }
      },
      "source": [
        "type(float_data)"
      ],
      "execution_count": 0,
      "outputs": [
        {
          "output_type": "execute_result",
          "data": {
            "text/plain": [
              "numpy.ndarray"
            ]
          },
          "metadata": {
            "tags": []
          },
          "execution_count": 8
        }
      ]
    },
    {
      "cell_type": "code",
      "metadata": {
        "id": "Sr0eYCUdgAMf",
        "colab_type": "code",
        "colab": {}
      },
      "source": [
        "\n",
        "mean = float_data[:13241].mean(axis=0)\n",
        "float_data -= mean\n",
        "\n",
        "std = float_data[:13241].std(axis=0)\n",
        "float_data /= std"
      ],
      "execution_count": 0,
      "outputs": []
    },
    {
      "cell_type": "code",
      "metadata": {
        "id": "N1bW1W5IfqvD",
        "colab_type": "code",
        "colab": {}
      },
      "source": [
        "def generator(data, lookback, delay, min_index, max_index,\n",
        "              shuffle=False, batch_size=64, step=1):\n",
        "  if max_index is None:\n",
        "    max_index = len(data) - delay - 1\n",
        "  i = min_index + lookback\n",
        "  X, y = list(), list()\n",
        "  in_start = 0\n",
        "  # step over the entire history one time step at a time\n",
        "  for _ in range(len(data)):\n",
        "    # define the end of the input sequence\n",
        "    in_end = in_start + lookback\n",
        "    out_end = in_end + delay\n",
        "    # ensure we have enough data for this instance\n",
        "    if out_end <= len(data):\n",
        "      X.append(data[in_start:in_end, :])\n",
        "      y.append(data[in_end:out_end, 0])\n",
        "      # move along one time step\n",
        "      in_start += 1\n",
        "  X,y =  array(X), array(y)  \n",
        "  while 1:\n",
        "\n",
        "        # if shuffle:\n",
        "        #     rows = np.random.randint(\n",
        "        #         min_index + lookback, max_index, size=batch_size)\n",
        "        # else:\n",
        "        #     if i + batch_size >= max_index:\n",
        "        #         i = min_index + lookback\n",
        "        #     rows = np.arange(i, min(i + batch_size, max_index))\n",
        "        #     i += len(rows)\n",
        "        n_batches = len(X)//batch_size + 1\n",
        "        remainder = len(X)%(batch_size)\n",
        "       \n",
        "        for j in range(n_batches+1):\n",
        "            indices = range(j*batch_size,(j+1)*batch_size)\n",
        "            if j==(n_batches):\n",
        "              samples[j] = X[-remainder:]\n",
        "              targets[j] = y[-remainder:]\n",
        "            samples[j] = X[indices]\n",
        "            targets[j] =  y[indices]\n",
        "        return samples, targets"
      ],
      "execution_count": 0,
      "outputs": []
    },
    {
      "cell_type": "code",
      "metadata": {
        "id": "AJc-7HZ2risD",
        "colab_type": "code",
        "outputId": "9938cb6d-7a29-4dc0-c738-36b4f1eddaa0",
        "colab": {
          "base_uri": "https://localhost:8080/",
          "height": 397
        }
      },
      "source": [
        "train_targets = generator(float_data,\n",
        "                     lookback=3,\n",
        "                     delay=1,\n",
        "                     min_index=0,\n",
        "                     max_index=13241,\n",
        "                     )"
      ],
      "execution_count": 0,
      "outputs": [
        {
          "output_type": "error",
          "ename": "ValueError",
          "evalue": "ignored",
          "traceback": [
            "\u001b[0;31m---------------------------------------------------------------------------\u001b[0m",
            "\u001b[0;31mTypeError\u001b[0m                                 Traceback (most recent call last)",
            "\u001b[0;31mTypeError\u001b[0m: only size-1 arrays can be converted to Python scalars",
            "\nThe above exception was the direct cause of the following exception:\n",
            "\u001b[0;31mValueError\u001b[0m                                Traceback (most recent call last)",
            "\u001b[0;32m<ipython-input-63-71e18e6c2ea1>\u001b[0m in \u001b[0;36m<module>\u001b[0;34m()\u001b[0m\n\u001b[1;32m      3\u001b[0m                      \u001b[0mdelay\u001b[0m\u001b[0;34m=\u001b[0m\u001b[0;36m1\u001b[0m\u001b[0;34m,\u001b[0m\u001b[0;34m\u001b[0m\u001b[0;34m\u001b[0m\u001b[0m\n\u001b[1;32m      4\u001b[0m                      \u001b[0mmin_index\u001b[0m\u001b[0;34m=\u001b[0m\u001b[0;36m0\u001b[0m\u001b[0;34m,\u001b[0m\u001b[0;34m\u001b[0m\u001b[0;34m\u001b[0m\u001b[0m\n\u001b[0;32m----> 5\u001b[0;31m                      \u001b[0mmax_index\u001b[0m\u001b[0;34m=\u001b[0m\u001b[0;36m13241\u001b[0m\u001b[0;34m,\u001b[0m\u001b[0;34m\u001b[0m\u001b[0;34m\u001b[0m\u001b[0m\n\u001b[0m\u001b[1;32m      6\u001b[0m                      )\n",
            "\u001b[0;32m<ipython-input-62-0e5ebf40bd5c>\u001b[0m in \u001b[0;36mgenerator\u001b[0;34m(data, lookback, delay, min_index, max_index, shuffle, batch_size, step)\u001b[0m\n\u001b[1;32m     41\u001b[0m               \u001b[0mtargets\u001b[0m\u001b[0;34m[\u001b[0m\u001b[0mj\u001b[0m\u001b[0;34m]\u001b[0m \u001b[0;34m=\u001b[0m \u001b[0my\u001b[0m\u001b[0;34m[\u001b[0m\u001b[0;34m-\u001b[0m\u001b[0mremainder\u001b[0m\u001b[0;34m:\u001b[0m\u001b[0;34m]\u001b[0m\u001b[0;34m\u001b[0m\u001b[0;34m\u001b[0m\u001b[0m\n\u001b[1;32m     42\u001b[0m             \u001b[0msamples\u001b[0m\u001b[0;34m[\u001b[0m\u001b[0mj\u001b[0m\u001b[0;34m]\u001b[0m \u001b[0;34m=\u001b[0m \u001b[0mX\u001b[0m\u001b[0;34m[\u001b[0m\u001b[0mindices\u001b[0m\u001b[0;34m]\u001b[0m\u001b[0;34m\u001b[0m\u001b[0;34m\u001b[0m\u001b[0m\n\u001b[0;32m---> 43\u001b[0;31m             \u001b[0mtargets\u001b[0m\u001b[0;34m[\u001b[0m\u001b[0mj\u001b[0m\u001b[0;34m]\u001b[0m \u001b[0;34m=\u001b[0m  \u001b[0my\u001b[0m\u001b[0;34m[\u001b[0m\u001b[0mindices\u001b[0m\u001b[0;34m]\u001b[0m\u001b[0;34m\u001b[0m\u001b[0;34m\u001b[0m\u001b[0m\n\u001b[0m\u001b[1;32m     44\u001b[0m         \u001b[0;32mreturn\u001b[0m \u001b[0msamples\u001b[0m\u001b[0;34m,\u001b[0m \u001b[0mtargets\u001b[0m\u001b[0;34m\u001b[0m\u001b[0;34m\u001b[0m\u001b[0m\n",
            "\u001b[0;31mValueError\u001b[0m: setting an array element with a sequence."
          ]
        }
      ]
    },
    {
      "cell_type": "code",
      "metadata": {
        "id": "ijbmUWr3gMeK",
        "colab_type": "code",
        "colab": {}
      },
      "source": [
        "lookback = 3\n",
        "step = 1\n",
        "delay = 1\n",
        "batch_size = 32\n",
        "\n",
        "train_gen = generator(float_data,\n",
        "                      lookback=lookback,\n",
        "                      delay=delay,\n",
        "                      min_index=0,\n",
        "                      max_index=13241,\n",
        "                      shuffle=False,\n",
        "                      step=step, \n",
        "                      batch_size=batch_size)\n",
        "val_gen = generator(float_data,\n",
        "                    lookback=lookback,\n",
        "                    delay=delay,\n",
        "                    min_index=13242,\n",
        "                    max_index=13971,\n",
        "                    step=step,\n",
        "                    batch_size=batch_size)\n",
        "test_gen = generator(float_data,\n",
        "                     lookback=lookback,\n",
        "                     delay=delay,\n",
        "                     min_index=13972,\n",
        "                     max_index=None,\n",
        "                     step=step,\n",
        "                     batch_size=batch_size)\n",
        "\n",
        "# This is how many steps to draw from `val_gen`\n",
        "# in order to see the whole validation set:\n",
        "val_steps = (13971 - 13242 - lookback) // batch_size\n",
        "\n",
        "# This is how many steps to draw from `test_gen`\n",
        "# in order to see the whole test set:\n",
        "test_steps = (len(float_data) - 13972 - lookback) // batch_size"
      ],
      "execution_count": 0,
      "outputs": []
    },
    {
      "cell_type": "code",
      "metadata": {
        "id": "uR2GT7IMC0Kk",
        "colab_type": "code",
        "outputId": "cec3506f-26e7-4304-e637-892411a1391e",
        "colab": {
          "base_uri": "https://localhost:8080/",
          "height": 34
        }
      },
      "source": [
        "test_targets[0].shape"
      ],
      "execution_count": 0,
      "outputs": [
        {
          "output_type": "execute_result",
          "data": {
            "text/plain": [
              "(32, 3, 7)"
            ]
          },
          "metadata": {
            "tags": []
          },
          "execution_count": 42
        }
      ]
    },
    {
      "cell_type": "code",
      "metadata": {
        "id": "6fWAltM1C2Oc",
        "colab_type": "code",
        "colab": {}
      },
      "source": [
        " kbfekbf\n",
        "  fkk,jefnjbkjbf\n",
        "  jbfkhskhf"
      ],
      "execution_count": 0,
      "outputs": []
    }
  ]
}